{
  "nbformat": 4,
  "nbformat_minor": 0,
  "metadata": {
    "colab": {
      "provenance": [],
      "authorship_tag": "ABX9TyNHQIfxcbCoZrrOKYw6gdK0",
      "include_colab_link": true
    },
    "kernelspec": {
      "name": "ir",
      "display_name": "R"
    },
    "language_info": {
      "name": "R"
    }
  },
  "cells": [
    {
      "cell_type": "markdown",
      "metadata": {
        "id": "view-in-github",
        "colab_type": "text"
      },
      "source": [
        "<a href=\"https://colab.research.google.com/github/Brandon-Bernal-Alarcon/Notas--R/blob/main/Manipulacion_Dplyr/Manipular_cadenas.ipynb\" target=\"_parent\"><img src=\"https://colab.research.google.com/assets/colab-badge.svg\" alt=\"Open In Colab\"/></a>"
      ]
    },
    {
      "cell_type": "code",
      "execution_count": 1,
      "metadata": {
        "id": "i_glSGK_Fpsk"
      },
      "outputs": [],
      "source": [
        "# Cargar librería necesaria\n",
        "library(stringr)\n",
        "library(forcats)  # Solo si usas fct_collapse"
      ]
    },
    {
      "cell_type": "code",
      "source": [
        "# Crear el data frame con ingresos como texto con comas\n",
        "sales <- data.frame(\n",
        "  company = c(\"A\", \"B\", \"C\", \"D\"),\n",
        "    revenue = c(\"150,000\", \"200,000\", \"180,000\", \"270,000\")\n",
        "    )\n",
        "sales"
      ],
      "metadata": {
        "colab": {
          "base_uri": "https://localhost:8080/",
          "height": 223
        },
        "id": "D5lhwWBabKfo",
        "outputId": "ed9691ac-dc4e-426e-8147-6fa5a87e43eb"
      },
      "execution_count": 8,
      "outputs": [
        {
          "output_type": "display_data",
          "data": {
            "text/html": [
              "<table class=\"dataframe\">\n",
              "<caption>A data.frame: 4 × 2</caption>\n",
              "<thead>\n",
              "\t<tr><th scope=col>company</th><th scope=col>revenue</th></tr>\n",
              "\t<tr><th scope=col>&lt;chr&gt;</th><th scope=col>&lt;chr&gt;</th></tr>\n",
              "</thead>\n",
              "<tbody>\n",
              "\t<tr><td>A</td><td>150,000</td></tr>\n",
              "\t<tr><td>B</td><td>200,000</td></tr>\n",
              "\t<tr><td>C</td><td>180,000</td></tr>\n",
              "\t<tr><td>D</td><td>270,000</td></tr>\n",
              "</tbody>\n",
              "</table>\n"
            ],
            "text/markdown": "\nA data.frame: 4 × 2\n\n| company &lt;chr&gt; | revenue &lt;chr&gt; |\n|---|---|\n| A | 150,000 |\n| B | 200,000 |\n| C | 180,000 |\n| D | 270,000 |\n\n",
            "text/latex": "A data.frame: 4 × 2\n\\begin{tabular}{ll}\n company & revenue\\\\\n <chr> & <chr>\\\\\n\\hline\n\t A & 150,000\\\\\n\t B & 200,000\\\\\n\t C & 180,000\\\\\n\t D & 270,000\\\\\n\\end{tabular}\n",
            "text/plain": [
              "  company revenue\n",
              "1 A       150,000\n",
              "2 B       200,000\n",
              "3 C       180,000\n",
              "4 D       270,000"
            ]
          },
          "metadata": {}
        }
      ]
    },
    {
      "cell_type": "markdown",
      "source": [
        "**str_remove**\n",
        "\n",
        "Elimina caracteres específicos de un texto."
      ],
      "metadata": {
        "id": "Q_ajHYPSbQ8Q"
      }
    },
    {
      "cell_type": "code",
      "source": [
        "sales$revenue_trimmed <- str_remove(sales$revenue, \",\")\n",
        "sales$revenue_usd <- as.numeric(sales$revenue_trimmed)\n",
        "sales\n",
        "# Útil cuando tienes números como texto con comas u otros símbolos (%, $, etc.)"
      ],
      "metadata": {
        "colab": {
          "base_uri": "https://localhost:8080/",
          "height": 223
        },
        "id": "8gtqhpg5bR_P",
        "outputId": "0239ce6c-4d81-4b59-c672-6561e40fc217"
      },
      "execution_count": 10,
      "outputs": [
        {
          "output_type": "display_data",
          "data": {
            "text/html": [
              "<table class=\"dataframe\">\n",
              "<caption>A data.frame: 4 × 4</caption>\n",
              "<thead>\n",
              "\t<tr><th scope=col>company</th><th scope=col>revenue</th><th scope=col>revenue_trimmed</th><th scope=col>revenue_usd</th></tr>\n",
              "\t<tr><th scope=col>&lt;chr&gt;</th><th scope=col>&lt;chr&gt;</th><th scope=col>&lt;chr&gt;</th><th scope=col>&lt;dbl&gt;</th></tr>\n",
              "</thead>\n",
              "<tbody>\n",
              "\t<tr><td>A</td><td>150,000</td><td>150000</td><td>150000</td></tr>\n",
              "\t<tr><td>B</td><td>200,000</td><td>200000</td><td>200000</td></tr>\n",
              "\t<tr><td>C</td><td>180,000</td><td>180000</td><td>180000</td></tr>\n",
              "\t<tr><td>D</td><td>270,000</td><td>270000</td><td>270000</td></tr>\n",
              "</tbody>\n",
              "</table>\n"
            ],
            "text/markdown": "\nA data.frame: 4 × 4\n\n| company &lt;chr&gt; | revenue &lt;chr&gt; | revenue_trimmed &lt;chr&gt; | revenue_usd &lt;dbl&gt; |\n|---|---|---|---|\n| A | 150,000 | 150000 | 150000 |\n| B | 200,000 | 200000 | 200000 |\n| C | 180,000 | 180000 | 180000 |\n| D | 270,000 | 270000 | 270000 |\n\n",
            "text/latex": "A data.frame: 4 × 4\n\\begin{tabular}{llll}\n company & revenue & revenue\\_trimmed & revenue\\_usd\\\\\n <chr> & <chr> & <chr> & <dbl>\\\\\n\\hline\n\t A & 150,000 & 150000 & 150000\\\\\n\t B & 200,000 & 200000 & 200000\\\\\n\t C & 180,000 & 180000 & 180000\\\\\n\t D & 270,000 & 270000 & 270000\\\\\n\\end{tabular}\n",
            "text/plain": [
              "  company revenue revenue_trimmed revenue_usd\n",
              "1 A       150,000 150000          150000     \n",
              "2 B       200,000 200000          200000     \n",
              "3 C       180,000 180000          180000     \n",
              "4 D       270,000 270000          270000     "
            ]
          },
          "metadata": {}
        }
      ]
    },
    {
      "cell_type": "markdown",
      "source": [
        "**mean()**\n",
        "Calcula la media o promedio de un vector numérico\n"
      ],
      "metadata": {
        "id": "PS5ItuiRb4Sw"
      }
    },
    {
      "cell_type": "code",
      "source": [
        "options(scipen = 999)  # Alta penalización para que evite notación científica\n",
        "mean(sales$revenue_usd)"
      ],
      "metadata": {
        "colab": {
          "base_uri": "https://localhost:8080/",
          "height": 34
        },
        "id": "_3hGX9tIb6VZ",
        "outputId": "fed2c1ce-0f59-4104-9790-e908a0e811e0"
      },
      "execution_count": 13,
      "outputs": [
        {
          "output_type": "display_data",
          "data": {
            "text/html": [
              "200000"
            ],
            "text/markdown": "200000",
            "text/latex": "200000",
            "text/plain": [
              "[1] 200000"
            ]
          },
          "metadata": {}
        }
      ]
    },
    {
      "cell_type": "markdown",
      "source": [
        "** Replace ()**\n",
        "\n",
        " Cambia valores en un vector según una condición."
      ],
      "metadata": {
        "id": "6bdRlTbecTGC"
      }
    },
    {
      "cell_type": "code",
      "source": [
        "vector <- c(1, 2, 2, 3, 4)\n",
        "replace(vector, vector == 2, 99)"
      ],
      "metadata": {
        "colab": {
          "base_uri": "https://localhost:8080/",
          "height": 34
        },
        "id": "Z6144yJ9cUa5",
        "outputId": "0fb83637-4240-4415-9cf7-4a28b9d2e3b4"
      },
      "execution_count": 14,
      "outputs": [
        {
          "output_type": "display_data",
          "data": {
            "text/html": [
              "<style>\n",
              ".list-inline {list-style: none; margin:0; padding: 0}\n",
              ".list-inline>li {display: inline-block}\n",
              ".list-inline>li:not(:last-child)::after {content: \"\\00b7\"; padding: 0 .5ex}\n",
              "</style>\n",
              "<ol class=list-inline><li>1</li><li>99</li><li>99</li><li>3</li><li>4</li></ol>\n"
            ],
            "text/markdown": "1. 1\n2. 99\n3. 99\n4. 3\n5. 4\n\n\n",
            "text/latex": "\\begin{enumerate*}\n\\item 1\n\\item 99\n\\item 99\n\\item 3\n\\item 4\n\\end{enumerate*}\n",
            "text/plain": [
              "[1]  1 99 99  3  4"
            ]
          },
          "metadata": {}
        }
      ]
    },
    {
      "cell_type": "markdown",
      "source": [
        "** duplicated y distinct **\n",
        "\n",
        "duplicated() detecta valores duplicados y distinct() elimina duplicados, para cuando hay duplicados parciales (se repiten unos datos)  distinct(data, .keep_all = TRUE)\n"
      ],
      "metadata": {
        "id": "r6ZW36MwcX9H"
      }
    },
    {
      "cell_type": "code",
      "source": [
        "duplicated(c(1, 2, 2, 3))  # TRUE donde hay duplicado"
      ],
      "metadata": {
        "colab": {
          "base_uri": "https://localhost:8080/",
          "height": 34
        },
        "id": "QsVg8euIcZhO",
        "outputId": "48817660-784f-49e7-8afc-8cd531377f16"
      },
      "execution_count": 16,
      "outputs": [
        {
          "output_type": "display_data",
          "data": {
            "text/html": [
              "<style>\n",
              ".list-inline {list-style: none; margin:0; padding: 0}\n",
              ".list-inline>li {display: inline-block}\n",
              ".list-inline>li:not(:last-child)::after {content: \"\\00b7\"; padding: 0 .5ex}\n",
              "</style>\n",
              "<ol class=list-inline><li>FALSE</li><li>FALSE</li><li>TRUE</li><li>FALSE</li></ol>\n"
            ],
            "text/markdown": "1. FALSE\n2. FALSE\n3. TRUE\n4. FALSE\n\n\n",
            "text/latex": "\\begin{enumerate*}\n\\item FALSE\n\\item FALSE\n\\item TRUE\n\\item FALSE\n\\end{enumerate*}\n",
            "text/plain": [
              "[1] FALSE FALSE  TRUE FALSE"
            ]
          },
          "metadata": {}
        }
      ]
    },
    {
      "cell_type": "code",
      "source": [
        "#Para eliminar filas duplicadas en un data.frame:\n",
        "\n",
        "datos <- data.frame(\n",
        "  nombre = c(\"Ana\", \"Juan\", \"Ana\", \"Luis\"),\n",
        "    edad = c(23, 30, 23, 40)\n",
        "    )\n",
        "\n",
        "    distinct(datos)  # elimina duplicados exactos\n",
        "\n",
        "    distinct(datos, .keep_all = TRUE)  # conserva todas las columnas"
      ],
      "metadata": {
        "colab": {
          "base_uri": "https://localhost:8080/",
          "height": 367
        },
        "id": "5mIxCUJTce1x",
        "outputId": "d6a71e4c-0e7d-4f94-dd49-3c31d5119608"
      },
      "execution_count": 20,
      "outputs": [
        {
          "output_type": "display_data",
          "data": {
            "text/html": [
              "<table class=\"dataframe\">\n",
              "<caption>A data.frame: 3 × 2</caption>\n",
              "<thead>\n",
              "\t<tr><th scope=col>nombre</th><th scope=col>edad</th></tr>\n",
              "\t<tr><th scope=col>&lt;chr&gt;</th><th scope=col>&lt;dbl&gt;</th></tr>\n",
              "</thead>\n",
              "<tbody>\n",
              "\t<tr><td>Ana </td><td>23</td></tr>\n",
              "\t<tr><td>Juan</td><td>30</td></tr>\n",
              "\t<tr><td>Luis</td><td>40</td></tr>\n",
              "</tbody>\n",
              "</table>\n"
            ],
            "text/markdown": "\nA data.frame: 3 × 2\n\n| nombre &lt;chr&gt; | edad &lt;dbl&gt; |\n|---|---|\n| Ana  | 23 |\n| Juan | 30 |\n| Luis | 40 |\n\n",
            "text/latex": "A data.frame: 3 × 2\n\\begin{tabular}{ll}\n nombre & edad\\\\\n <chr> & <dbl>\\\\\n\\hline\n\t Ana  & 23\\\\\n\t Juan & 30\\\\\n\t Luis & 40\\\\\n\\end{tabular}\n",
            "text/plain": [
              "  nombre edad\n",
              "1 Ana    23  \n",
              "2 Juan   30  \n",
              "3 Luis   40  "
            ]
          },
          "metadata": {}
        },
        {
          "output_type": "display_data",
          "data": {
            "text/html": [
              "<table class=\"dataframe\">\n",
              "<caption>A data.frame: 3 × 2</caption>\n",
              "<thead>\n",
              "\t<tr><th scope=col>nombre</th><th scope=col>edad</th></tr>\n",
              "\t<tr><th scope=col>&lt;chr&gt;</th><th scope=col>&lt;dbl&gt;</th></tr>\n",
              "</thead>\n",
              "<tbody>\n",
              "\t<tr><td>Ana </td><td>23</td></tr>\n",
              "\t<tr><td>Juan</td><td>30</td></tr>\n",
              "\t<tr><td>Luis</td><td>40</td></tr>\n",
              "</tbody>\n",
              "</table>\n"
            ],
            "text/markdown": "\nA data.frame: 3 × 2\n\n| nombre &lt;chr&gt; | edad &lt;dbl&gt; |\n|---|---|\n| Ana  | 23 |\n| Juan | 30 |\n| Luis | 40 |\n\n",
            "text/latex": "A data.frame: 3 × 2\n\\begin{tabular}{ll}\n nombre & edad\\\\\n <chr> & <dbl>\\\\\n\\hline\n\t Ana  & 23\\\\\n\t Juan & 30\\\\\n\t Luis & 40\\\\\n\\end{tabular}\n",
            "text/plain": [
              "  nombre edad\n",
              "1 Ana    23  \n",
              "2 Juan   30  \n",
              "3 Luis   40  "
            ]
          },
          "metadata": {}
        }
      ]
    },
    {
      "cell_type": "markdown",
      "source": [
        "** str_to_upper **\n",
        "\n",
        " Convierte texto a mayúsculas."
      ],
      "metadata": {
        "id": "XoPTSoRycqKc"
      }
    },
    {
      "cell_type": "code",
      "source": [
        "str_to_upper(\"hola mundo\")"
      ],
      "metadata": {
        "colab": {
          "base_uri": "https://localhost:8080/",
          "height": 34
        },
        "id": "snluE2LMcr9H",
        "outputId": "454d0aa4-f1ca-4b4e-8e6a-891e70e38402"
      },
      "execution_count": 22,
      "outputs": [
        {
          "output_type": "display_data",
          "data": {
            "text/html": [
              "'HOLA MUNDO'"
            ],
            "text/markdown": "'HOLA MUNDO'",
            "text/latex": "'HOLA MUNDO'",
            "text/plain": [
              "[1] \"HOLA MUNDO\""
            ]
          },
          "metadata": {}
        }
      ]
    },
    {
      "cell_type": "markdown",
      "source": [
        "** str_to_lower**\n",
        "\n",
        "Convierte texto a minúsculas.\n"
      ],
      "metadata": {
        "id": "XobbT1BUdmBV"
      }
    },
    {
      "cell_type": "code",
      "source": [
        "str_to_lower(\"HOLA Mundo\")"
      ],
      "metadata": {
        "colab": {
          "base_uri": "https://localhost:8080/",
          "height": 34
        },
        "id": "WHvR9ub7dnRh",
        "outputId": "4bf408ec-0a30-49f1-a930-d168d940d371"
      },
      "execution_count": 24,
      "outputs": [
        {
          "output_type": "display_data",
          "data": {
            "text/html": [
              "'hola mundo'"
            ],
            "text/markdown": "'hola mundo'",
            "text/latex": "'hola mundo'",
            "text/plain": [
              "[1] \"hola mundo\""
            ]
          },
          "metadata": {}
        }
      ]
    },
    {
      "cell_type": "markdown",
      "source": [
        "** str_trim **\n",
        "Elimina espacios al inicio y final, pero no entre palabras.\n"
      ],
      "metadata": {
        "id": "yfdjo3x4doxb"
      }
    },
    {
      "cell_type": "code",
      "source": [
        "texto <- \"  Hola mundo   \"\n",
        "str_trim(texto)  # \"Hola mundo”"
      ],
      "metadata": {
        "colab": {
          "base_uri": "https://localhost:8080/",
          "height": 34
        },
        "id": "sAiHCVlNdqNq",
        "outputId": "c3be11c1-4992-4eec-d74e-6a12de5e3251"
      },
      "execution_count": 25,
      "outputs": [
        {
          "output_type": "display_data",
          "data": {
            "text/html": [
              "'Hola mundo'"
            ],
            "text/markdown": "'Hola mundo'",
            "text/latex": "'Hola mundo'",
            "text/plain": [
              "[1] \"Hola mundo\""
            ]
          },
          "metadata": {}
        }
      ]
    },
    {
      "cell_type": "markdown",
      "source": [
        "** fct_collapse **\n",
        "\n",
        "Agrupa categorías en factores bajo un nuevo nombre.\n"
      ],
      "metadata": {
        "id": "bv1UdNwOduV3"
      }
    },
    {
      "cell_type": "code",
      "source": [
        "animales <- as.factor(c(\"pug\", \"salchicha\", \"pithull\", \"pajaro\"))\n",
        "perros <- c(\"pug\", \"salchicha\", \"pithull\")\n",
        "\n",
        "fct_collapse(animales, dogs = perros)\n",
        "\n",
        "# Muy útil para agrupar muchas categorías en una sola (por ejemplo: tipos de perros, frutas dulces, colores cálidos, etc.)."
      ],
      "metadata": {
        "colab": {
          "base_uri": "https://localhost:8080/",
          "height": 69
        },
        "id": "F26anvcYdt14",
        "outputId": "f4c4cab2-25be-4a07-e3d5-52ee8ee220b9"
      },
      "execution_count": 26,
      "outputs": [
        {
          "output_type": "display_data",
          "data": {
            "text/html": [
              "<style>\n",
              ".list-inline {list-style: none; margin:0; padding: 0}\n",
              ".list-inline>li {display: inline-block}\n",
              ".list-inline>li:not(:last-child)::after {content: \"\\00b7\"; padding: 0 .5ex}\n",
              "</style>\n",
              "<ol class=list-inline><li>dogs</li><li>dogs</li><li>dogs</li><li>pajaro</li></ol>\n",
              "\n",
              "<details>\n",
              "\t<summary style=display:list-item;cursor:pointer>\n",
              "\t\t<strong>Levels</strong>:\n",
              "\t</summary>\n",
              "\t<style>\n",
              "\t.list-inline {list-style: none; margin:0; padding: 0}\n",
              "\t.list-inline>li {display: inline-block}\n",
              "\t.list-inline>li:not(:last-child)::after {content: \"\\00b7\"; padding: 0 .5ex}\n",
              "\t</style>\n",
              "\t<ol class=list-inline><li>'pajaro'</li><li>'dogs'</li></ol>\n",
              "</details>"
            ],
            "text/markdown": "1. dogs\n2. dogs\n3. dogs\n4. pajaro\n\n\n\n**Levels**: 1. 'pajaro'\n2. 'dogs'\n\n\n",
            "text/latex": "\\begin{enumerate*}\n\\item dogs\n\\item dogs\n\\item dogs\n\\item pajaro\n\\end{enumerate*}\n\n\\emph{Levels}: \\begin{enumerate*}\n\\item 'pajaro'\n\\item 'dogs'\n\\end{enumerate*}\n",
            "text/plain": [
              "[1] dogs   dogs   dogs   pajaro\n",
              "Levels: pajaro dogs"
            ]
          },
          "metadata": {}
        }
      ]
    },
    {
      "cell_type": "markdown",
      "source": [
        "**as.numeric()**\n",
        "\n",
        "Convierte un objeto a tipo numérico (numeric).\n",
        "\n",
        "as.numeric(x)\n",
        "\n",
        "x: objeto que quieres convertir (puede ser texto, factor, etc.)\n",
        "\n",
        "\n",
        "**is.numeric()**\n",
        "\n",
        "Verifica si un objeto ya es de tipo numérico.\n",
        "Devuelve TRUE o FALSE.\n",
        "\n",
        "is.numeric(x)\n",
        "\n",
        "x: objeto que quieres comprobar\n"
      ],
      "metadata": {
        "id": "oTWXl_EOd2iF"
      }
    }
  ]
}