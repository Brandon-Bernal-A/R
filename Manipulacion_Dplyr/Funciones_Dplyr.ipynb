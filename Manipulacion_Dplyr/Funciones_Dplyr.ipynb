{
  "nbformat": 4,
  "nbformat_minor": 0,
  "metadata": {
    "colab": {
      "provenance": [],
      "authorship_tag": "ABX9TyOoWSNT5bXSexrPf2dkegst",
      "include_colab_link": true
    },
    "kernelspec": {
      "name": "ir",
      "display_name": "R"
    },
    "language_info": {
      "name": "R"
    }
  },
  "cells": [
    {
      "cell_type": "markdown",
      "metadata": {
        "id": "view-in-github",
        "colab_type": "text"
      },
      "source": [
        "<a href=\"https://colab.research.google.com/github/Brandon-Bernal-Alarcon/Notas--R/blob/main/Manipulacion_Dplyr/Funciones_Dplyr.ipynb\" target=\"_parent\"><img src=\"https://colab.research.google.com/assets/colab-badge.svg\" alt=\"Open In Colab\"/></a>"
      ]
    },
    {
      "cell_type": "markdown",
      "source": [
        "**Funciones simples de dplyr con datos**"
      ],
      "metadata": {
        "id": "GZLUq9EH1b4v"
      }
    },
    {
      "cell_type": "code",
      "execution_count": 35,
      "metadata": {
        "id": "UXMLG6_b09Sz"
      },
      "outputs": [],
      "source": [
        "# Librerías a usar\n",
        "library(dplyr)\n",
        "library(tibble)\n",
        "\n",
        "# Data frame de ejemplo\n",
        "\n",
        "set.seed(123)\n",
        "datos <- tibble(\n",
        "  id = 1:100,\n",
        "  edad = sample(18:65, 100, replace = TRUE),\n",
        "  sexo = sample(c(\"Hombre\", \"Mujer\"), 100, replace = TRUE),\n",
        "  ciudad = sample(c(\"CDMX\", \"Guadalajara\", \"Monterrey\", \"Puebla\"), 100, replace = TRUE),\n",
        "  ingreso_mensual = round(rnorm(100, mean = 15000, sd = 4000), 0),\n",
        "  nivel_educativo = sample(c(\"Secundaria\", \"Preparatoria\", \"Universidad\", \"Posgrado\"), 100, replace = TRUE)\n",
        ")"
      ]
    },
    {
      "cell_type": "code",
      "source": [
        "head(datos)"
      ],
      "metadata": {
        "colab": {
          "base_uri": "https://localhost:8080/",
          "height": 286
        },
        "id": "DA-eAN9e1Qrb",
        "outputId": "538eb1ae-8fff-4260-94ee-e794ab3ebd0b"
      },
      "execution_count": 2,
      "outputs": [
        {
          "output_type": "display_data",
          "data": {
            "text/html": [
              "<table class=\"dataframe\">\n",
              "<caption>A tibble: 6 × 6</caption>\n",
              "<thead>\n",
              "\t<tr><th scope=col>id</th><th scope=col>edad</th><th scope=col>sexo</th><th scope=col>ciudad</th><th scope=col>ingreso_mensual</th><th scope=col>nivel_educativo</th></tr>\n",
              "\t<tr><th scope=col>&lt;int&gt;</th><th scope=col>&lt;int&gt;</th><th scope=col>&lt;chr&gt;</th><th scope=col>&lt;chr&gt;</th><th scope=col>&lt;dbl&gt;</th><th scope=col>&lt;chr&gt;</th></tr>\n",
              "</thead>\n",
              "<tbody>\n",
              "\t<tr><td>1</td><td>48</td><td>Hombre</td><td>Monterrey  </td><td>20490</td><td>Universidad </td></tr>\n",
              "\t<tr><td>2</td><td>32</td><td>Mujer </td><td>CDMX       </td><td>12743</td><td>Posgrado    </td></tr>\n",
              "\t<tr><td>3</td><td>31</td><td>Hombre</td><td>Guadalajara</td><td>18881</td><td>Posgrado    </td></tr>\n",
              "\t<tr><td>4</td><td>20</td><td>Mujer </td><td>Guadalajara</td><td>14925</td><td>Preparatoria</td></tr>\n",
              "\t<tr><td>5</td><td>59</td><td>Mujer </td><td>CDMX       </td><td>16449</td><td>Secundaria  </td></tr>\n",
              "\t<tr><td>6</td><td>60</td><td>Mujer </td><td>Puebla     </td><td>23045</td><td>Secundaria  </td></tr>\n",
              "</tbody>\n",
              "</table>\n"
            ],
            "text/markdown": "\nA tibble: 6 × 6\n\n| id &lt;int&gt; | edad &lt;int&gt; | sexo &lt;chr&gt; | ciudad &lt;chr&gt; | ingreso_mensual &lt;dbl&gt; | nivel_educativo &lt;chr&gt; |\n|---|---|---|---|---|---|\n| 1 | 48 | Hombre | Monterrey   | 20490 | Universidad  |\n| 2 | 32 | Mujer  | CDMX        | 12743 | Posgrado     |\n| 3 | 31 | Hombre | Guadalajara | 18881 | Posgrado     |\n| 4 | 20 | Mujer  | Guadalajara | 14925 | Preparatoria |\n| 5 | 59 | Mujer  | CDMX        | 16449 | Secundaria   |\n| 6 | 60 | Mujer  | Puebla      | 23045 | Secundaria   |\n\n",
            "text/latex": "A tibble: 6 × 6\n\\begin{tabular}{llllll}\n id & edad & sexo & ciudad & ingreso\\_mensual & nivel\\_educativo\\\\\n <int> & <int> & <chr> & <chr> & <dbl> & <chr>\\\\\n\\hline\n\t 1 & 48 & Hombre & Monterrey   & 20490 & Universidad \\\\\n\t 2 & 32 & Mujer  & CDMX        & 12743 & Posgrado    \\\\\n\t 3 & 31 & Hombre & Guadalajara & 18881 & Posgrado    \\\\\n\t 4 & 20 & Mujer  & Guadalajara & 14925 & Preparatoria\\\\\n\t 5 & 59 & Mujer  & CDMX        & 16449 & Secundaria  \\\\\n\t 6 & 60 & Mujer  & Puebla      & 23045 & Secundaria  \\\\\n\\end{tabular}\n",
            "text/plain": [
              "  id edad sexo   ciudad      ingreso_mensual nivel_educativo\n",
              "1 1  48   Hombre Monterrey   20490           Universidad    \n",
              "2 2  32   Mujer  CDMX        12743           Posgrado       \n",
              "3 3  31   Hombre Guadalajara 18881           Posgrado       \n",
              "4 4  20   Mujer  Guadalajara 14925           Preparatoria   \n",
              "5 5  59   Mujer  CDMX        16449           Secundaria     \n",
              "6 6  60   Mujer  Puebla      23045           Secundaria     "
            ]
          },
          "metadata": {}
        }
      ]
    },
    {
      "cell_type": "markdown",
      "source": [
        "**glimpse()**\n",
        "\n",
        "Muestra una vista rápida del contenido y estructura del data frame."
      ],
      "metadata": {
        "id": "tKNdFpPd1jGZ"
      }
    },
    {
      "cell_type": "code",
      "source": [
        "glimpse(datos)"
      ],
      "metadata": {
        "colab": {
          "base_uri": "https://localhost:8080/"
        },
        "id": "3fFys0Zc1oFJ",
        "outputId": "8f8dee01-722c-4fe5-d453-7ec0e8e8c345"
      },
      "execution_count": 3,
      "outputs": [
        {
          "output_type": "stream",
          "name": "stdout",
          "text": [
            "Rows: 100\n",
            "Columns: 6\n",
            "$ id              \u001b[3m\u001b[90m<int>\u001b[39m\u001b[23m 1\u001b[90m, \u001b[39m2\u001b[90m, \u001b[39m3\u001b[90m, \u001b[39m4\u001b[90m, \u001b[39m5\u001b[90m, \u001b[39m6\u001b[90m, \u001b[39m7\u001b[90m, \u001b[39m8\u001b[90m, \u001b[39m9\u001b[90m, \u001b[39m10\u001b[90m, \u001b[39m11\u001b[90m, \u001b[39m12\u001b[90m, \u001b[39m13\u001b[90m, \u001b[39m14\u001b[90m, \u001b[39m15\u001b[90m, \u001b[39m16\u001b[90m,\u001b[39m…\n",
            "$ edad            \u001b[3m\u001b[90m<int>\u001b[39m\u001b[23m 48\u001b[90m, \u001b[39m32\u001b[90m, \u001b[39m31\u001b[90m, \u001b[39m20\u001b[90m, \u001b[39m59\u001b[90m, \u001b[39m60\u001b[90m, \u001b[39m54\u001b[90m, \u001b[39m31\u001b[90m, \u001b[39m42\u001b[90m, \u001b[39m43\u001b[90m, \u001b[39m44\u001b[90m, \u001b[39m22\u001b[90m, \u001b[39m44\u001b[90m, \u001b[39m45…\n",
            "$ sexo            \u001b[3m\u001b[90m<chr>\u001b[39m\u001b[23m \"Hombre\"\u001b[90m, \u001b[39m\"Mujer\"\u001b[90m, \u001b[39m\"Hombre\"\u001b[90m, \u001b[39m\"Mujer\"\u001b[90m, \u001b[39m\"Mujer\"\u001b[90m, \u001b[39m\"Mujer\"…\n",
            "$ ciudad          \u001b[3m\u001b[90m<chr>\u001b[39m\u001b[23m \"Monterrey\"\u001b[90m, \u001b[39m\"CDMX\"\u001b[90m, \u001b[39m\"Guadalajara\"\u001b[90m, \u001b[39m\"Guadalajara\"\u001b[90m, \u001b[39m\"CD…\n",
            "$ ingreso_mensual \u001b[3m\u001b[90m<dbl>\u001b[39m\u001b[23m 20490\u001b[90m, \u001b[39m12743\u001b[90m, \u001b[39m18881\u001b[90m, \u001b[39m14925\u001b[90m, \u001b[39m16449\u001b[90m, \u001b[39m23045\u001b[90m, \u001b[39m10288\u001b[90m, \u001b[39m11979…\n",
            "$ nivel_educativo \u001b[3m\u001b[90m<chr>\u001b[39m\u001b[23m \"Universidad\"\u001b[90m, \u001b[39m\"Posgrado\"\u001b[90m, \u001b[39m\"Posgrado\"\u001b[90m, \u001b[39m\"Preparatoria\"\u001b[90m,\u001b[39m…\n"
          ]
        }
      ]
    },
    {
      "cell_type": "markdown",
      "source": [
        "**select()**\n",
        "\n",
        "Selecciona columnas específicas.\n"
      ],
      "metadata": {
        "id": "P1-RQ-FK1qrk"
      }
    },
    {
      "cell_type": "code",
      "source": [
        "d <- datos %>%\n",
        "  select(id, edad, ciudad)\n",
        "head(d)"
      ],
      "metadata": {
        "colab": {
          "base_uri": "https://localhost:8080/",
          "height": 286
        },
        "id": "upaubm0u1tAl",
        "outputId": "2193df91-3ab9-4679-ffa6-e1244540b103"
      },
      "execution_count": 5,
      "outputs": [
        {
          "output_type": "display_data",
          "data": {
            "text/html": [
              "<table class=\"dataframe\">\n",
              "<caption>A tibble: 6 × 3</caption>\n",
              "<thead>\n",
              "\t<tr><th scope=col>id</th><th scope=col>edad</th><th scope=col>ciudad</th></tr>\n",
              "\t<tr><th scope=col>&lt;int&gt;</th><th scope=col>&lt;int&gt;</th><th scope=col>&lt;chr&gt;</th></tr>\n",
              "</thead>\n",
              "<tbody>\n",
              "\t<tr><td>1</td><td>48</td><td>Monterrey  </td></tr>\n",
              "\t<tr><td>2</td><td>32</td><td>CDMX       </td></tr>\n",
              "\t<tr><td>3</td><td>31</td><td>Guadalajara</td></tr>\n",
              "\t<tr><td>4</td><td>20</td><td>Guadalajara</td></tr>\n",
              "\t<tr><td>5</td><td>59</td><td>CDMX       </td></tr>\n",
              "\t<tr><td>6</td><td>60</td><td>Puebla     </td></tr>\n",
              "</tbody>\n",
              "</table>\n"
            ],
            "text/markdown": "\nA tibble: 6 × 3\n\n| id &lt;int&gt; | edad &lt;int&gt; | ciudad &lt;chr&gt; |\n|---|---|---|\n| 1 | 48 | Monterrey   |\n| 2 | 32 | CDMX        |\n| 3 | 31 | Guadalajara |\n| 4 | 20 | Guadalajara |\n| 5 | 59 | CDMX        |\n| 6 | 60 | Puebla      |\n\n",
            "text/latex": "A tibble: 6 × 3\n\\begin{tabular}{lll}\n id & edad & ciudad\\\\\n <int> & <int> & <chr>\\\\\n\\hline\n\t 1 & 48 & Monterrey  \\\\\n\t 2 & 32 & CDMX       \\\\\n\t 3 & 31 & Guadalajara\\\\\n\t 4 & 20 & Guadalajara\\\\\n\t 5 & 59 & CDMX       \\\\\n\t 6 & 60 & Puebla     \\\\\n\\end{tabular}\n",
            "text/plain": [
              "  id edad ciudad     \n",
              "1 1  48   Monterrey  \n",
              "2 2  32   CDMX       \n",
              "3 3  31   Guadalajara\n",
              "4 4  20   Guadalajara\n",
              "5 5  59   CDMX       \n",
              "6 6  60   Puebla     "
            ]
          },
          "metadata": {}
        }
      ]
    },
    {
      "cell_type": "markdown",
      "source": [
        "**arrange()**\n",
        "\n",
        "Ordena filas según una o más variables."
      ],
      "metadata": {
        "id": "hBTytqUQ11q9"
      }
    },
    {
      "cell_type": "code",
      "source": [
        "#De menor a mayor:\n",
        "\n",
        "d <- datos %>%\n",
        "  arrange(edad)\n",
        "head(d)"
      ],
      "metadata": {
        "colab": {
          "base_uri": "https://localhost:8080/",
          "height": 286
        },
        "id": "9bhnM6__11WJ",
        "outputId": "44611ae7-7f14-41ae-ccc0-dff106bf9d86"
      },
      "execution_count": 7,
      "outputs": [
        {
          "output_type": "display_data",
          "data": {
            "text/html": [
              "<table class=\"dataframe\">\n",
              "<caption>A tibble: 6 × 6</caption>\n",
              "<thead>\n",
              "\t<tr><th scope=col>id</th><th scope=col>edad</th><th scope=col>sexo</th><th scope=col>ciudad</th><th scope=col>ingreso_mensual</th><th scope=col>nivel_educativo</th></tr>\n",
              "\t<tr><th scope=col>&lt;int&gt;</th><th scope=col>&lt;int&gt;</th><th scope=col>&lt;chr&gt;</th><th scope=col>&lt;chr&gt;</th><th scope=col>&lt;dbl&gt;</th><th scope=col>&lt;chr&gt;</th></tr>\n",
              "</thead>\n",
              "<tbody>\n",
              "\t<tr><td> 4</td><td>20</td><td>Mujer </td><td>Guadalajara</td><td>14925</td><td>Preparatoria</td></tr>\n",
              "\t<tr><td>97</td><td>20</td><td>Mujer </td><td>Monterrey  </td><td>13616</td><td>Universidad </td></tr>\n",
              "\t<tr><td>74</td><td>21</td><td>Mujer </td><td>CDMX       </td><td>14442</td><td>Posgrado    </td></tr>\n",
              "\t<tr><td>12</td><td>22</td><td>Mujer </td><td>CDMX       </td><td>22379</td><td>Universidad </td></tr>\n",
              "\t<tr><td>47</td><td>22</td><td>Hombre</td><td>Guadalajara</td><td>16479</td><td>Posgrado    </td></tr>\n",
              "\t<tr><td>76</td><td>22</td><td>Mujer </td><td>CDMX       </td><td>17154</td><td>Universidad </td></tr>\n",
              "</tbody>\n",
              "</table>\n"
            ],
            "text/markdown": "\nA tibble: 6 × 6\n\n| id &lt;int&gt; | edad &lt;int&gt; | sexo &lt;chr&gt; | ciudad &lt;chr&gt; | ingreso_mensual &lt;dbl&gt; | nivel_educativo &lt;chr&gt; |\n|---|---|---|---|---|---|\n|  4 | 20 | Mujer  | Guadalajara | 14925 | Preparatoria |\n| 97 | 20 | Mujer  | Monterrey   | 13616 | Universidad  |\n| 74 | 21 | Mujer  | CDMX        | 14442 | Posgrado     |\n| 12 | 22 | Mujer  | CDMX        | 22379 | Universidad  |\n| 47 | 22 | Hombre | Guadalajara | 16479 | Posgrado     |\n| 76 | 22 | Mujer  | CDMX        | 17154 | Universidad  |\n\n",
            "text/latex": "A tibble: 6 × 6\n\\begin{tabular}{llllll}\n id & edad & sexo & ciudad & ingreso\\_mensual & nivel\\_educativo\\\\\n <int> & <int> & <chr> & <chr> & <dbl> & <chr>\\\\\n\\hline\n\t  4 & 20 & Mujer  & Guadalajara & 14925 & Preparatoria\\\\\n\t 97 & 20 & Mujer  & Monterrey   & 13616 & Universidad \\\\\n\t 74 & 21 & Mujer  & CDMX        & 14442 & Posgrado    \\\\\n\t 12 & 22 & Mujer  & CDMX        & 22379 & Universidad \\\\\n\t 47 & 22 & Hombre & Guadalajara & 16479 & Posgrado    \\\\\n\t 76 & 22 & Mujer  & CDMX        & 17154 & Universidad \\\\\n\\end{tabular}\n",
            "text/plain": [
              "  id edad sexo   ciudad      ingreso_mensual nivel_educativo\n",
              "1  4 20   Mujer  Guadalajara 14925           Preparatoria   \n",
              "2 97 20   Mujer  Monterrey   13616           Universidad    \n",
              "3 74 21   Mujer  CDMX        14442           Posgrado       \n",
              "4 12 22   Mujer  CDMX        22379           Universidad    \n",
              "5 47 22   Hombre Guadalajara 16479           Posgrado       \n",
              "6 76 22   Mujer  CDMX        17154           Universidad    "
            ]
          },
          "metadata": {}
        }
      ]
    },
    {
      "cell_type": "code",
      "source": [
        "#De mayor a menor:\n",
        "\n",
        "d <- datos %>%\n",
        "  arrange(desc(edad))\n",
        "head(d)"
      ],
      "metadata": {
        "colab": {
          "base_uri": "https://localhost:8080/",
          "height": 286
        },
        "id": "byTAWlP12DEd",
        "outputId": "1d8e9ece-b459-467c-c5cb-6eb6fb1955cd"
      },
      "execution_count": 8,
      "outputs": [
        {
          "output_type": "display_data",
          "data": {
            "text/html": [
              "<table class=\"dataframe\">\n",
              "<caption>A tibble: 6 × 6</caption>\n",
              "<thead>\n",
              "\t<tr><th scope=col>id</th><th scope=col>edad</th><th scope=col>sexo</th><th scope=col>ciudad</th><th scope=col>ingreso_mensual</th><th scope=col>nivel_educativo</th></tr>\n",
              "\t<tr><th scope=col>&lt;int&gt;</th><th scope=col>&lt;int&gt;</th><th scope=col>&lt;chr&gt;</th><th scope=col>&lt;chr&gt;</th><th scope=col>&lt;dbl&gt;</th><th scope=col>&lt;chr&gt;</th></tr>\n",
              "</thead>\n",
              "<tbody>\n",
              "\t<tr><td>71</td><td>65</td><td>Mujer </td><td>CDMX       </td><td>18517</td><td>Posgrado    </td></tr>\n",
              "\t<tr><td>86</td><td>65</td><td>Mujer </td><td>Puebla     </td><td>18183</td><td>Preparatoria</td></tr>\n",
              "\t<tr><td>59</td><td>64</td><td>Hombre</td><td>Puebla     </td><td>17197</td><td>Preparatoria</td></tr>\n",
              "\t<tr><td>81</td><td>63</td><td>Mujer </td><td>Monterrey  </td><td>18887</td><td>Preparatoria</td></tr>\n",
              "\t<tr><td>90</td><td>63</td><td>Mujer </td><td>Monterrey  </td><td>15040</td><td>Preparatoria</td></tr>\n",
              "\t<tr><td>33</td><td>62</td><td>Mujer </td><td>Guadalajara</td><td>18166</td><td>Preparatoria</td></tr>\n",
              "</tbody>\n",
              "</table>\n"
            ],
            "text/markdown": "\nA tibble: 6 × 6\n\n| id &lt;int&gt; | edad &lt;int&gt; | sexo &lt;chr&gt; | ciudad &lt;chr&gt; | ingreso_mensual &lt;dbl&gt; | nivel_educativo &lt;chr&gt; |\n|---|---|---|---|---|---|\n| 71 | 65 | Mujer  | CDMX        | 18517 | Posgrado     |\n| 86 | 65 | Mujer  | Puebla      | 18183 | Preparatoria |\n| 59 | 64 | Hombre | Puebla      | 17197 | Preparatoria |\n| 81 | 63 | Mujer  | Monterrey   | 18887 | Preparatoria |\n| 90 | 63 | Mujer  | Monterrey   | 15040 | Preparatoria |\n| 33 | 62 | Mujer  | Guadalajara | 18166 | Preparatoria |\n\n",
            "text/latex": "A tibble: 6 × 6\n\\begin{tabular}{llllll}\n id & edad & sexo & ciudad & ingreso\\_mensual & nivel\\_educativo\\\\\n <int> & <int> & <chr> & <chr> & <dbl> & <chr>\\\\\n\\hline\n\t 71 & 65 & Mujer  & CDMX        & 18517 & Posgrado    \\\\\n\t 86 & 65 & Mujer  & Puebla      & 18183 & Preparatoria\\\\\n\t 59 & 64 & Hombre & Puebla      & 17197 & Preparatoria\\\\\n\t 81 & 63 & Mujer  & Monterrey   & 18887 & Preparatoria\\\\\n\t 90 & 63 & Mujer  & Monterrey   & 15040 & Preparatoria\\\\\n\t 33 & 62 & Mujer  & Guadalajara & 18166 & Preparatoria\\\\\n\\end{tabular}\n",
            "text/plain": [
              "  id edad sexo   ciudad      ingreso_mensual nivel_educativo\n",
              "1 71 65   Mujer  CDMX        18517           Posgrado       \n",
              "2 86 65   Mujer  Puebla      18183           Preparatoria   \n",
              "3 59 64   Hombre Puebla      17197           Preparatoria   \n",
              "4 81 63   Mujer  Monterrey   18887           Preparatoria   \n",
              "5 90 63   Mujer  Monterrey   15040           Preparatoria   \n",
              "6 33 62   Mujer  Guadalajara 18166           Preparatoria   "
            ]
          },
          "metadata": {}
        }
      ]
    },
    {
      "cell_type": "markdown",
      "source": [
        "**filter()**\n",
        "\n",
        "Filtra filas que cumplan condiciones."
      ],
      "metadata": {
        "id": "OBFxndqN2JSE"
      }
    },
    {
      "cell_type": "code",
      "source": [
        "d <- datos %>%\n",
        "  filter(ciudad == \"CDMX\", ingreso_mensual > 18000)\n",
        "head(d)"
      ],
      "metadata": {
        "colab": {
          "base_uri": "https://localhost:8080/",
          "height": 286
        },
        "id": "wjSOoBBW2L6J",
        "outputId": "e2aca32c-5206-44af-f147-59415d22e4c1"
      },
      "execution_count": 9,
      "outputs": [
        {
          "output_type": "display_data",
          "data": {
            "text/html": [
              "<table class=\"dataframe\">\n",
              "<caption>A tibble: 6 × 6</caption>\n",
              "<thead>\n",
              "\t<tr><th scope=col>id</th><th scope=col>edad</th><th scope=col>sexo</th><th scope=col>ciudad</th><th scope=col>ingreso_mensual</th><th scope=col>nivel_educativo</th></tr>\n",
              "\t<tr><th scope=col>&lt;int&gt;</th><th scope=col>&lt;int&gt;</th><th scope=col>&lt;chr&gt;</th><th scope=col>&lt;chr&gt;</th><th scope=col>&lt;dbl&gt;</th><th scope=col>&lt;chr&gt;</th></tr>\n",
              "</thead>\n",
              "<tbody>\n",
              "\t<tr><td>12</td><td>22</td><td>Mujer </td><td>CDMX</td><td>22379</td><td>Universidad </td></tr>\n",
              "\t<tr><td>14</td><td>45</td><td>Mujer </td><td>CDMX</td><td>23784</td><td>Preparatoria</td></tr>\n",
              "\t<tr><td>26</td><td>34</td><td>Hombre</td><td>CDMX</td><td>22604</td><td>Posgrado    </td></tr>\n",
              "\t<tr><td>42</td><td>49</td><td>Mujer </td><td>CDMX</td><td>18842</td><td>Preparatoria</td></tr>\n",
              "\t<tr><td>51</td><td>35</td><td>Mujer </td><td>CDMX</td><td>19367</td><td>Secundaria  </td></tr>\n",
              "\t<tr><td>64</td><td>23</td><td>Hombre</td><td>CDMX</td><td>19908</td><td>Universidad </td></tr>\n",
              "</tbody>\n",
              "</table>\n"
            ],
            "text/markdown": "\nA tibble: 6 × 6\n\n| id &lt;int&gt; | edad &lt;int&gt; | sexo &lt;chr&gt; | ciudad &lt;chr&gt; | ingreso_mensual &lt;dbl&gt; | nivel_educativo &lt;chr&gt; |\n|---|---|---|---|---|---|\n| 12 | 22 | Mujer  | CDMX | 22379 | Universidad  |\n| 14 | 45 | Mujer  | CDMX | 23784 | Preparatoria |\n| 26 | 34 | Hombre | CDMX | 22604 | Posgrado     |\n| 42 | 49 | Mujer  | CDMX | 18842 | Preparatoria |\n| 51 | 35 | Mujer  | CDMX | 19367 | Secundaria   |\n| 64 | 23 | Hombre | CDMX | 19908 | Universidad  |\n\n",
            "text/latex": "A tibble: 6 × 6\n\\begin{tabular}{llllll}\n id & edad & sexo & ciudad & ingreso\\_mensual & nivel\\_educativo\\\\\n <int> & <int> & <chr> & <chr> & <dbl> & <chr>\\\\\n\\hline\n\t 12 & 22 & Mujer  & CDMX & 22379 & Universidad \\\\\n\t 14 & 45 & Mujer  & CDMX & 23784 & Preparatoria\\\\\n\t 26 & 34 & Hombre & CDMX & 22604 & Posgrado    \\\\\n\t 42 & 49 & Mujer  & CDMX & 18842 & Preparatoria\\\\\n\t 51 & 35 & Mujer  & CDMX & 19367 & Secundaria  \\\\\n\t 64 & 23 & Hombre & CDMX & 19908 & Universidad \\\\\n\\end{tabular}\n",
            "text/plain": [
              "  id edad sexo   ciudad ingreso_mensual nivel_educativo\n",
              "1 12 22   Mujer  CDMX   22379           Universidad    \n",
              "2 14 45   Mujer  CDMX   23784           Preparatoria   \n",
              "3 26 34   Hombre CDMX   22604           Posgrado       \n",
              "4 42 49   Mujer  CDMX   18842           Preparatoria   \n",
              "5 51 35   Mujer  CDMX   19367           Secundaria     \n",
              "6 64 23   Hombre CDMX   19908           Universidad    "
            ]
          },
          "metadata": {}
        }
      ]
    },
    {
      "cell_type": "markdown",
      "source": [
        "**mutate()**\n",
        "\n",
        "Crea o modifica columnas."
      ],
      "metadata": {
        "id": "IbhOWFW42RNu"
      }
    },
    {
      "cell_type": "code",
      "source": [
        "d <- datos %>%\n",
        "  mutate(ingreso_anual = ingreso_mensual * 12)\n",
        "head(d)\n",
        "\n",
        "#Si no quieres conservar las columnas originales:\n",
        "c <- datos %>%\n",
        "  mutate(ingreso_anual = ingreso_mensual * 12, .keep = \"none\")\n",
        "head(c)"
      ],
      "metadata": {
        "colab": {
          "base_uri": "https://localhost:8080/",
          "height": 555
        },
        "id": "RZIqaY2E2UbH",
        "outputId": "b92ac23b-0bdf-4236-c7c0-797963228d31"
      },
      "execution_count": 10,
      "outputs": [
        {
          "output_type": "display_data",
          "data": {
            "text/html": [
              "<table class=\"dataframe\">\n",
              "<caption>A tibble: 6 × 7</caption>\n",
              "<thead>\n",
              "\t<tr><th scope=col>id</th><th scope=col>edad</th><th scope=col>sexo</th><th scope=col>ciudad</th><th scope=col>ingreso_mensual</th><th scope=col>nivel_educativo</th><th scope=col>ingreso_anual</th></tr>\n",
              "\t<tr><th scope=col>&lt;int&gt;</th><th scope=col>&lt;int&gt;</th><th scope=col>&lt;chr&gt;</th><th scope=col>&lt;chr&gt;</th><th scope=col>&lt;dbl&gt;</th><th scope=col>&lt;chr&gt;</th><th scope=col>&lt;dbl&gt;</th></tr>\n",
              "</thead>\n",
              "<tbody>\n",
              "\t<tr><td>1</td><td>48</td><td>Hombre</td><td>Monterrey  </td><td>20490</td><td>Universidad </td><td>245880</td></tr>\n",
              "\t<tr><td>2</td><td>32</td><td>Mujer </td><td>CDMX       </td><td>12743</td><td>Posgrado    </td><td>152916</td></tr>\n",
              "\t<tr><td>3</td><td>31</td><td>Hombre</td><td>Guadalajara</td><td>18881</td><td>Posgrado    </td><td>226572</td></tr>\n",
              "\t<tr><td>4</td><td>20</td><td>Mujer </td><td>Guadalajara</td><td>14925</td><td>Preparatoria</td><td>179100</td></tr>\n",
              "\t<tr><td>5</td><td>59</td><td>Mujer </td><td>CDMX       </td><td>16449</td><td>Secundaria  </td><td>197388</td></tr>\n",
              "\t<tr><td>6</td><td>60</td><td>Mujer </td><td>Puebla     </td><td>23045</td><td>Secundaria  </td><td>276540</td></tr>\n",
              "</tbody>\n",
              "</table>\n"
            ],
            "text/markdown": "\nA tibble: 6 × 7\n\n| id &lt;int&gt; | edad &lt;int&gt; | sexo &lt;chr&gt; | ciudad &lt;chr&gt; | ingreso_mensual &lt;dbl&gt; | nivel_educativo &lt;chr&gt; | ingreso_anual &lt;dbl&gt; |\n|---|---|---|---|---|---|---|\n| 1 | 48 | Hombre | Monterrey   | 20490 | Universidad  | 245880 |\n| 2 | 32 | Mujer  | CDMX        | 12743 | Posgrado     | 152916 |\n| 3 | 31 | Hombre | Guadalajara | 18881 | Posgrado     | 226572 |\n| 4 | 20 | Mujer  | Guadalajara | 14925 | Preparatoria | 179100 |\n| 5 | 59 | Mujer  | CDMX        | 16449 | Secundaria   | 197388 |\n| 6 | 60 | Mujer  | Puebla      | 23045 | Secundaria   | 276540 |\n\n",
            "text/latex": "A tibble: 6 × 7\n\\begin{tabular}{lllllll}\n id & edad & sexo & ciudad & ingreso\\_mensual & nivel\\_educativo & ingreso\\_anual\\\\\n <int> & <int> & <chr> & <chr> & <dbl> & <chr> & <dbl>\\\\\n\\hline\n\t 1 & 48 & Hombre & Monterrey   & 20490 & Universidad  & 245880\\\\\n\t 2 & 32 & Mujer  & CDMX        & 12743 & Posgrado     & 152916\\\\\n\t 3 & 31 & Hombre & Guadalajara & 18881 & Posgrado     & 226572\\\\\n\t 4 & 20 & Mujer  & Guadalajara & 14925 & Preparatoria & 179100\\\\\n\t 5 & 59 & Mujer  & CDMX        & 16449 & Secundaria   & 197388\\\\\n\t 6 & 60 & Mujer  & Puebla      & 23045 & Secundaria   & 276540\\\\\n\\end{tabular}\n",
            "text/plain": [
              "  id edad sexo   ciudad      ingreso_mensual nivel_educativo ingreso_anual\n",
              "1 1  48   Hombre Monterrey   20490           Universidad     245880       \n",
              "2 2  32   Mujer  CDMX        12743           Posgrado        152916       \n",
              "3 3  31   Hombre Guadalajara 18881           Posgrado        226572       \n",
              "4 4  20   Mujer  Guadalajara 14925           Preparatoria    179100       \n",
              "5 5  59   Mujer  CDMX        16449           Secundaria      197388       \n",
              "6 6  60   Mujer  Puebla      23045           Secundaria      276540       "
            ]
          },
          "metadata": {}
        },
        {
          "output_type": "display_data",
          "data": {
            "text/html": [
              "<table class=\"dataframe\">\n",
              "<caption>A tibble: 6 × 1</caption>\n",
              "<thead>\n",
              "\t<tr><th scope=col>ingreso_anual</th></tr>\n",
              "\t<tr><th scope=col>&lt;dbl&gt;</th></tr>\n",
              "</thead>\n",
              "<tbody>\n",
              "\t<tr><td>245880</td></tr>\n",
              "\t<tr><td>152916</td></tr>\n",
              "\t<tr><td>226572</td></tr>\n",
              "\t<tr><td>179100</td></tr>\n",
              "\t<tr><td>197388</td></tr>\n",
              "\t<tr><td>276540</td></tr>\n",
              "</tbody>\n",
              "</table>\n"
            ],
            "text/markdown": "\nA tibble: 6 × 1\n\n| ingreso_anual &lt;dbl&gt; |\n|---|\n| 245880 |\n| 152916 |\n| 226572 |\n| 179100 |\n| 197388 |\n| 276540 |\n\n",
            "text/latex": "A tibble: 6 × 1\n\\begin{tabular}{l}\n ingreso\\_anual\\\\\n <dbl>\\\\\n\\hline\n\t 245880\\\\\n\t 152916\\\\\n\t 226572\\\\\n\t 179100\\\\\n\t 197388\\\\\n\t 276540\\\\\n\\end{tabular}\n",
            "text/plain": [
              "  ingreso_anual\n",
              "1 245880       \n",
              "2 152916       \n",
              "3 226572       \n",
              "4 179100       \n",
              "5 197388       \n",
              "6 276540       "
            ]
          },
          "metadata": {}
        }
      ]
    },
    {
      "cell_type": "markdown",
      "source": [
        "**count()**\n",
        "\n",
        "Cuenta ocurrencias de una variable.\n"
      ],
      "metadata": {
        "id": "cJUZpBmK2com"
      }
    },
    {
      "cell_type": "code",
      "source": [
        "d <- datos %>%\n",
        "  count(ciudad, sort = TRUE)\n",
        "head(d)"
      ],
      "metadata": {
        "colab": {
          "base_uri": "https://localhost:8080/",
          "height": 223
        },
        "id": "gA_Uwquo3Msn",
        "outputId": "b2693cea-bdbf-48b5-8262-db6b32c610b6"
      },
      "execution_count": 11,
      "outputs": [
        {
          "output_type": "display_data",
          "data": {
            "text/html": [
              "<table class=\"dataframe\">\n",
              "<caption>A tibble: 4 × 2</caption>\n",
              "<thead>\n",
              "\t<tr><th scope=col>ciudad</th><th scope=col>n</th></tr>\n",
              "\t<tr><th scope=col>&lt;chr&gt;</th><th scope=col>&lt;int&gt;</th></tr>\n",
              "</thead>\n",
              "<tbody>\n",
              "\t<tr><td>CDMX       </td><td>38</td></tr>\n",
              "\t<tr><td>Guadalajara</td><td>26</td></tr>\n",
              "\t<tr><td>Monterrey  </td><td>18</td></tr>\n",
              "\t<tr><td>Puebla     </td><td>18</td></tr>\n",
              "</tbody>\n",
              "</table>\n"
            ],
            "text/markdown": "\nA tibble: 4 × 2\n\n| ciudad &lt;chr&gt; | n &lt;int&gt; |\n|---|---|\n| CDMX        | 38 |\n| Guadalajara | 26 |\n| Monterrey   | 18 |\n| Puebla      | 18 |\n\n",
            "text/latex": "A tibble: 4 × 2\n\\begin{tabular}{ll}\n ciudad & n\\\\\n <chr> & <int>\\\\\n\\hline\n\t CDMX        & 38\\\\\n\t Guadalajara & 26\\\\\n\t Monterrey   & 18\\\\\n\t Puebla      & 18\\\\\n\\end{tabular}\n",
            "text/plain": [
              "  ciudad      n \n",
              "1 CDMX        38\n",
              "2 Guadalajara 26\n",
              "3 Monterrey   18\n",
              "4 Puebla      18"
            ]
          },
          "metadata": {}
        }
      ]
    },
    {
      "cell_type": "code",
      "source": [
        "#Con ponderación:\n",
        "\n",
        "datos %>%\n",
        "  count(ciudad, wt = ingreso_mensual, sort = TRUE)"
      ],
      "metadata": {
        "colab": {
          "base_uri": "https://localhost:8080/",
          "height": 223
        },
        "id": "lsFKuFN03UbC",
        "outputId": "6f35dffe-10dd-40b3-edd4-b794657ebd0c"
      },
      "execution_count": 12,
      "outputs": [
        {
          "output_type": "display_data",
          "data": {
            "text/html": [
              "<table class=\"dataframe\">\n",
              "<caption>A tibble: 4 × 2</caption>\n",
              "<thead>\n",
              "\t<tr><th scope=col>ciudad</th><th scope=col>n</th></tr>\n",
              "\t<tr><th scope=col>&lt;chr&gt;</th><th scope=col>&lt;dbl&gt;</th></tr>\n",
              "</thead>\n",
              "<tbody>\n",
              "\t<tr><td>CDMX       </td><td>557045</td></tr>\n",
              "\t<tr><td>Guadalajara</td><td>407217</td></tr>\n",
              "\t<tr><td>Monterrey  </td><td>266823</td></tr>\n",
              "\t<tr><td>Puebla     </td><td>258240</td></tr>\n",
              "</tbody>\n",
              "</table>\n"
            ],
            "text/markdown": "\nA tibble: 4 × 2\n\n| ciudad &lt;chr&gt; | n &lt;dbl&gt; |\n|---|---|\n| CDMX        | 557045 |\n| Guadalajara | 407217 |\n| Monterrey   | 266823 |\n| Puebla      | 258240 |\n\n",
            "text/latex": "A tibble: 4 × 2\n\\begin{tabular}{ll}\n ciudad & n\\\\\n <chr> & <dbl>\\\\\n\\hline\n\t CDMX        & 557045\\\\\n\t Guadalajara & 407217\\\\\n\t Monterrey   & 266823\\\\\n\t Puebla      & 258240\\\\\n\\end{tabular}\n",
            "text/plain": [
              "  ciudad      n     \n",
              "1 CDMX        557045\n",
              "2 Guadalajara 407217\n",
              "3 Monterrey   266823\n",
              "4 Puebla      258240"
            ]
          },
          "metadata": {}
        }
      ]
    },
    {
      "cell_type": "markdown",
      "source": [
        "**summarize() y group_by()**\n",
        "\n",
        "Agrupa y resume estadísticas.\n"
      ],
      "metadata": {
        "id": "sIaX8kZf3bYC"
      }
    },
    {
      "cell_type": "code",
      "source": [
        "datos %>%\n",
        "  group_by(ciudad) %>%\n",
        "    summarize(\n",
        "    ingreso_promedio = mean(ingreso_mensual),\n",
        "    edad_maxima = max(edad)\n",
        "    )"
      ],
      "metadata": {
        "colab": {
          "base_uri": "https://localhost:8080/",
          "height": 223
        },
        "id": "oyGyt3763ZWn",
        "outputId": "aaa3c90d-7cc3-4f79-b720-b6986e1ebe58"
      },
      "execution_count": 15,
      "outputs": [
        {
          "output_type": "display_data",
          "data": {
            "text/html": [
              "<table class=\"dataframe\">\n",
              "<caption>A tibble: 4 × 3</caption>\n",
              "<thead>\n",
              "\t<tr><th scope=col>ciudad</th><th scope=col>ingreso_promedio</th><th scope=col>edad_maxima</th></tr>\n",
              "\t<tr><th scope=col>&lt;chr&gt;</th><th scope=col>&lt;dbl&gt;</th><th scope=col>&lt;int&gt;</th></tr>\n",
              "</thead>\n",
              "<tbody>\n",
              "\t<tr><td>CDMX       </td><td>14659.08</td><td>65</td></tr>\n",
              "\t<tr><td>Guadalajara</td><td>15662.19</td><td>62</td></tr>\n",
              "\t<tr><td>Monterrey  </td><td>14823.50</td><td>63</td></tr>\n",
              "\t<tr><td>Puebla     </td><td>14346.67</td><td>65</td></tr>\n",
              "</tbody>\n",
              "</table>\n"
            ],
            "text/markdown": "\nA tibble: 4 × 3\n\n| ciudad &lt;chr&gt; | ingreso_promedio &lt;dbl&gt; | edad_maxima &lt;int&gt; |\n|---|---|---|\n| CDMX        | 14659.08 | 65 |\n| Guadalajara | 15662.19 | 62 |\n| Monterrey   | 14823.50 | 63 |\n| Puebla      | 14346.67 | 65 |\n\n",
            "text/latex": "A tibble: 4 × 3\n\\begin{tabular}{lll}\n ciudad & ingreso\\_promedio & edad\\_maxima\\\\\n <chr> & <dbl> & <int>\\\\\n\\hline\n\t CDMX        & 14659.08 & 65\\\\\n\t Guadalajara & 15662.19 & 62\\\\\n\t Monterrey   & 14823.50 & 63\\\\\n\t Puebla      & 14346.67 & 65\\\\\n\\end{tabular}\n",
            "text/plain": [
              "  ciudad      ingreso_promedio edad_maxima\n",
              "1 CDMX        14659.08         65         \n",
              "2 Guadalajara 15662.19         62         \n",
              "3 Monterrey   14823.50         63         \n",
              "4 Puebla      14346.67         65         "
            ]
          },
          "metadata": {}
        }
      ]
    },
    {
      "cell_type": "markdown",
      "source": [
        "**slice() y variantes**\n",
        "\n",
        "Selecciona filas específicas:"
      ],
      "metadata": {
        "id": "yuvh3G8R3r6O"
      }
    },
    {
      "cell_type": "code",
      "source": [
        "#Primeras filas:\n",
        "\n",
        "datos %>%\n",
        "  slice_head(n = 5)"
      ],
      "metadata": {
        "colab": {
          "base_uri": "https://localhost:8080/",
          "height": 255
        },
        "id": "XqrNTza63uez",
        "outputId": "f207fc3b-277e-4d81-b499-08abfe1b754d"
      },
      "execution_count": 16,
      "outputs": [
        {
          "output_type": "display_data",
          "data": {
            "text/html": [
              "<table class=\"dataframe\">\n",
              "<caption>A tibble: 5 × 6</caption>\n",
              "<thead>\n",
              "\t<tr><th scope=col>id</th><th scope=col>edad</th><th scope=col>sexo</th><th scope=col>ciudad</th><th scope=col>ingreso_mensual</th><th scope=col>nivel_educativo</th></tr>\n",
              "\t<tr><th scope=col>&lt;int&gt;</th><th scope=col>&lt;int&gt;</th><th scope=col>&lt;chr&gt;</th><th scope=col>&lt;chr&gt;</th><th scope=col>&lt;dbl&gt;</th><th scope=col>&lt;chr&gt;</th></tr>\n",
              "</thead>\n",
              "<tbody>\n",
              "\t<tr><td>1</td><td>48</td><td>Hombre</td><td>Monterrey  </td><td>20490</td><td>Universidad </td></tr>\n",
              "\t<tr><td>2</td><td>32</td><td>Mujer </td><td>CDMX       </td><td>12743</td><td>Posgrado    </td></tr>\n",
              "\t<tr><td>3</td><td>31</td><td>Hombre</td><td>Guadalajara</td><td>18881</td><td>Posgrado    </td></tr>\n",
              "\t<tr><td>4</td><td>20</td><td>Mujer </td><td>Guadalajara</td><td>14925</td><td>Preparatoria</td></tr>\n",
              "\t<tr><td>5</td><td>59</td><td>Mujer </td><td>CDMX       </td><td>16449</td><td>Secundaria  </td></tr>\n",
              "</tbody>\n",
              "</table>\n"
            ],
            "text/markdown": "\nA tibble: 5 × 6\n\n| id &lt;int&gt; | edad &lt;int&gt; | sexo &lt;chr&gt; | ciudad &lt;chr&gt; | ingreso_mensual &lt;dbl&gt; | nivel_educativo &lt;chr&gt; |\n|---|---|---|---|---|---|\n| 1 | 48 | Hombre | Monterrey   | 20490 | Universidad  |\n| 2 | 32 | Mujer  | CDMX        | 12743 | Posgrado     |\n| 3 | 31 | Hombre | Guadalajara | 18881 | Posgrado     |\n| 4 | 20 | Mujer  | Guadalajara | 14925 | Preparatoria |\n| 5 | 59 | Mujer  | CDMX        | 16449 | Secundaria   |\n\n",
            "text/latex": "A tibble: 5 × 6\n\\begin{tabular}{llllll}\n id & edad & sexo & ciudad & ingreso\\_mensual & nivel\\_educativo\\\\\n <int> & <int> & <chr> & <chr> & <dbl> & <chr>\\\\\n\\hline\n\t 1 & 48 & Hombre & Monterrey   & 20490 & Universidad \\\\\n\t 2 & 32 & Mujer  & CDMX        & 12743 & Posgrado    \\\\\n\t 3 & 31 & Hombre & Guadalajara & 18881 & Posgrado    \\\\\n\t 4 & 20 & Mujer  & Guadalajara & 14925 & Preparatoria\\\\\n\t 5 & 59 & Mujer  & CDMX        & 16449 & Secundaria  \\\\\n\\end{tabular}\n",
            "text/plain": [
              "  id edad sexo   ciudad      ingreso_mensual nivel_educativo\n",
              "1 1  48   Hombre Monterrey   20490           Universidad    \n",
              "2 2  32   Mujer  CDMX        12743           Posgrado       \n",
              "3 3  31   Hombre Guadalajara 18881           Posgrado       \n",
              "4 4  20   Mujer  Guadalajara 14925           Preparatoria   \n",
              "5 5  59   Mujer  CDMX        16449           Secundaria     "
            ]
          },
          "metadata": {}
        }
      ]
    },
    {
      "cell_type": "code",
      "source": [
        "# Últimas filas:\n",
        "\n",
        "datos %>%\n",
        "  slice_tail(n = 5)"
      ],
      "metadata": {
        "colab": {
          "base_uri": "https://localhost:8080/",
          "height": 255
        },
        "id": "IYxAIBv33xxd",
        "outputId": "a14fae69-99c7-4063-da53-1c3f14036899"
      },
      "execution_count": 17,
      "outputs": [
        {
          "output_type": "display_data",
          "data": {
            "text/html": [
              "<table class=\"dataframe\">\n",
              "<caption>A tibble: 5 × 6</caption>\n",
              "<thead>\n",
              "\t<tr><th scope=col>id</th><th scope=col>edad</th><th scope=col>sexo</th><th scope=col>ciudad</th><th scope=col>ingreso_mensual</th><th scope=col>nivel_educativo</th></tr>\n",
              "\t<tr><th scope=col>&lt;int&gt;</th><th scope=col>&lt;int&gt;</th><th scope=col>&lt;chr&gt;</th><th scope=col>&lt;chr&gt;</th><th scope=col>&lt;dbl&gt;</th><th scope=col>&lt;chr&gt;</th></tr>\n",
              "</thead>\n",
              "<tbody>\n",
              "\t<tr><td> 96</td><td>24</td><td>Mujer </td><td>Puebla     </td><td>18587</td><td>Posgrado   </td></tr>\n",
              "\t<tr><td> 97</td><td>20</td><td>Mujer </td><td>Monterrey  </td><td>13616</td><td>Universidad</td></tr>\n",
              "\t<tr><td> 98</td><td>40</td><td>Hombre</td><td>CDMX       </td><td> 7872</td><td>Secundaria </td></tr>\n",
              "\t<tr><td> 99</td><td>32</td><td>Hombre</td><td>Guadalajara</td><td>16860</td><td>Secundaria </td></tr>\n",
              "\t<tr><td>100</td><td>38</td><td>Mujer </td><td>CDMX       </td><td> 7196</td><td>Universidad</td></tr>\n",
              "</tbody>\n",
              "</table>\n"
            ],
            "text/markdown": "\nA tibble: 5 × 6\n\n| id &lt;int&gt; | edad &lt;int&gt; | sexo &lt;chr&gt; | ciudad &lt;chr&gt; | ingreso_mensual &lt;dbl&gt; | nivel_educativo &lt;chr&gt; |\n|---|---|---|---|---|---|\n|  96 | 24 | Mujer  | Puebla      | 18587 | Posgrado    |\n|  97 | 20 | Mujer  | Monterrey   | 13616 | Universidad |\n|  98 | 40 | Hombre | CDMX        |  7872 | Secundaria  |\n|  99 | 32 | Hombre | Guadalajara | 16860 | Secundaria  |\n| 100 | 38 | Mujer  | CDMX        |  7196 | Universidad |\n\n",
            "text/latex": "A tibble: 5 × 6\n\\begin{tabular}{llllll}\n id & edad & sexo & ciudad & ingreso\\_mensual & nivel\\_educativo\\\\\n <int> & <int> & <chr> & <chr> & <dbl> & <chr>\\\\\n\\hline\n\t  96 & 24 & Mujer  & Puebla      & 18587 & Posgrado   \\\\\n\t  97 & 20 & Mujer  & Monterrey   & 13616 & Universidad\\\\\n\t  98 & 40 & Hombre & CDMX        &  7872 & Secundaria \\\\\n\t  99 & 32 & Hombre & Guadalajara & 16860 & Secundaria \\\\\n\t 100 & 38 & Mujer  & CDMX        &  7196 & Universidad\\\\\n\\end{tabular}\n",
            "text/plain": [
              "  id  edad sexo   ciudad      ingreso_mensual nivel_educativo\n",
              "1  96 24   Mujer  Puebla      18587           Posgrado       \n",
              "2  97 20   Mujer  Monterrey   13616           Universidad    \n",
              "3  98 40   Hombre CDMX         7872           Secundaria     \n",
              "4  99 32   Hombre Guadalajara 16860           Secundaria     \n",
              "5 100 38   Mujer  CDMX         7196           Universidad    "
            ]
          },
          "metadata": {}
        }
      ]
    },
    {
      "cell_type": "code",
      "source": [
        "#Filas al azar:\n",
        "\n",
        "datos %>%\n",
        "  slice_sample(n = 3)"
      ],
      "metadata": {
        "colab": {
          "base_uri": "https://localhost:8080/",
          "height": 192
        },
        "id": "lubgoXTY30Un",
        "outputId": "ed9f2378-dd3a-4874-8ae7-e0ef585fd6d6"
      },
      "execution_count": 18,
      "outputs": [
        {
          "output_type": "display_data",
          "data": {
            "text/html": [
              "<table class=\"dataframe\">\n",
              "<caption>A tibble: 3 × 6</caption>\n",
              "<thead>\n",
              "\t<tr><th scope=col>id</th><th scope=col>edad</th><th scope=col>sexo</th><th scope=col>ciudad</th><th scope=col>ingreso_mensual</th><th scope=col>nivel_educativo</th></tr>\n",
              "\t<tr><th scope=col>&lt;int&gt;</th><th scope=col>&lt;int&gt;</th><th scope=col>&lt;chr&gt;</th><th scope=col>&lt;chr&gt;</th><th scope=col>&lt;dbl&gt;</th><th scope=col>&lt;chr&gt;</th></tr>\n",
              "</thead>\n",
              "<tbody>\n",
              "\t<tr><td>15</td><td>26</td><td>Hombre</td><td>Puebla   </td><td>14181</td><td>Posgrado  </td></tr>\n",
              "\t<tr><td>83</td><td>40</td><td>Hombre</td><td>CDMX     </td><td>17116</td><td>Secundaria</td></tr>\n",
              "\t<tr><td>49</td><td>29</td><td>Mujer </td><td>Monterrey</td><td>16288</td><td>Posgrado  </td></tr>\n",
              "</tbody>\n",
              "</table>\n"
            ],
            "text/markdown": "\nA tibble: 3 × 6\n\n| id &lt;int&gt; | edad &lt;int&gt; | sexo &lt;chr&gt; | ciudad &lt;chr&gt; | ingreso_mensual &lt;dbl&gt; | nivel_educativo &lt;chr&gt; |\n|---|---|---|---|---|---|\n| 15 | 26 | Hombre | Puebla    | 14181 | Posgrado   |\n| 83 | 40 | Hombre | CDMX      | 17116 | Secundaria |\n| 49 | 29 | Mujer  | Monterrey | 16288 | Posgrado   |\n\n",
            "text/latex": "A tibble: 3 × 6\n\\begin{tabular}{llllll}\n id & edad & sexo & ciudad & ingreso\\_mensual & nivel\\_educativo\\\\\n <int> & <int> & <chr> & <chr> & <dbl> & <chr>\\\\\n\\hline\n\t 15 & 26 & Hombre & Puebla    & 14181 & Posgrado  \\\\\n\t 83 & 40 & Hombre & CDMX      & 17116 & Secundaria\\\\\n\t 49 & 29 & Mujer  & Monterrey & 16288 & Posgrado  \\\\\n\\end{tabular}\n",
            "text/plain": [
              "  id edad sexo   ciudad    ingreso_mensual nivel_educativo\n",
              "1 15 26   Hombre Puebla    14181           Posgrado       \n",
              "2 83 40   Hombre CDMX      17116           Secundaria     \n",
              "3 49 29   Mujer  Monterrey 16288           Posgrado       "
            ]
          },
          "metadata": {}
        }
      ]
    },
    {
      "cell_type": "code",
      "source": [
        "#Filas con máximo ingreso: (tambien se puede con min)\n",
        "\n",
        "datos %>%\n",
        "  slice_max(order_by = ingreso_mensual, n = 2)"
      ],
      "metadata": {
        "colab": {
          "base_uri": "https://localhost:8080/",
          "height": 161
        },
        "id": "WCGruUP3322G",
        "outputId": "10ccbd58-979f-480c-8025-305ab3c27e0a"
      },
      "execution_count": 19,
      "outputs": [
        {
          "output_type": "display_data",
          "data": {
            "text/html": [
              "<table class=\"dataframe\">\n",
              "<caption>A tibble: 2 × 6</caption>\n",
              "<thead>\n",
              "\t<tr><th scope=col>id</th><th scope=col>edad</th><th scope=col>sexo</th><th scope=col>ciudad</th><th scope=col>ingreso_mensual</th><th scope=col>nivel_educativo</th></tr>\n",
              "\t<tr><th scope=col>&lt;int&gt;</th><th scope=col>&lt;int&gt;</th><th scope=col>&lt;chr&gt;</th><th scope=col>&lt;chr&gt;</th><th scope=col>&lt;dbl&gt;</th><th scope=col>&lt;chr&gt;</th></tr>\n",
              "</thead>\n",
              "<tbody>\n",
              "\t<tr><td>53</td><td>44</td><td>Hombre</td><td>Guadalajara</td><td>25833</td><td>Posgrado    </td></tr>\n",
              "\t<tr><td>84</td><td>52</td><td>Hombre</td><td>Guadalajara</td><td>24818</td><td>Preparatoria</td></tr>\n",
              "</tbody>\n",
              "</table>\n"
            ],
            "text/markdown": "\nA tibble: 2 × 6\n\n| id &lt;int&gt; | edad &lt;int&gt; | sexo &lt;chr&gt; | ciudad &lt;chr&gt; | ingreso_mensual &lt;dbl&gt; | nivel_educativo &lt;chr&gt; |\n|---|---|---|---|---|---|\n| 53 | 44 | Hombre | Guadalajara | 25833 | Posgrado     |\n| 84 | 52 | Hombre | Guadalajara | 24818 | Preparatoria |\n\n",
            "text/latex": "A tibble: 2 × 6\n\\begin{tabular}{llllll}\n id & edad & sexo & ciudad & ingreso\\_mensual & nivel\\_educativo\\\\\n <int> & <int> & <chr> & <chr> & <dbl> & <chr>\\\\\n\\hline\n\t 53 & 44 & Hombre & Guadalajara & 25833 & Posgrado    \\\\\n\t 84 & 52 & Hombre & Guadalajara & 24818 & Preparatoria\\\\\n\\end{tabular}\n",
            "text/plain": [
              "  id edad sexo   ciudad      ingreso_mensual nivel_educativo\n",
              "1 53 44   Hombre Guadalajara 25833           Posgrado       \n",
              "2 84 52   Hombre Guadalajara 24818           Preparatoria   "
            ]
          },
          "metadata": {}
        }
      ]
    },
    {
      "cell_type": "markdown",
      "source": [
        "**select con : (rango)**\n",
        "\n",
        "Seleccionar columnas contiguas:"
      ],
      "metadata": {
        "id": "cuZpgB-r37uJ"
      }
    },
    {
      "cell_type": "code",
      "source": [
        "d <- datos %>%\n",
        "  select(id:ciudad)\n",
        "head(d)"
      ],
      "metadata": {
        "colab": {
          "base_uri": "https://localhost:8080/",
          "height": 286
        },
        "id": "NIDdk17c3_CM",
        "outputId": "0a52aa13-7bc2-4e97-d1c3-b0a50c29f7d2"
      },
      "execution_count": 21,
      "outputs": [
        {
          "output_type": "display_data",
          "data": {
            "text/html": [
              "<table class=\"dataframe\">\n",
              "<caption>A tibble: 6 × 4</caption>\n",
              "<thead>\n",
              "\t<tr><th scope=col>id</th><th scope=col>edad</th><th scope=col>sexo</th><th scope=col>ciudad</th></tr>\n",
              "\t<tr><th scope=col>&lt;int&gt;</th><th scope=col>&lt;int&gt;</th><th scope=col>&lt;chr&gt;</th><th scope=col>&lt;chr&gt;</th></tr>\n",
              "</thead>\n",
              "<tbody>\n",
              "\t<tr><td>1</td><td>48</td><td>Hombre</td><td>Monterrey  </td></tr>\n",
              "\t<tr><td>2</td><td>32</td><td>Mujer </td><td>CDMX       </td></tr>\n",
              "\t<tr><td>3</td><td>31</td><td>Hombre</td><td>Guadalajara</td></tr>\n",
              "\t<tr><td>4</td><td>20</td><td>Mujer </td><td>Guadalajara</td></tr>\n",
              "\t<tr><td>5</td><td>59</td><td>Mujer </td><td>CDMX       </td></tr>\n",
              "\t<tr><td>6</td><td>60</td><td>Mujer </td><td>Puebla     </td></tr>\n",
              "</tbody>\n",
              "</table>\n"
            ],
            "text/markdown": "\nA tibble: 6 × 4\n\n| id &lt;int&gt; | edad &lt;int&gt; | sexo &lt;chr&gt; | ciudad &lt;chr&gt; |\n|---|---|---|---|\n| 1 | 48 | Hombre | Monterrey   |\n| 2 | 32 | Mujer  | CDMX        |\n| 3 | 31 | Hombre | Guadalajara |\n| 4 | 20 | Mujer  | Guadalajara |\n| 5 | 59 | Mujer  | CDMX        |\n| 6 | 60 | Mujer  | Puebla      |\n\n",
            "text/latex": "A tibble: 6 × 4\n\\begin{tabular}{llll}\n id & edad & sexo & ciudad\\\\\n <int> & <int> & <chr> & <chr>\\\\\n\\hline\n\t 1 & 48 & Hombre & Monterrey  \\\\\n\t 2 & 32 & Mujer  & CDMX       \\\\\n\t 3 & 31 & Hombre & Guadalajara\\\\\n\t 4 & 20 & Mujer  & Guadalajara\\\\\n\t 5 & 59 & Mujer  & CDMX       \\\\\n\t 6 & 60 & Mujer  & Puebla     \\\\\n\\end{tabular}\n",
            "text/plain": [
              "  id edad sexo   ciudad     \n",
              "1 1  48   Hombre Monterrey  \n",
              "2 2  32   Mujer  CDMX       \n",
              "3 3  31   Hombre Guadalajara\n",
              "4 4  20   Mujer  Guadalajara\n",
              "5 5  59   Mujer  CDMX       \n",
              "6 6  60   Mujer  Puebla     "
            ]
          },
          "metadata": {}
        }
      ]
    },
    {
      "cell_type": "markdown",
      "source": [
        "**select con contains()**\n",
        "\n",
        "Selecciona columnas que contienen cierta palabra:"
      ],
      "metadata": {
        "id": "fH9ir4Hm4Hmo"
      }
    },
    {
      "cell_type": "code",
      "source": [
        "d <- datos %>%\n",
        "  select(contains(\"ingreso\"))\n",
        "head(d)"
      ],
      "metadata": {
        "colab": {
          "base_uri": "https://localhost:8080/",
          "height": 286
        },
        "id": "ofVWfo7V4KCM",
        "outputId": "16dde701-f3d9-4dc9-ef23-950ca8a6e477"
      },
      "execution_count": 24,
      "outputs": [
        {
          "output_type": "display_data",
          "data": {
            "text/html": [
              "<table class=\"dataframe\">\n",
              "<caption>A tibble: 6 × 1</caption>\n",
              "<thead>\n",
              "\t<tr><th scope=col>ingreso_mensual</th></tr>\n",
              "\t<tr><th scope=col>&lt;dbl&gt;</th></tr>\n",
              "</thead>\n",
              "<tbody>\n",
              "\t<tr><td>20490</td></tr>\n",
              "\t<tr><td>12743</td></tr>\n",
              "\t<tr><td>18881</td></tr>\n",
              "\t<tr><td>14925</td></tr>\n",
              "\t<tr><td>16449</td></tr>\n",
              "\t<tr><td>23045</td></tr>\n",
              "</tbody>\n",
              "</table>\n"
            ],
            "text/markdown": "\nA tibble: 6 × 1\n\n| ingreso_mensual &lt;dbl&gt; |\n|---|\n| 20490 |\n| 12743 |\n| 18881 |\n| 14925 |\n| 16449 |\n| 23045 |\n\n",
            "text/latex": "A tibble: 6 × 1\n\\begin{tabular}{l}\n ingreso\\_mensual\\\\\n <dbl>\\\\\n\\hline\n\t 20490\\\\\n\t 12743\\\\\n\t 18881\\\\\n\t 14925\\\\\n\t 16449\\\\\n\t 23045\\\\\n\\end{tabular}\n",
            "text/plain": [
              "  ingreso_mensual\n",
              "1 20490          \n",
              "2 12743          \n",
              "3 18881          \n",
              "4 14925          \n",
              "5 16449          \n",
              "6 23045          "
            ]
          },
          "metadata": {}
        }
      ]
    },
    {
      "cell_type": "markdown",
      "source": [
        "Tambien se puede usar\n",
        "\n",
        "ends_with() - Termina con\n",
        "\n",
        "contains () -   contiene\n",
        "\n",
        "star_whit() -  empieza con\n",
        "\n",
        "last_col ()  -  última columna\n",
        "         \n",
        "matches() - Empata   \n"
      ],
      "metadata": {
        "id": "w9T0T6lE5NX_"
      }
    },
    {
      "cell_type": "markdown",
      "source": [
        "**Eliminar columnas**\n",
        "\n",
        "Usar - para excluir columnas:"
      ],
      "metadata": {
        "id": "BBhAfV2n4QU-"
      }
    },
    {
      "cell_type": "code",
      "source": [
        "d <- datos %>%\n",
        "  select(-nivel_educativo)\n",
        "head(d)"
      ],
      "metadata": {
        "colab": {
          "base_uri": "https://localhost:8080/",
          "height": 286
        },
        "id": "T6hd779L4Tbo",
        "outputId": "6d960b0d-cdab-4475-d041-4b2ce0a097c7"
      },
      "execution_count": 25,
      "outputs": [
        {
          "output_type": "display_data",
          "data": {
            "text/html": [
              "<table class=\"dataframe\">\n",
              "<caption>A tibble: 6 × 5</caption>\n",
              "<thead>\n",
              "\t<tr><th scope=col>id</th><th scope=col>edad</th><th scope=col>sexo</th><th scope=col>ciudad</th><th scope=col>ingreso_mensual</th></tr>\n",
              "\t<tr><th scope=col>&lt;int&gt;</th><th scope=col>&lt;int&gt;</th><th scope=col>&lt;chr&gt;</th><th scope=col>&lt;chr&gt;</th><th scope=col>&lt;dbl&gt;</th></tr>\n",
              "</thead>\n",
              "<tbody>\n",
              "\t<tr><td>1</td><td>48</td><td>Hombre</td><td>Monterrey  </td><td>20490</td></tr>\n",
              "\t<tr><td>2</td><td>32</td><td>Mujer </td><td>CDMX       </td><td>12743</td></tr>\n",
              "\t<tr><td>3</td><td>31</td><td>Hombre</td><td>Guadalajara</td><td>18881</td></tr>\n",
              "\t<tr><td>4</td><td>20</td><td>Mujer </td><td>Guadalajara</td><td>14925</td></tr>\n",
              "\t<tr><td>5</td><td>59</td><td>Mujer </td><td>CDMX       </td><td>16449</td></tr>\n",
              "\t<tr><td>6</td><td>60</td><td>Mujer </td><td>Puebla     </td><td>23045</td></tr>\n",
              "</tbody>\n",
              "</table>\n"
            ],
            "text/markdown": "\nA tibble: 6 × 5\n\n| id &lt;int&gt; | edad &lt;int&gt; | sexo &lt;chr&gt; | ciudad &lt;chr&gt; | ingreso_mensual &lt;dbl&gt; |\n|---|---|---|---|---|\n| 1 | 48 | Hombre | Monterrey   | 20490 |\n| 2 | 32 | Mujer  | CDMX        | 12743 |\n| 3 | 31 | Hombre | Guadalajara | 18881 |\n| 4 | 20 | Mujer  | Guadalajara | 14925 |\n| 5 | 59 | Mujer  | CDMX        | 16449 |\n| 6 | 60 | Mujer  | Puebla      | 23045 |\n\n",
            "text/latex": "A tibble: 6 × 5\n\\begin{tabular}{lllll}\n id & edad & sexo & ciudad & ingreso\\_mensual\\\\\n <int> & <int> & <chr> & <chr> & <dbl>\\\\\n\\hline\n\t 1 & 48 & Hombre & Monterrey   & 20490\\\\\n\t 2 & 32 & Mujer  & CDMX        & 12743\\\\\n\t 3 & 31 & Hombre & Guadalajara & 18881\\\\\n\t 4 & 20 & Mujer  & Guadalajara & 14925\\\\\n\t 5 & 59 & Mujer  & CDMX        & 16449\\\\\n\t 6 & 60 & Mujer  & Puebla      & 23045\\\\\n\\end{tabular}\n",
            "text/plain": [
              "  id edad sexo   ciudad      ingreso_mensual\n",
              "1 1  48   Hombre Monterrey   20490          \n",
              "2 2  32   Mujer  CDMX        12743          \n",
              "3 3  31   Hombre Guadalajara 18881          \n",
              "4 4  20   Mujer  Guadalajara 14925          \n",
              "5 5  59   Mujer  CDMX        16449          \n",
              "6 6  60   Mujer  Puebla      23045          "
            ]
          },
          "metadata": {}
        }
      ]
    },
    {
      "cell_type": "markdown",
      "source": [
        "**rename()**\n",
        "\n",
        "Renombra columnas:"
      ],
      "metadata": {
        "id": "NdhkDzlh4XUf"
      }
    },
    {
      "cell_type": "code",
      "source": [
        "d <- datos %>%\n",
        "  rename(educacion = nivel_educativo)\n",
        "head(d)"
      ],
      "metadata": {
        "colab": {
          "base_uri": "https://localhost:8080/",
          "height": 286
        },
        "id": "qjjAiQTa4chq",
        "outputId": "5da50829-a160-4cc6-e45a-6b62d556dbdf"
      },
      "execution_count": 27,
      "outputs": [
        {
          "output_type": "display_data",
          "data": {
            "text/html": [
              "<table class=\"dataframe\">\n",
              "<caption>A tibble: 6 × 6</caption>\n",
              "<thead>\n",
              "\t<tr><th scope=col>id</th><th scope=col>edad</th><th scope=col>sexo</th><th scope=col>ciudad</th><th scope=col>ingreso_mensual</th><th scope=col>educacion</th></tr>\n",
              "\t<tr><th scope=col>&lt;int&gt;</th><th scope=col>&lt;int&gt;</th><th scope=col>&lt;chr&gt;</th><th scope=col>&lt;chr&gt;</th><th scope=col>&lt;dbl&gt;</th><th scope=col>&lt;chr&gt;</th></tr>\n",
              "</thead>\n",
              "<tbody>\n",
              "\t<tr><td>1</td><td>48</td><td>Hombre</td><td>Monterrey  </td><td>20490</td><td>Universidad </td></tr>\n",
              "\t<tr><td>2</td><td>32</td><td>Mujer </td><td>CDMX       </td><td>12743</td><td>Posgrado    </td></tr>\n",
              "\t<tr><td>3</td><td>31</td><td>Hombre</td><td>Guadalajara</td><td>18881</td><td>Posgrado    </td></tr>\n",
              "\t<tr><td>4</td><td>20</td><td>Mujer </td><td>Guadalajara</td><td>14925</td><td>Preparatoria</td></tr>\n",
              "\t<tr><td>5</td><td>59</td><td>Mujer </td><td>CDMX       </td><td>16449</td><td>Secundaria  </td></tr>\n",
              "\t<tr><td>6</td><td>60</td><td>Mujer </td><td>Puebla     </td><td>23045</td><td>Secundaria  </td></tr>\n",
              "</tbody>\n",
              "</table>\n"
            ],
            "text/markdown": "\nA tibble: 6 × 6\n\n| id &lt;int&gt; | edad &lt;int&gt; | sexo &lt;chr&gt; | ciudad &lt;chr&gt; | ingreso_mensual &lt;dbl&gt; | educacion &lt;chr&gt; |\n|---|---|---|---|---|---|\n| 1 | 48 | Hombre | Monterrey   | 20490 | Universidad  |\n| 2 | 32 | Mujer  | CDMX        | 12743 | Posgrado     |\n| 3 | 31 | Hombre | Guadalajara | 18881 | Posgrado     |\n| 4 | 20 | Mujer  | Guadalajara | 14925 | Preparatoria |\n| 5 | 59 | Mujer  | CDMX        | 16449 | Secundaria   |\n| 6 | 60 | Mujer  | Puebla      | 23045 | Secundaria   |\n\n",
            "text/latex": "A tibble: 6 × 6\n\\begin{tabular}{llllll}\n id & edad & sexo & ciudad & ingreso\\_mensual & educacion\\\\\n <int> & <int> & <chr> & <chr> & <dbl> & <chr>\\\\\n\\hline\n\t 1 & 48 & Hombre & Monterrey   & 20490 & Universidad \\\\\n\t 2 & 32 & Mujer  & CDMX        & 12743 & Posgrado    \\\\\n\t 3 & 31 & Hombre & Guadalajara & 18881 & Posgrado    \\\\\n\t 4 & 20 & Mujer  & Guadalajara & 14925 & Preparatoria\\\\\n\t 5 & 59 & Mujer  & CDMX        & 16449 & Secundaria  \\\\\n\t 6 & 60 & Mujer  & Puebla      & 23045 & Secundaria  \\\\\n\\end{tabular}\n",
            "text/plain": [
              "  id edad sexo   ciudad      ingreso_mensual educacion   \n",
              "1 1  48   Hombre Monterrey   20490           Universidad \n",
              "2 2  32   Mujer  CDMX        12743           Posgrado    \n",
              "3 3  31   Hombre Guadalajara 18881           Posgrado    \n",
              "4 4  20   Mujer  Guadalajara 14925           Preparatoria\n",
              "5 5  59   Mujer  CDMX        16449           Secundaria  \n",
              "6 6  60   Mujer  Puebla      23045           Secundaria  "
            ]
          },
          "metadata": {}
        }
      ]
    },
    {
      "cell_type": "code",
      "source": [
        "# También lo puedes usar con count():\n",
        "\n",
        "datos %>%\n",
        "  count(sexo) %>%\n",
        "  rename(total = n)"
      ],
      "metadata": {
        "colab": {
          "base_uri": "https://localhost:8080/",
          "height": 161
        },
        "id": "skUxyoNu4iyG",
        "outputId": "af0f678d-36d4-4e0c-f6f3-66241497fa16"
      },
      "execution_count": 28,
      "outputs": [
        {
          "output_type": "display_data",
          "data": {
            "text/html": [
              "<table class=\"dataframe\">\n",
              "<caption>A tibble: 2 × 2</caption>\n",
              "<thead>\n",
              "\t<tr><th scope=col>sexo</th><th scope=col>total</th></tr>\n",
              "\t<tr><th scope=col>&lt;chr&gt;</th><th scope=col>&lt;int&gt;</th></tr>\n",
              "</thead>\n",
              "<tbody>\n",
              "\t<tr><td>Hombre</td><td>43</td></tr>\n",
              "\t<tr><td>Mujer </td><td>57</td></tr>\n",
              "</tbody>\n",
              "</table>\n"
            ],
            "text/markdown": "\nA tibble: 2 × 2\n\n| sexo &lt;chr&gt; | total &lt;int&gt; |\n|---|---|\n| Hombre | 43 |\n| Mujer  | 57 |\n\n",
            "text/latex": "A tibble: 2 × 2\n\\begin{tabular}{ll}\n sexo & total\\\\\n <chr> & <int>\\\\\n\\hline\n\t Hombre & 43\\\\\n\t Mujer  & 57\\\\\n\\end{tabular}\n",
            "text/plain": [
              "  sexo   total\n",
              "1 Hombre 43   \n",
              "2 Mujer  57   "
            ]
          },
          "metadata": {}
        }
      ]
    },
    {
      "cell_type": "markdown",
      "source": [
        "**relocate()**\n",
        "\n",
        "Reubica columnas sin eliminarlas:"
      ],
      "metadata": {
        "id": "XBCFAJks4qL2"
      }
    },
    {
      "cell_type": "code",
      "source": [
        "d <- datos %>%\n",
        "  relocate(ciudad, .before = sexo)\n",
        "head(d)"
      ],
      "metadata": {
        "colab": {
          "base_uri": "https://localhost:8080/",
          "height": 286
        },
        "id": "FwwV9F224tG5",
        "outputId": "db4cd2ca-0611-4197-8b52-25b89fc43428"
      },
      "execution_count": 30,
      "outputs": [
        {
          "output_type": "display_data",
          "data": {
            "text/html": [
              "<table class=\"dataframe\">\n",
              "<caption>A tibble: 6 × 6</caption>\n",
              "<thead>\n",
              "\t<tr><th scope=col>id</th><th scope=col>edad</th><th scope=col>ciudad</th><th scope=col>sexo</th><th scope=col>ingreso_mensual</th><th scope=col>nivel_educativo</th></tr>\n",
              "\t<tr><th scope=col>&lt;int&gt;</th><th scope=col>&lt;int&gt;</th><th scope=col>&lt;chr&gt;</th><th scope=col>&lt;chr&gt;</th><th scope=col>&lt;dbl&gt;</th><th scope=col>&lt;chr&gt;</th></tr>\n",
              "</thead>\n",
              "<tbody>\n",
              "\t<tr><td>1</td><td>48</td><td>Monterrey  </td><td>Hombre</td><td>20490</td><td>Universidad </td></tr>\n",
              "\t<tr><td>2</td><td>32</td><td>CDMX       </td><td>Mujer </td><td>12743</td><td>Posgrado    </td></tr>\n",
              "\t<tr><td>3</td><td>31</td><td>Guadalajara</td><td>Hombre</td><td>18881</td><td>Posgrado    </td></tr>\n",
              "\t<tr><td>4</td><td>20</td><td>Guadalajara</td><td>Mujer </td><td>14925</td><td>Preparatoria</td></tr>\n",
              "\t<tr><td>5</td><td>59</td><td>CDMX       </td><td>Mujer </td><td>16449</td><td>Secundaria  </td></tr>\n",
              "\t<tr><td>6</td><td>60</td><td>Puebla     </td><td>Mujer </td><td>23045</td><td>Secundaria  </td></tr>\n",
              "</tbody>\n",
              "</table>\n"
            ],
            "text/markdown": "\nA tibble: 6 × 6\n\n| id &lt;int&gt; | edad &lt;int&gt; | ciudad &lt;chr&gt; | sexo &lt;chr&gt; | ingreso_mensual &lt;dbl&gt; | nivel_educativo &lt;chr&gt; |\n|---|---|---|---|---|---|\n| 1 | 48 | Monterrey   | Hombre | 20490 | Universidad  |\n| 2 | 32 | CDMX        | Mujer  | 12743 | Posgrado     |\n| 3 | 31 | Guadalajara | Hombre | 18881 | Posgrado     |\n| 4 | 20 | Guadalajara | Mujer  | 14925 | Preparatoria |\n| 5 | 59 | CDMX        | Mujer  | 16449 | Secundaria   |\n| 6 | 60 | Puebla      | Mujer  | 23045 | Secundaria   |\n\n",
            "text/latex": "A tibble: 6 × 6\n\\begin{tabular}{llllll}\n id & edad & ciudad & sexo & ingreso\\_mensual & nivel\\_educativo\\\\\n <int> & <int> & <chr> & <chr> & <dbl> & <chr>\\\\\n\\hline\n\t 1 & 48 & Monterrey   & Hombre & 20490 & Universidad \\\\\n\t 2 & 32 & CDMX        & Mujer  & 12743 & Posgrado    \\\\\n\t 3 & 31 & Guadalajara & Hombre & 18881 & Posgrado    \\\\\n\t 4 & 20 & Guadalajara & Mujer  & 14925 & Preparatoria\\\\\n\t 5 & 59 & CDMX        & Mujer  & 16449 & Secundaria  \\\\\n\t 6 & 60 & Puebla      & Mujer  & 23045 & Secundaria  \\\\\n\\end{tabular}\n",
            "text/plain": [
              "  id edad ciudad      sexo   ingreso_mensual nivel_educativo\n",
              "1 1  48   Monterrey   Hombre 20490           Universidad    \n",
              "2 2  32   CDMX        Mujer  12743           Posgrado       \n",
              "3 3  31   Guadalajara Hombre 18881           Posgrado       \n",
              "4 4  20   Guadalajara Mujer  14925           Preparatoria   \n",
              "5 5  59   CDMX        Mujer  16449           Secundaria     \n",
              "6 6  60   Puebla      Mujer  23045           Secundaria     "
            ]
          },
          "metadata": {}
        }
      ]
    },
    {
      "cell_type": "markdown",
      "source": [
        "**filter con %in%**\n",
        "\n",
        "Filtrar varios valores:"
      ],
      "metadata": {
        "id": "Bv4CstGa4xGI"
      }
    },
    {
      "cell_type": "code",
      "source": [
        "d <- datos %>%\n",
        "  filter(ciudad %in% c(\"CDMX\", \"Guadalajara\"))\n",
        "head(d)"
      ],
      "metadata": {
        "colab": {
          "base_uri": "https://localhost:8080/",
          "height": 286
        },
        "id": "rHHPDBzU4zvx",
        "outputId": "71b2ded3-9cb7-48be-b74f-317d01890f2d"
      },
      "execution_count": 31,
      "outputs": [
        {
          "output_type": "display_data",
          "data": {
            "text/html": [
              "<table class=\"dataframe\">\n",
              "<caption>A tibble: 6 × 6</caption>\n",
              "<thead>\n",
              "\t<tr><th scope=col>id</th><th scope=col>edad</th><th scope=col>sexo</th><th scope=col>ciudad</th><th scope=col>ingreso_mensual</th><th scope=col>nivel_educativo</th></tr>\n",
              "\t<tr><th scope=col>&lt;int&gt;</th><th scope=col>&lt;int&gt;</th><th scope=col>&lt;chr&gt;</th><th scope=col>&lt;chr&gt;</th><th scope=col>&lt;dbl&gt;</th><th scope=col>&lt;chr&gt;</th></tr>\n",
              "</thead>\n",
              "<tbody>\n",
              "\t<tr><td> 2</td><td>32</td><td>Mujer </td><td>CDMX       </td><td>12743</td><td>Posgrado    </td></tr>\n",
              "\t<tr><td> 3</td><td>31</td><td>Hombre</td><td>Guadalajara</td><td>18881</td><td>Posgrado    </td></tr>\n",
              "\t<tr><td> 4</td><td>20</td><td>Mujer </td><td>Guadalajara</td><td>14925</td><td>Preparatoria</td></tr>\n",
              "\t<tr><td> 5</td><td>59</td><td>Mujer </td><td>CDMX       </td><td>16449</td><td>Secundaria  </td></tr>\n",
              "\t<tr><td> 9</td><td>42</td><td>Mujer </td><td>Guadalajara</td><td>13675</td><td>Preparatoria</td></tr>\n",
              "\t<tr><td>11</td><td>44</td><td>Hombre</td><td>CDMX       </td><td>16257</td><td>Secundaria  </td></tr>\n",
              "</tbody>\n",
              "</table>\n"
            ],
            "text/markdown": "\nA tibble: 6 × 6\n\n| id &lt;int&gt; | edad &lt;int&gt; | sexo &lt;chr&gt; | ciudad &lt;chr&gt; | ingreso_mensual &lt;dbl&gt; | nivel_educativo &lt;chr&gt; |\n|---|---|---|---|---|---|\n|  2 | 32 | Mujer  | CDMX        | 12743 | Posgrado     |\n|  3 | 31 | Hombre | Guadalajara | 18881 | Posgrado     |\n|  4 | 20 | Mujer  | Guadalajara | 14925 | Preparatoria |\n|  5 | 59 | Mujer  | CDMX        | 16449 | Secundaria   |\n|  9 | 42 | Mujer  | Guadalajara | 13675 | Preparatoria |\n| 11 | 44 | Hombre | CDMX        | 16257 | Secundaria   |\n\n",
            "text/latex": "A tibble: 6 × 6\n\\begin{tabular}{llllll}\n id & edad & sexo & ciudad & ingreso\\_mensual & nivel\\_educativo\\\\\n <int> & <int> & <chr> & <chr> & <dbl> & <chr>\\\\\n\\hline\n\t  2 & 32 & Mujer  & CDMX        & 12743 & Posgrado    \\\\\n\t  3 & 31 & Hombre & Guadalajara & 18881 & Posgrado    \\\\\n\t  4 & 20 & Mujer  & Guadalajara & 14925 & Preparatoria\\\\\n\t  5 & 59 & Mujer  & CDMX        & 16449 & Secundaria  \\\\\n\t  9 & 42 & Mujer  & Guadalajara & 13675 & Preparatoria\\\\\n\t 11 & 44 & Hombre & CDMX        & 16257 & Secundaria  \\\\\n\\end{tabular}\n",
            "text/plain": [
              "  id edad sexo   ciudad      ingreso_mensual nivel_educativo\n",
              "1  2 32   Mujer  CDMX        12743           Posgrado       \n",
              "2  3 31   Hombre Guadalajara 18881           Posgrado       \n",
              "3  4 20   Mujer  Guadalajara 14925           Preparatoria   \n",
              "4  5 59   Mujer  CDMX        16449           Secundaria     \n",
              "5  9 42   Mujer  Guadalajara 13675           Preparatoria   \n",
              "6 11 44   Hombre CDMX        16257           Secundaria     "
            ]
          },
          "metadata": {}
        }
      ]
    },
    {
      "cell_type": "markdown",
      "source": [
        "**levels() y droplevels()**\n",
        "\n",
        "levels() se usa para ver los niveles de factores:"
      ],
      "metadata": {
        "id": "vSHyIyze443Q"
      }
    },
    {
      "cell_type": "code",
      "source": [
        "levels(factor(datos$sexo))"
      ],
      "metadata": {
        "colab": {
          "base_uri": "https://localhost:8080/",
          "height": 34
        },
        "id": "90WRIoH547GX",
        "outputId": "837c4a50-6f62-4eea-bab4-fcab60d60152"
      },
      "execution_count": 32,
      "outputs": [
        {
          "output_type": "display_data",
          "data": {
            "text/html": [
              "<style>\n",
              ".list-inline {list-style: none; margin:0; padding: 0}\n",
              ".list-inline>li {display: inline-block}\n",
              ".list-inline>li:not(:last-child)::after {content: \"\\00b7\"; padding: 0 .5ex}\n",
              "</style>\n",
              "<ol class=list-inline><li>'Hombre'</li><li>'Mujer'</li></ol>\n"
            ],
            "text/markdown": "1. 'Hombre'\n2. 'Mujer'\n\n\n",
            "text/latex": "\\begin{enumerate*}\n\\item 'Hombre'\n\\item 'Mujer'\n\\end{enumerate*}\n",
            "text/plain": [
              "[1] \"Hombre\" \"Mujer\" "
            ]
          },
          "metadata": {}
        }
      ]
    },
    {
      "cell_type": "markdown",
      "source": [
        "Para eliminar niveles no presentes después de filtrar:"
      ],
      "metadata": {
        "id": "GVBYE5qZ49uM"
      }
    },
    {
      "cell_type": "code",
      "source": [
        "datos_mujeres <- datos %>%\n",
        "  filter(sexo == \"Mujer\") %>%\n",
        "    droplevels()\n",
        "\n",
        "    levels(datos_mujeres$sexo)"
      ],
      "metadata": {
        "colab": {
          "base_uri": "https://localhost:8080/",
          "height": 34
        },
        "id": "Wft9YhtR4_Xa",
        "outputId": "60ac3cce-14bd-44a8-82c1-b042b00b6b12"
      },
      "execution_count": 33,
      "outputs": [
        {
          "output_type": "display_data",
          "data": {
            "text/plain": [
              "NULL"
            ]
          },
          "metadata": {}
        }
      ]
    },
    {
      "cell_type": "markdown",
      "source": [
        "**table()**\n",
        "\n",
        "Crea tablas de contingencia entre dos variables categóricas:"
      ],
      "metadata": {
        "id": "_LtLxqh55Bqa"
      }
    },
    {
      "cell_type": "code",
      "source": [
        "table(datos$sexo, datos$ciudad)"
      ],
      "metadata": {
        "colab": {
          "base_uri": "https://localhost:8080/",
          "height": 86
        },
        "id": "5eOOka6d5EMf",
        "outputId": "b73aeb8c-b641-48bc-910b-16576aaf3e6a"
      },
      "execution_count": 34,
      "outputs": [
        {
          "output_type": "display_data",
          "data": {
            "text/plain": [
              "        \n",
              "         CDMX Guadalajara Monterrey Puebla\n",
              "  Hombre   17          13         8      5\n",
              "  Mujer    21          13        10     13"
            ]
          },
          "metadata": {}
        }
      ]
    }
  ]
}