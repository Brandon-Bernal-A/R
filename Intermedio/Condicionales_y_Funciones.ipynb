{
  "nbformat": 4,
  "nbformat_minor": 0,
  "metadata": {
    "colab": {
      "provenance": [],
      "authorship_tag": "ABX9TyNBvO7etRtxwfQrfsfeLG0a",
      "include_colab_link": true
    },
    "kernelspec": {
      "name": "ir",
      "display_name": "R"
    },
    "language_info": {
      "name": "R"
    }
  },
  "cells": [
    {
      "cell_type": "markdown",
      "metadata": {
        "id": "view-in-github",
        "colab_type": "text"
      },
      "source": [
        "<a href=\"https://colab.research.google.com/github/Brandon-Bernal-Alarcon/Notas--R/blob/main/Intermedio/Condicionales_y_Funciones.ipynb\" target=\"_parent\"><img src=\"https://colab.research.google.com/assets/colab-badge.svg\" alt=\"Open In Colab\"/></a>"
      ]
    },
    {
      "cell_type": "markdown",
      "source": [
        "**Condicionales**\n",
        "\n",
        "Cuando usamos **&** se deben cumplir todas las condiciones\n"
      ],
      "metadata": {
        "id": "ops6fVjOmeWt"
      }
    },
    {
      "cell_type": "code",
      "execution_count": 1,
      "metadata": {
        "colab": {
          "base_uri": "https://localhost:8080/",
          "height": 34
        },
        "id": "ISv6FAhAlseS",
        "outputId": "c61c6129-4390-4cf5-9e13-df3979c1b3f9"
      },
      "outputs": [
        {
          "output_type": "display_data",
          "data": {
            "text/html": [
              "TRUE"
            ],
            "text/markdown": "TRUE",
            "text/latex": "TRUE",
            "text/plain": [
              "[1] TRUE"
            ]
          },
          "metadata": {}
        }
      ],
      "source": [
        "x <- 12\n",
        "x < 15 & x > 2"
      ]
    },
    {
      "cell_type": "markdown",
      "source": [
        "Cuando usamos **|** es un \"o\" logico, debe cumplirse, una, la otra o ambas\n"
      ],
      "metadata": {
        "id": "muZlfM4zmloh"
      }
    },
    {
      "cell_type": "code",
      "source": [
        "x < 15 | x < 4"
      ],
      "metadata": {
        "colab": {
          "base_uri": "https://localhost:8080/",
          "height": 34
        },
        "id": "wcgvI-IVmnGI",
        "outputId": "be3fdd7b-0b7b-40b0-b1af-a05eb356f674"
      },
      "execution_count": 3,
      "outputs": [
        {
          "output_type": "display_data",
          "data": {
            "text/html": [
              "TRUE"
            ],
            "text/markdown": "TRUE",
            "text/latex": "TRUE",
            "text/plain": [
              "[1] TRUE"
            ]
          },
          "metadata": {}
        }
      ]
    },
    {
      "cell_type": "markdown",
      "source": [
        "El operador **!** es el no operador, simplemente niega caulquier condicion\n"
      ],
      "metadata": {
        "id": "JN-0mv1Jm0uw"
      }
    },
    {
      "cell_type": "code",
      "source": [
        "!(2<5)"
      ],
      "metadata": {
        "colab": {
          "base_uri": "https://localhost:8080/",
          "height": 34
        },
        "id": "ESpe6N9zm2fB",
        "outputId": "adf886db-0707-49c9-80fc-087409547368"
      },
      "execution_count": 8,
      "outputs": [
        {
          "output_type": "display_data",
          "data": {
            "text/html": [
              "FALSE"
            ],
            "text/markdown": "FALSE",
            "text/latex": "FALSE",
            "text/plain": [
              "[1] FALSE"
            ]
          },
          "metadata": {}
        }
      ]
    },
    {
      "cell_type": "markdown",
      "source": [
        "Cuando comparamos vectors con & o | analiza entrada por entrada y las compara, si usamos **&&** o **||** analiza solo la primer entrada de cadan vector\n",
        "\n",
        " **if y Else**\n",
        "\n",
        " El if tiene estructura de if(condition){Ejecución} si ocurre la condición se ejecuta la orden\n",
        " else se ejecuta cuando no se cumple el if y sigue después del if sin condicion exactamente terminando el } también podemos usar un 'else if' para poner otra condición\n",
        ""
      ],
      "metadata": {
        "id": "5lZJOy5vm5Ms"
      }
    },
    {
      "cell_type": "code",
      "source": [
        "x <- 3\n",
        "if(x<0){\n",
        "  print(\"es negativo\")\n",
        "}else if(x==0){\n",
        "  print(\"es 0\")\n",
        "}else{\n",
        "  print(\"Es positivo\")\n",
        "}"
      ],
      "metadata": {
        "colab": {
          "base_uri": "https://localhost:8080/"
        },
        "id": "1vjzvu0cm6pi",
        "outputId": "03e021b4-f007-4df5-8ac0-465a7710b874"
      },
      "execution_count": 7,
      "outputs": [
        {
          "output_type": "stream",
          "name": "stdout",
          "text": [
            "[1] \"Es positivo\"\n"
          ]
        }
      ]
    },
    {
      "cell_type": "markdown",
      "source": [
        "Podemos usar o definir **funciones**\n",
        "\n",
        "Si hay funciones que no se que hacen puedes usar la funcion help(“funcion”)\n"
      ],
      "metadata": {
        "id": "zEAr-pIln22h"
      }
    },
    {
      "cell_type": "code",
      "source": [
        "help(sd)\n",
        "?sd #otra forma de pedirlo\n",
        "?mean"
      ],
      "metadata": {
        "id": "u42uTeBBn5X2"
      },
      "execution_count": 9,
      "outputs": []
    },
    {
      "cell_type": "markdown",
      "source": [
        "**args()** nos da los argumentos que necesita una función, sin leer toda la información"
      ],
      "metadata": {
        "id": "dfG4rzzBn9_c"
      }
    },
    {
      "cell_type": "code",
      "source": [
        "args(sd)"
      ],
      "metadata": {
        "id": "ku-7J71boAoS"
      },
      "execution_count": null,
      "outputs": []
    },
    {
      "cell_type": "markdown",
      "source": [
        "\n",
        "**Funciones propias**\n",
        "\n",
        "Para crear funciones sigues la siguiente estructura\n",
        "\n",
        "\\\\\n",
        "\n",
        "my_función <- function(argumento 1, argumentos 2 ,... ){\n",
        "\n",
        "cuerpo de la función\n",
        "\n",
        "return(lo que regresa)\n",
        "}\n",
        "\n",
        "\\\\\n",
        "\n",
        "Para ocupar la funcion usamos\n",
        "\n",
        "my_función(argumentos) y return() específica que quiero que me regrese la funcion. Podemos hacer que algunas variables sean opcionales, con argumentos = algo\n",
        "\n",
        "fun(a, b = 2)\n",
        "y puedes llamarlo fun(2) o fun(3,5)\n",
        "\n",
        "**Instalar paquetes**\n",
        "\n",
        "usamos **'install.packages()'** para instalar un paquete\n",
        "**'library()'** para cargar los paquetes\n",
        "\n",
        "search() para ver los paquetes que hay en R\n"
      ],
      "metadata": {
        "id": "ZvhZP4MioDdB"
      }
    }
  ]
}