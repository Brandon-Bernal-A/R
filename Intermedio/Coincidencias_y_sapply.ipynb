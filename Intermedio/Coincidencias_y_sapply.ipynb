{
  "nbformat": 4,
  "nbformat_minor": 0,
  "metadata": {
    "colab": {
      "provenance": [],
      "authorship_tag": "ABX9TyNK7oTFS8r9g1QVXnbnPPE3",
      "include_colab_link": true
    },
    "kernelspec": {
      "name": "ir",
      "display_name": "R"
    },
    "language_info": {
      "name": "R"
    }
  },
  "cells": [
    {
      "cell_type": "markdown",
      "metadata": {
        "id": "view-in-github",
        "colab_type": "text"
      },
      "source": [
        "<a href=\"https://colab.research.google.com/github/Brandon-Bernal-Alarcon/Notas--R/blob/main/Intermedio/Coincidencias_y_sapply.ipynb\" target=\"_parent\"><img src=\"https://colab.research.google.com/assets/colab-badge.svg\" alt=\"Open In Colab\"/></a>"
      ]
    },
    {
      "cell_type": "markdown",
      "source": [
        "**Coincidencias grepl() y grep()**\n",
        "\n",
        "Las expresiones regulares se pueden utilizar para ver si existe un patrón dentro de una cadena de caracteres un vector de cadenas de caracteres utilizamos lo siguiente:\n",
        "\n",
        "grepl() devuelve TRUE cuando se encuentra un patrón en la cadena de caracteres  \n",
        "grep() que devuelve un vector de indices de las cadenas de caracteres con el patrón\n",
        "\n",
        "grepl(parttner = \"caracter buscado\", x = \"vector donde buscar\")\n"
      ],
      "metadata": {
        "id": "LvxgjX0JwSmS"
      }
    },
    {
      "cell_type": "code",
      "execution_count": 3,
      "metadata": {
        "colab": {
          "base_uri": "https://localhost:8080/",
          "height": 34
        },
        "id": "8E4xVwD-wNm9",
        "outputId": "41dfbed0-813a-4c85-eaaa-6992ae5784d7"
      },
      "outputs": [
        {
          "output_type": "display_data",
          "data": {
            "text/html": [
              "<style>\n",
              ".list-inline {list-style: none; margin:0; padding: 0}\n",
              ".list-inline>li {display: inline-block}\n",
              ".list-inline>li:not(:last-child)::after {content: \"\\00b7\"; padding: 0 .5ex}\n",
              "</style>\n",
              "<ol class=list-inline><li>TRUE</li><li>TRUE</li><li>FALSE</li><li>TRUE</li><li>TRUE</li><li>FALSE</li></ol>\n"
            ],
            "text/markdown": "1. TRUE\n2. TRUE\n3. FALSE\n4. TRUE\n5. TRUE\n6. FALSE\n\n\n",
            "text/latex": "\\begin{enumerate*}\n\\item TRUE\n\\item TRUE\n\\item FALSE\n\\item TRUE\n\\item TRUE\n\\item FALSE\n\\end{enumerate*}\n",
            "text/plain": [
              "[1]  TRUE  TRUE FALSE  TRUE  TRUE FALSE"
            ]
          },
          "metadata": {}
        }
      ],
      "source": [
        "# The emails vector has already been defined for you\n",
        "emails <- c(\"john.doe@ivyleague.edu\", \"education@world.gov\", \"dalai.lama@peace.org\",\n",
        "            \"invalid.edu\", \"quant@bigdatacollege.edu\", \"cookie.monster@sesame.tv\")\n",
        "\n",
        "# Use grepl() to match for \"edu\"\n",
        "grepl(\"edu\",emails)"
      ]
    },
    {
      "cell_type": "code",
      "source": [
        "# Use grep() to match for \"edu\", save result to hits\n",
        "hits <- grep(\"edu\",emails)\n",
        "hits\n",
        "\n",
        "# Subset emails using hits\n",
        "\n",
        "sapply(hits,function(x,c){c[x]}, c= emails)"
      ],
      "metadata": {
        "colab": {
          "base_uri": "https://localhost:8080/",
          "height": 52
        },
        "id": "pJyWcnnNwd4D",
        "outputId": "1b6d4921-90b0-4b3a-b479-0afee53d8f27"
      },
      "execution_count": 4,
      "outputs": [
        {
          "output_type": "display_data",
          "data": {
            "text/html": [
              "<style>\n",
              ".list-inline {list-style: none; margin:0; padding: 0}\n",
              ".list-inline>li {display: inline-block}\n",
              ".list-inline>li:not(:last-child)::after {content: \"\\00b7\"; padding: 0 .5ex}\n",
              "</style>\n",
              "<ol class=list-inline><li>1</li><li>2</li><li>4</li><li>5</li></ol>\n"
            ],
            "text/markdown": "1. 1\n2. 2\n3. 4\n4. 5\n\n\n",
            "text/latex": "\\begin{enumerate*}\n\\item 1\n\\item 2\n\\item 4\n\\item 5\n\\end{enumerate*}\n",
            "text/plain": [
              "[1] 1 2 4 5"
            ]
          },
          "metadata": {}
        },
        {
          "output_type": "display_data",
          "data": {
            "text/html": [
              "<style>\n",
              ".list-inline {list-style: none; margin:0; padding: 0}\n",
              ".list-inline>li {display: inline-block}\n",
              ".list-inline>li:not(:last-child)::after {content: \"\\00b7\"; padding: 0 .5ex}\n",
              "</style>\n",
              "<ol class=list-inline><li>'john.doe@ivyleague.edu'</li><li>'education@world.gov'</li><li>'invalid.edu'</li><li>'quant@bigdatacollege.edu'</li></ol>\n"
            ],
            "text/markdown": "1. 'john.doe@ivyleague.edu'\n2. 'education@world.gov'\n3. 'invalid.edu'\n4. 'quant@bigdatacollege.edu'\n\n\n",
            "text/latex": "\\begin{enumerate*}\n\\item 'john.doe@ivyleague.edu'\n\\item 'education@world.gov'\n\\item 'invalid.edu'\n\\item 'quant@bigdatacollege.edu'\n\\end{enumerate*}\n",
            "text/plain": [
              "[1] \"john.doe@ivyleague.edu\"   \"education@world.gov\"     \n",
              "[3] \"invalid.edu\"              \"quant@bigdatacollege.edu\""
            ]
          },
          "metadata": {}
        }
      ]
    },
    {
      "cell_type": "markdown",
      "source": [
        "**Mas funciones**\n",
        "\n",
        "Puedes utilizar el caret, ^ (al contenido al principio), y el signo de dólar $ (al final de una cadena) para aplicar coincidencia\n",
        "\n",
        "colocar (.*) aplicar coincidencia a cualquier carácter (.) cero o más veces (*)\n",
        "\n",
        "ejemplo a.*b nos da todas las coincidiencias que empiecen con a, termienn con b y tenga 0 o más caracteres enmedio, dando : ab, agkgkb, akkkb, ....\n",
        "\n",
        "usar \\\\.edu$ para aplicar coincidencia a la parte \".edu\"\n",
        "\n",
        "La parte \\\\ le indica a quieres utilizar (.) como carácter real.\n"
      ],
      "metadata": {
        "id": "Xl155iiTws6Z"
      }
    },
    {
      "cell_type": "code",
      "source": [
        "# Use grepl() to match for .edu addresses more robustly\n",
        "grepl(\"@.*\\\\.edu$\",emails)\n",
        "\n",
        "# Use grep() to match for .edu addresses more robustly, save result to hits\n",
        "hits <- grep(\"@.*\\\\.edu$\",emails)\n",
        "\n",
        "# Subset emails using hits\n",
        "emails[hits]"
      ],
      "metadata": {
        "colab": {
          "base_uri": "https://localhost:8080/",
          "height": 52
        },
        "id": "VCWn7UhVwzNh",
        "outputId": "563835e6-5f73-43b4-a6fb-e27a67cdf1f5"
      },
      "execution_count": 5,
      "outputs": [
        {
          "output_type": "display_data",
          "data": {
            "text/html": [
              "<style>\n",
              ".list-inline {list-style: none; margin:0; padding: 0}\n",
              ".list-inline>li {display: inline-block}\n",
              ".list-inline>li:not(:last-child)::after {content: \"\\00b7\"; padding: 0 .5ex}\n",
              "</style>\n",
              "<ol class=list-inline><li>TRUE</li><li>FALSE</li><li>FALSE</li><li>FALSE</li><li>TRUE</li><li>FALSE</li></ol>\n"
            ],
            "text/markdown": "1. TRUE\n2. FALSE\n3. FALSE\n4. FALSE\n5. TRUE\n6. FALSE\n\n\n",
            "text/latex": "\\begin{enumerate*}\n\\item TRUE\n\\item FALSE\n\\item FALSE\n\\item FALSE\n\\item TRUE\n\\item FALSE\n\\end{enumerate*}\n",
            "text/plain": [
              "[1]  TRUE FALSE FALSE FALSE  TRUE FALSE"
            ]
          },
          "metadata": {}
        },
        {
          "output_type": "display_data",
          "data": {
            "text/html": [
              "<style>\n",
              ".list-inline {list-style: none; margin:0; padding: 0}\n",
              ".list-inline>li {display: inline-block}\n",
              ".list-inline>li:not(:last-child)::after {content: \"\\00b7\"; padding: 0 .5ex}\n",
              "</style>\n",
              "<ol class=list-inline><li>'john.doe@ivyleague.edu'</li><li>'quant@bigdatacollege.edu'</li></ol>\n"
            ],
            "text/markdown": "1. 'john.doe@ivyleague.edu'\n2. 'quant@bigdatacollege.edu'\n\n\n",
            "text/latex": "\\begin{enumerate*}\n\\item 'john.doe@ivyleague.edu'\n\\item 'quant@bigdatacollege.edu'\n\\end{enumerate*}\n",
            "text/plain": [
              "[1] \"john.doe@ivyleague.edu\"   \"quant@bigdatacollege.edu\""
            ]
          },
          "metadata": {}
        }
      ]
    },
    {
      "cell_type": "markdown",
      "source": [
        "**sub() y gsub()**\n",
        "\n",
        "sub y gsub especifica un argumento replacement. Si dentro del vector de caracteres se encuentra la expresión regular pattern (coincidencias), los elementos coincidentes se sustituirán por replacement. sub() solo sustituye la primera coincidencia, mientras que gsub() sustituye todas las coincidencias\n"
      ],
      "metadata": {
        "id": "QGrqrj0iw3jY"
      }
    },
    {
      "cell_type": "code",
      "source": [
        "sub(\"@.*\\\\.edu$\",\"@datacamp.edu\",emails)"
      ],
      "metadata": {
        "colab": {
          "base_uri": "https://localhost:8080/",
          "height": 34
        },
        "id": "GbXBA4Gew6qu",
        "outputId": "5ffb1c3f-f87c-452c-e761-dd34f8e576a2"
      },
      "execution_count": 7,
      "outputs": [
        {
          "output_type": "display_data",
          "data": {
            "text/html": [
              "<style>\n",
              ".list-inline {list-style: none; margin:0; padding: 0}\n",
              ".list-inline>li {display: inline-block}\n",
              ".list-inline>li:not(:last-child)::after {content: \"\\00b7\"; padding: 0 .5ex}\n",
              "</style>\n",
              "<ol class=list-inline><li>'john.doe@datacamp.edu'</li><li>'education@world.gov'</li><li>'dalai.lama@peace.org'</li><li>'invalid.edu'</li><li>'quant@datacamp.edu'</li><li>'cookie.monster@sesame.tv'</li></ol>\n"
            ],
            "text/markdown": "1. 'john.doe@datacamp.edu'\n2. 'education@world.gov'\n3. 'dalai.lama@peace.org'\n4. 'invalid.edu'\n5. 'quant@datacamp.edu'\n6. 'cookie.monster@sesame.tv'\n\n\n",
            "text/latex": "\\begin{enumerate*}\n\\item 'john.doe@datacamp.edu'\n\\item 'education@world.gov'\n\\item 'dalai.lama@peace.org'\n\\item 'invalid.edu'\n\\item 'quant@datacamp.edu'\n\\item 'cookie.monster@sesame.tv'\n\\end{enumerate*}\n",
            "text/plain": [
              "[1] \"john.doe@datacamp.edu\"    \"education@world.gov\"     \n",
              "[3] \"dalai.lama@peace.org\"     \"invalid.edu\"             \n",
              "[5] \"quant@datacamp.edu\"       \"cookie.monster@sesame.tv\""
            ]
          },
          "metadata": {}
        }
      ]
    },
    {
      "cell_type": "markdown",
      "source": [
        "**Mas aplicaciones**\n",
        "\n",
        "\\\\s aplica coincidencias a espacios\n",
        "\n",
        "[0-9]+ aplicar coincidencia a los numeros del 0 al 9 amenos una vez\n",
        "\n",
        "([0-9]+) los parentecis permite que podamos usar esos numeros para reemplazarlos\n",
        "\n",
        "\n"
      ],
      "metadata": {
        "id": "zldUFUAexAGO"
      }
    },
    {
      "cell_type": "markdown",
      "source": [
        "**lapply()**\n",
        "\n",
        "En términos generales, lapply toma un vector o una lista aplica la función FUN a cada uno de sus miembros. Si FUN requiere argumentos adicionales, debes pasarlos después de especificar X FUN ( ... ). La salida de Lapply( es una lista de la misma longitud que , donde cada elemento es el resultado de aplicar FUN al elemento correspondiente de x\n",
        "\n",
        "\\\n",
        "\n",
        " lapply(X, FUN, ...)\n",
        "\n",
        "\\\n",
        "\n",
        "Se puede ocupar con funciones ya definidas o con propias. Se llama funciones anónimas cuando no pones una variable con la función y escribes directamente la fucion en FUN\n"
      ],
      "metadata": {
        "id": "SXNaoE1GyTo-"
      }
    },
    {
      "cell_type": "code",
      "source": [
        "# Code from previous exercise:\n",
        "pioneers <- c(\"GAUSS:1777\", \"BAYES:1702\", \"PASCAL:1623\", \"PEARSON:1857\")\n",
        "split <- strsplit(pioneers, split = \":\")\n",
        "split_low <- lapply(split, tolower)\n",
        "\n",
        "# Write function select_first()\n",
        "select_first <- function(x) {\n",
        "  x[1]\n",
        "}\n",
        "\n",
        "# Apply select_first() over split_low: names\n",
        "names <- lapply(split_low,select_first)\n",
        "\n",
        "# Write function select_second()\n",
        "select_second <- function(x){\n",
        "  x[2]\n",
        "}\n",
        "\n",
        "# Apply select_second() over split_low: years\n",
        "years <- lapply(split_low,select_second)\n",
        "years"
      ],
      "metadata": {
        "colab": {
          "base_uri": "https://localhost:8080/",
          "height": 114
        },
        "id": "LhWs4ei9yXXk",
        "outputId": "e1a45492-f82a-4d42-d20d-6ff72250f219"
      },
      "execution_count": 10,
      "outputs": [
        {
          "output_type": "display_data",
          "data": {
            "text/html": [
              "<ol>\n",
              "\t<li>'1777'</li>\n",
              "\t<li>'1702'</li>\n",
              "\t<li>'1623'</li>\n",
              "\t<li>'1857'</li>\n",
              "</ol>\n"
            ],
            "text/markdown": "1. '1777'\n2. '1702'\n3. '1623'\n4. '1857'\n\n\n",
            "text/latex": "\\begin{enumerate}\n\\item '1777'\n\\item '1702'\n\\item '1623'\n\\item '1857'\n\\end{enumerate}\n",
            "text/plain": [
              "[[1]]\n",
              "[1] \"1777\"\n",
              "\n",
              "[[2]]\n",
              "[1] \"1702\"\n",
              "\n",
              "[[3]]\n",
              "[1] \"1623\"\n",
              "\n",
              "[[4]]\n",
              "[1] \"1857\"\n"
            ]
          },
          "metadata": {}
        }
      ]
    },
    {
      "cell_type": "markdown",
      "source": [
        "**Funciones genéricas**\n",
        "\n",
        "Podemos crear funciones genericas, asignando variables\n"
      ],
      "metadata": {
        "id": "13StRpO2yfA-"
      }
    },
    {
      "cell_type": "code",
      "source": [
        "multiply <- function(x, factor) {\n",
        "\n",
        "  x * factor\n",
        "\n",
        "}\n",
        "lapply(list(1,2,3), multiply, factor = 3)\n"
      ],
      "metadata": {
        "colab": {
          "base_uri": "https://localhost:8080/",
          "height": 97
        },
        "id": "wKFIrGZ9ygCx",
        "outputId": "6c8a36f9-6240-4ab3-fcbd-81e72fc53cc6"
      },
      "execution_count": 11,
      "outputs": [
        {
          "output_type": "display_data",
          "data": {
            "text/html": [
              "<ol>\n",
              "\t<li>3</li>\n",
              "\t<li>6</li>\n",
              "\t<li>9</li>\n",
              "</ol>\n"
            ],
            "text/markdown": "1. 3\n2. 6\n3. 9\n\n\n",
            "text/latex": "\\begin{enumerate}\n\\item 3\n\\item 6\n\\item 9\n\\end{enumerate}\n",
            "text/plain": [
              "[[1]]\n",
              "[1] 3\n",
              "\n",
              "[[2]]\n",
              "[1] 6\n",
              "\n",
              "[[3]]\n",
              "[1] 9\n"
            ]
          },
          "metadata": {}
        }
      ]
    },
    {
      "cell_type": "markdown",
      "source": [
        "**sapply()**\n",
        "\n",
        "Funciona igual que lapply() pero en vez de regresar una lista, regresa un vector con nombres\n",
        "\n",
        "Podemos no ponerles nombres, poniendo como argumento\n",
        "\n",
        "'USE.NAMEZ = FALSE'\n",
        "\n",
        "Si tenemos más de un vector o regresa varios valores, crea una matriz\n",
        "\n",
        "Cuando no tienen la misma longitud, se crea una lista como lapply\n",
        "\n"
      ],
      "metadata": {
        "id": "uTB_6akVymNF"
      }
    },
    {
      "cell_type": "code",
      "source": [
        "cadenas <- list(\"hola\", \"mundo\", \"R\", \"es\", \"genial\")\n",
        "\n",
        "# Longitud de cada palabra\n",
        "lapply(cadenas, nchar)\n",
        "# Lista: [[1]] 4, [[2]] 5, ...\n",
        "\n",
        "sapply(cadenas, nchar)\n",
        "# Vector: 4 5 1 2 6\n",
        "\n",
        "vapply(cadenas, nchar, FUN.VALUE = integer(1))\n",
        "# Vector entero: 4 5 1 2 6"
      ],
      "metadata": {
        "colab": {
          "base_uri": "https://localhost:8080/",
          "height": 166
        },
        "id": "Uoxt-JhMyrar",
        "outputId": "bfe8db74-feee-44fe-b1ed-3ab58c6e5cda"
      },
      "execution_count": 12,
      "outputs": [
        {
          "output_type": "display_data",
          "data": {
            "text/html": [
              "<ol>\n",
              "\t<li>4</li>\n",
              "\t<li>5</li>\n",
              "\t<li>1</li>\n",
              "\t<li>2</li>\n",
              "\t<li>6</li>\n",
              "</ol>\n"
            ],
            "text/markdown": "1. 4\n2. 5\n3. 1\n4. 2\n5. 6\n\n\n",
            "text/latex": "\\begin{enumerate}\n\\item 4\n\\item 5\n\\item 1\n\\item 2\n\\item 6\n\\end{enumerate}\n",
            "text/plain": [
              "[[1]]\n",
              "[1] 4\n",
              "\n",
              "[[2]]\n",
              "[1] 5\n",
              "\n",
              "[[3]]\n",
              "[1] 1\n",
              "\n",
              "[[4]]\n",
              "[1] 2\n",
              "\n",
              "[[5]]\n",
              "[1] 6\n"
            ]
          },
          "metadata": {}
        },
        {
          "output_type": "display_data",
          "data": {
            "text/html": [
              "<style>\n",
              ".list-inline {list-style: none; margin:0; padding: 0}\n",
              ".list-inline>li {display: inline-block}\n",
              ".list-inline>li:not(:last-child)::after {content: \"\\00b7\"; padding: 0 .5ex}\n",
              "</style>\n",
              "<ol class=list-inline><li>4</li><li>5</li><li>1</li><li>2</li><li>6</li></ol>\n"
            ],
            "text/markdown": "1. 4\n2. 5\n3. 1\n4. 2\n5. 6\n\n\n",
            "text/latex": "\\begin{enumerate*}\n\\item 4\n\\item 5\n\\item 1\n\\item 2\n\\item 6\n\\end{enumerate*}\n",
            "text/plain": [
              "[1] 4 5 1 2 6"
            ]
          },
          "metadata": {}
        },
        {
          "output_type": "display_data",
          "data": {
            "text/html": [
              "<style>\n",
              ".list-inline {list-style: none; margin:0; padding: 0}\n",
              ".list-inline>li {display: inline-block}\n",
              ".list-inline>li:not(:last-child)::after {content: \"\\00b7\"; padding: 0 .5ex}\n",
              "</style>\n",
              "<ol class=list-inline><li>4</li><li>5</li><li>1</li><li>2</li><li>6</li></ol>\n"
            ],
            "text/markdown": "1. 4\n2. 5\n3. 1\n4. 2\n5. 6\n\n\n",
            "text/latex": "\\begin{enumerate*}\n\\item 4\n\\item 5\n\\item 1\n\\item 2\n\\item 6\n\\end{enumerate*}\n",
            "text/plain": [
              "[1] 4 5 1 2 6"
            ]
          },
          "metadata": {}
        }
      ]
    }
  ]
}