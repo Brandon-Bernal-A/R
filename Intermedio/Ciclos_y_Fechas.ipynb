{
  "nbformat": 4,
  "nbformat_minor": 0,
  "metadata": {
    "colab": {
      "provenance": [],
      "authorship_tag": "ABX9TyNtNSVvpHW+4op8A5ceSotF",
      "include_colab_link": true
    },
    "kernelspec": {
      "name": "ir",
      "display_name": "R"
    },
    "language_info": {
      "name": "R"
    }
  },
  "cells": [
    {
      "cell_type": "markdown",
      "metadata": {
        "id": "view-in-github",
        "colab_type": "text"
      },
      "source": [
        "<a href=\"https://colab.research.google.com/github/Brandon-Bernal-Alarcon/Notas--R/blob/main/Intermedio/Ciclos_y_Fechas.ipynb\" target=\"_parent\"><img src=\"https://colab.research.google.com/assets/colab-badge.svg\" alt=\"Open In Colab\"/></a>"
      ]
    },
    {
      "cell_type": "markdown",
      "source": [
        "**While**\n",
        "\n",
        "Sigue la misma estructura que un if\n",
        "\n",
        "\\\n",
        "\n",
        "while(condition){\n",
        "\n",
        "  \\\n",
        "      ejecución\n",
        "\n",
        "  \\\n",
        "         }\n",
        "\n",
        "\\\n",
        "\n",
        "Se ejecutara siempre que la condición se cumpla y seguira funcionado hasta que de falso\n",
        "\n",
        "En la ejecución puede ir cualquier cosa, incluyendo while, if u otra cosa **'break'** sirve para cerrar el ciclo\n",
        "\n",
        "**For**\n",
        "\n",
        "El for se ejecuta por cada variable en una secuencia\n",
        "\n",
        "\\\n",
        "           for(var in seq){\n",
        "            \\\n",
        "            expresión\n",
        "            \\\n",
        "            }\n",
        "\n",
        "La secuencia puede ser un vector o una lista, marco de datos o matrices en ves de poner var in seq, podemos usar rangos, con i in 1:5\n",
        "\n",
        "**nchar** es una funcion que nos da el numero de carscteres\n",
        "\n",
        "En for tambien podemos usar **Break**, pero existe el **'next'** que salta a la siguiente variable en la lista, mientras que break deja de correr\n",
        "\n"
      ],
      "metadata": {
        "id": "FOfzl8c1qDmW"
      }
    },
    {
      "cell_type": "markdown",
      "source": [
        "**While**\n",
        "\n",
        "\\\n",
        "\n",
        "Sigue la misma estructura que un if\n",
        "while(condition){\n",
        "      ejecución\n",
        "     }\n",
        "\n",
        "\\\n",
        "\n",
        "Se ejecutara siempre que la condición se cumpla y seguira funcionado hasta que de falso\n",
        "\n",
        "\\\n",
        "\n",
        "En la ejecución puede ir cualquier cosa, incluyendo while, if u otra cosa **'break'** sirve para cerrar el ciclo\n",
        "\n",
        "\\\n",
        "\n",
        "**For**\n",
        "\n",
        "El for se ejecuta por cada variable en una secuencia\n",
        "\n",
        "for(var in seq){\n",
        " expresión\n",
        "}\n",
        "\n",
        "La secuencia puede ser un vector o una lista, marco de datos o matrices en ves de poner var in seq, podemos usar rangos, con i in 1:5\n",
        "\n",
        "**nchar** es una funcion que nos da el numero de carscteres\n",
        "\n",
        "En for tambien podemos usar **Break**, pero existe el **'next'** que salta a la siguiente variable en la lista, mientras que break deja de correr\n",
        "\n"
      ],
      "metadata": {
        "id": "olXBvtllqJCv"
      }
    },
    {
      "cell_type": "code",
      "source": [
        "primes <- c(2, 3, 5, 7, 11, 13)\n",
        "\n",
        "# loop version 1\n",
        "for (p in primes) {\n",
        "  print(p)\n",
        "}"
      ],
      "metadata": {
        "colab": {
          "base_uri": "https://localhost:8080/"
        },
        "id": "kDFRKhbHqYjD",
        "outputId": "ab4bacb8-7855-454e-bbdd-000b8f1daa77"
      },
      "execution_count": 1,
      "outputs": [
        {
          "output_type": "stream",
          "name": "stdout",
          "text": [
            "[1] 2\n",
            "[1] 3\n",
            "[1] 5\n",
            "[1] 7\n",
            "[1] 11\n",
            "[1] 13\n"
          ]
        }
      ]
    },
    {
      "cell_type": "code",
      "source": [
        "# loop version 2\n",
        "for (i in 1:length(primes)) {\n",
        "  print(primes[i])\n",
        "}"
      ],
      "metadata": {
        "colab": {
          "base_uri": "https://localhost:8080/"
        },
        "id": "mkt51HDFqiTJ",
        "outputId": "9d2b93a8-97eb-4fc7-8eac-ef14671e7769"
      },
      "execution_count": 2,
      "outputs": [
        {
          "output_type": "stream",
          "name": "stdout",
          "text": [
            "[1] 2\n",
            "[1] 3\n",
            "[1] 5\n",
            "[1] 7\n",
            "[1] 11\n",
            "[1] 13\n"
          ]
        }
      ]
    },
    {
      "cell_type": "code",
      "source": [
        "#Preguntar la fecha de hoy\n",
        "\n",
        "today <- Sys.Date()\n",
        "today\n",
        "\n",
        "# Nos da \"2025-04-11\""
      ],
      "metadata": {
        "colab": {
          "base_uri": "https://localhost:8080/",
          "height": 34
        },
        "id": "_PdsGBC0rPg5",
        "outputId": "f7e352df-5d90-4d66-b767-7fb262817638"
      },
      "execution_count": 5,
      "outputs": [
        {
          "output_type": "display_data",
          "data": {
            "text/html": [
              "<time datetime=\"2025-07-10\">2025-07-10</time>"
            ],
            "text/markdown": "2025-07-10",
            "text/latex": "2025-07-10",
            "text/plain": [
              "[1] \"2025-07-10\""
            ]
          },
          "metadata": {}
        }
      ]
    },
    {
      "cell_type": "code",
      "source": [
        "class(today)\n",
        "\n",
        "#No es una clase vista antes, es una nueva, llamada \"Date\"\n"
      ],
      "metadata": {
        "colab": {
          "base_uri": "https://localhost:8080/",
          "height": 34
        },
        "id": "GJmKAcqyrY3L",
        "outputId": "701cee70-22a5-46bd-a7d4-9834a056afcf"
      },
      "execution_count": 6,
      "outputs": [
        {
          "output_type": "display_data",
          "data": {
            "text/html": [
              "'Date'"
            ],
            "text/markdown": "'Date'",
            "text/latex": "'Date'",
            "text/plain": [
              "[1] \"Date\""
            ]
          },
          "metadata": {}
        }
      ]
    },
    {
      "cell_type": "code",
      "source": [
        "#Para obtener la hora usamos\n",
        "\n",
        "now <- Sys.time()\n",
        "now\n",
        "\n",
        "# Nos da \"2025-04-11 15:19:13 UTC\" POXIc\n",
        "#en clase POSIXct y POSIXt"
      ],
      "metadata": {
        "colab": {
          "base_uri": "https://localhost:8080/",
          "height": 34
        },
        "id": "L--IHu2NrbG6",
        "outputId": "958ceb08-6f68-4f9a-f7fb-8cc15b8196a2"
      },
      "execution_count": 7,
      "outputs": [
        {
          "output_type": "display_data",
          "data": {
            "text/plain": [
              "[1] \"2025-07-10 04:52:43 UTC\""
            ]
          },
          "metadata": {}
        }
      ]
    },
    {
      "cell_type": "code",
      "source": [
        "# Para crear valores con fechas y clase Date se usa\n",
        "\n",
        "my_date <- as.Date(\"1987-02-13\")\n",
        "my_date"
      ],
      "metadata": {
        "colab": {
          "base_uri": "https://localhost:8080/",
          "height": 34
        },
        "id": "kPYaEhR_rfMy",
        "outputId": "ff8285cd-431f-433c-b6e4-8d0cccdcaa5e"
      },
      "execution_count": 11,
      "outputs": [
        {
          "output_type": "display_data",
          "data": {
            "text/html": [
              "<time datetime=\"1987-02-13\">1987-02-13</time>"
            ],
            "text/markdown": "1987-02-13",
            "text/latex": "1987-02-13",
            "text/plain": [
              "[1] \"1987-02-13\""
            ]
          },
          "metadata": {}
        }
      ]
    },
    {
      "cell_type": "code",
      "source": [
        "#Es importante usar \"año-mes-day\"\n",
        "\n",
        "  # Podemos cambiar el orden poniendo\n",
        "\n",
        "  my_date <- as.Date(\"1987-24-05\", format = \"%Y-%d-%m\")\n",
        "  my_date"
      ],
      "metadata": {
        "colab": {
          "base_uri": "https://localhost:8080/",
          "height": 34
        },
        "id": "Jhq4TzLDrh7e",
        "outputId": "49be5ddf-c69d-483a-e768-1d98d7ad108b"
      },
      "execution_count": 12,
      "outputs": [
        {
          "output_type": "display_data",
          "data": {
            "text/html": [
              "<time datetime=\"1987-05-24\">1987-05-24</time>"
            ],
            "text/markdown": "1987-05-24",
            "text/latex": "1987-05-24",
            "text/plain": [
              "[1] \"1987-05-24\""
            ]
          },
          "metadata": {}
        }
      ]
    },
    {
      "cell_type": "code",
      "source": [
        "#Podemos usar lo siguiente:\n",
        "\n",
        "# %Y año de 4 cifras (1982)\n",
        "# %y año de 2 cifras (82)\n",
        "# %m mes de 2 cifrss (03)\n",
        "# %d día en 2 cifrss (23)\n",
        "# %A Dia entre semana (wendays)\n",
        "# %a día abreviado (wen)\n",
        "# %B mes (January)\n",
        "# %b mes abreviado(Jan)\n",
        "\n",
        "\n",
        "#Además podemos dar formato desde que Definimos con format()\n",
        "\n",
        "today <- Sys.Date()\n",
        "format(Sys.Date(), format = \"%d %B, %Y\")\n",
        "format(Sys.Date(), format = \"Today is a %A!\")"
      ],
      "metadata": {
        "colab": {
          "base_uri": "https://localhost:8080/",
          "height": 52
        },
        "id": "nChCwN_Fro1D",
        "outputId": "be3baadd-437a-4485-942c-5909c986115a"
      },
      "execution_count": 14,
      "outputs": [
        {
          "output_type": "display_data",
          "data": {
            "text/html": [
              "'10 July, 2025'"
            ],
            "text/markdown": "'10 July, 2025'",
            "text/latex": "'10 July, 2025'",
            "text/plain": [
              "[1] \"10 July, 2025\""
            ]
          },
          "metadata": {}
        },
        {
          "output_type": "display_data",
          "data": {
            "text/html": [
              "'Today is a Thursday!'"
            ],
            "text/markdown": "'Today is a Thursday!'",
            "text/latex": "'Today is a Thursday!'",
            "text/plain": [
              "[1] \"Today is a Thursday!\""
            ]
          },
          "metadata": {}
        }
      ]
    },
    {
      "cell_type": "code",
      "source": [
        "# Para los POSIXct\n",
        "\n",
        "my_time <- as.POSIXct(\"1971-05-14 11:25:15\")\n",
        "my_time"
      ],
      "metadata": {
        "colab": {
          "base_uri": "https://localhost:8080/",
          "height": 34
        },
        "id": "77Or-1grrvdP",
        "outputId": "74b870ce-8744-483e-af40-809c95a9fb81"
      },
      "execution_count": 17,
      "outputs": [
        {
          "output_type": "display_data",
          "data": {
            "text/plain": [
              "[1] \"1971-05-14 11:25:15 UTC\""
            ]
          },
          "metadata": {}
        }
      ]
    },
    {
      "cell_type": "code",
      "source": [
        "# Podemos usar los siguiente\n",
        "\n",
        "# %H :horas como número del sistema decimal (00-23)\n",
        "# %I : horas como número del sistema decimal (01-12)\n",
        "# %M : minutos como número del sistema decimal\n",
        "# %S : segundos como número del sistema decimal\n",
        "# %T : notación abreviada del formato típico %H : %M : %S\n",
        "# %p :indicador AM/PM\n",
        "\n",
        "?strptime #para mas detalles\n"
      ],
      "metadata": {
        "id": "qBJrUkfWr2zn"
      },
      "execution_count": 18,
      "outputs": []
    },
    {
      "cell_type": "code",
      "source": [
        "#Lo interesante es que podemos hacer caluclos\n",
        "\n",
        "my_date\n",
        "my_date2 <- my_date + 14\n",
        "my_date2"
      ],
      "metadata": {
        "colab": {
          "base_uri": "https://localhost:8080/",
          "height": 52
        },
        "id": "e3mC6oztr4n2",
        "outputId": "21fafd44-162f-488e-e566-94defd5bb550"
      },
      "execution_count": 20,
      "outputs": [
        {
          "output_type": "display_data",
          "data": {
            "text/html": [
              "<time datetime=\"1987-05-24\">1987-05-24</time>"
            ],
            "text/markdown": "1987-05-24",
            "text/latex": "1987-05-24",
            "text/plain": [
              "[1] \"1987-05-24\""
            ]
          },
          "metadata": {}
        },
        {
          "output_type": "display_data",
          "data": {
            "text/html": [
              "<time datetime=\"1987-06-07\">1987-06-07</time>"
            ],
            "text/markdown": "1987-06-07",
            "text/latex": "1987-06-07",
            "text/plain": [
              "[1] \"1987-06-07\""
            ]
          },
          "metadata": {}
        }
      ]
    },
    {
      "cell_type": "code",
      "source": [
        "#podemos calcular diferencia de días\n",
        "\n",
        "my_date - my_date2\n",
        "#La diferencia entre POSIX y DATE es que si sumo 1, suma 1 segundo y 1 día respectivamente\n",
        "\n",
        "now <- Sys.time()\n",
        "now + 3600          # add an hour\n",
        "now - 3600 * 24     # subtract a day\n",
        "\n",
        "birth <- as.POSIXct(\"1879-03-14 14:37:23\")\n",
        "death <- as.POSIXct(\"1955-04-18 03:47:12\")\n",
        "einstein <- death - birth\n",
        "einstein"
      ],
      "metadata": {
        "colab": {
          "base_uri": "https://localhost:8080/",
          "height": 86
        },
        "id": "a1YTBRSmr-ct",
        "outputId": "2b9929d0-e813-414d-f512-80bdf1a10894"
      },
      "execution_count": 23,
      "outputs": [
        {
          "output_type": "display_data",
          "data": {
            "text/plain": [
              "Time difference of -14 days"
            ]
          },
          "metadata": {}
        },
        {
          "output_type": "display_data",
          "data": {
            "text/plain": [
              "[1] \"2025-07-10 05:55:17 UTC\""
            ]
          },
          "metadata": {}
        },
        {
          "output_type": "display_data",
          "data": {
            "text/plain": [
              "[1] \"2025-07-09 04:55:17 UTC\""
            ]
          },
          "metadata": {}
        },
        {
          "output_type": "display_data",
          "data": {
            "text/plain": [
              "Time difference of 27792.55 days"
            ]
          },
          "metadata": {}
        }
      ]
    }
  ]
}