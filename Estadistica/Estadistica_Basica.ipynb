{
  "nbformat": 4,
  "nbformat_minor": 0,
  "metadata": {
    "colab": {
      "provenance": [],
      "authorship_tag": "ABX9TyPpAKTMQkxJKK73lvu+C/nD",
      "include_colab_link": true
    },
    "kernelspec": {
      "name": "ir",
      "display_name": "R"
    },
    "language_info": {
      "name": "R"
    }
  },
  "cells": [
    {
      "cell_type": "markdown",
      "metadata": {
        "id": "view-in-github",
        "colab_type": "text"
      },
      "source": [
        "<a href=\"https://colab.research.google.com/github/Brandon-Bernal-Alarcon/Notas--R/blob/main/Estadistica/Estadistica_Basica.ipynb\" target=\"_parent\"><img src=\"https://colab.research.google.com/assets/colab-badge.svg\" alt=\"Open In Colab\"/></a>"
      ]
    },
    {
      "cell_type": "markdown",
      "source": [
        "**Estadística Basica**"
      ],
      "metadata": {
        "id": "3SQgfkHIyiET"
      }
    },
    {
      "cell_type": "code",
      "execution_count": 1,
      "metadata": {
        "id": "Ll3yCArMkibf",
        "colab": {
          "base_uri": "https://localhost:8080/"
        },
        "collapsed": true,
        "outputId": "e399ab77-b1d9-4aa0-f7d5-572d969feef8"
      },
      "outputs": [
        {
          "output_type": "stream",
          "name": "stderr",
          "text": [
            "\n",
            "Attaching package: ‘dplyr’\n",
            "\n",
            "\n",
            "The following objects are masked from ‘package:stats’:\n",
            "\n",
            "    filter, lag\n",
            "\n",
            "\n",
            "The following objects are masked from ‘package:base’:\n",
            "\n",
            "    intersect, setdiff, setequal, union\n",
            "\n",
            "\n"
          ]
        }
      ],
      "source": [
        "#Librerías a usar\n",
        "library(dplyr)\n",
        "library(ggplot2)\n",
        "\n",
        "#Data frame para los ejemplos\n",
        "datos <- data.frame(\n",
        "  edad = c(23, 25, 31, 29, 35, 40, 22, 28, 33, 30),\n",
        "  ingreso_mensual = c(1500, 1800, 2200, 2000, 2500, 2700, 1400, 1900, 2400, 2100),\n",
        "  horas_trabajo = c(40, 42, 38, 45, 50, 48, 36, 41, 44, 39)\n",
        ")"
      ]
    },
    {
      "cell_type": "code",
      "source": [
        "head(datos)"
      ],
      "metadata": {
        "colab": {
          "base_uri": "https://localhost:8080/",
          "height": 286
        },
        "id": "Kk_3abkiye7m",
        "outputId": "1db1be67-2563-4faf-a19b-2657614aed59"
      },
      "execution_count": 2,
      "outputs": [
        {
          "output_type": "display_data",
          "data": {
            "text/html": [
              "<table class=\"dataframe\">\n",
              "<caption>A data.frame: 6 × 3</caption>\n",
              "<thead>\n",
              "\t<tr><th></th><th scope=col>edad</th><th scope=col>ingreso_mensual</th><th scope=col>horas_trabajo</th></tr>\n",
              "\t<tr><th></th><th scope=col>&lt;dbl&gt;</th><th scope=col>&lt;dbl&gt;</th><th scope=col>&lt;dbl&gt;</th></tr>\n",
              "</thead>\n",
              "<tbody>\n",
              "\t<tr><th scope=row>1</th><td>23</td><td>1500</td><td>40</td></tr>\n",
              "\t<tr><th scope=row>2</th><td>25</td><td>1800</td><td>42</td></tr>\n",
              "\t<tr><th scope=row>3</th><td>31</td><td>2200</td><td>38</td></tr>\n",
              "\t<tr><th scope=row>4</th><td>29</td><td>2000</td><td>45</td></tr>\n",
              "\t<tr><th scope=row>5</th><td>35</td><td>2500</td><td>50</td></tr>\n",
              "\t<tr><th scope=row>6</th><td>40</td><td>2700</td><td>48</td></tr>\n",
              "</tbody>\n",
              "</table>\n"
            ],
            "text/markdown": "\nA data.frame: 6 × 3\n\n| <!--/--> | edad &lt;dbl&gt; | ingreso_mensual &lt;dbl&gt; | horas_trabajo &lt;dbl&gt; |\n|---|---|---|---|\n| 1 | 23 | 1500 | 40 |\n| 2 | 25 | 1800 | 42 |\n| 3 | 31 | 2200 | 38 |\n| 4 | 29 | 2000 | 45 |\n| 5 | 35 | 2500 | 50 |\n| 6 | 40 | 2700 | 48 |\n\n",
            "text/latex": "A data.frame: 6 × 3\n\\begin{tabular}{r|lll}\n  & edad & ingreso\\_mensual & horas\\_trabajo\\\\\n  & <dbl> & <dbl> & <dbl>\\\\\n\\hline\n\t1 & 23 & 1500 & 40\\\\\n\t2 & 25 & 1800 & 42\\\\\n\t3 & 31 & 2200 & 38\\\\\n\t4 & 29 & 2000 & 45\\\\\n\t5 & 35 & 2500 & 50\\\\\n\t6 & 40 & 2700 & 48\\\\\n\\end{tabular}\n",
            "text/plain": [
              "  edad ingreso_mensual horas_trabajo\n",
              "1 23   1500            40           \n",
              "2 25   1800            42           \n",
              "3 31   2200            38           \n",
              "4 29   2000            45           \n",
              "5 35   2500            50           \n",
              "6 40   2700            48           "
            ]
          },
          "metadata": {}
        }
      ]
    },
    {
      "cell_type": "markdown",
      "source": [
        "**mean()** → Esperanza o media"
      ],
      "metadata": {
        "id": "M8DL4rp-ylj2"
      }
    },
    {
      "cell_type": "code",
      "source": [
        "mean(datos$edad)"
      ],
      "metadata": {
        "colab": {
          "base_uri": "https://localhost:8080/",
          "height": 34
        },
        "id": "fowVw5uWyrMH",
        "outputId": "88498d00-9f1e-4664-e365-ce5746eedfee"
      },
      "execution_count": 3,
      "outputs": [
        {
          "output_type": "display_data",
          "data": {
            "text/html": [
              "29.6"
            ],
            "text/markdown": "29.6",
            "text/latex": "29.6",
            "text/plain": [
              "[1] 29.6"
            ]
          },
          "metadata": {}
        }
      ]
    },
    {
      "cell_type": "markdown",
      "source": [
        "**median()** → Mediana"
      ],
      "metadata": {
        "id": "7C-oEMOIytQ-"
      }
    },
    {
      "cell_type": "code",
      "source": [
        "median(datos$edad)"
      ],
      "metadata": {
        "colab": {
          "base_uri": "https://localhost:8080/",
          "height": 34
        },
        "id": "trzf_jNLyxpU",
        "outputId": "7b98cd71-2edf-4c6f-f181-5f926426d4a4"
      },
      "execution_count": 4,
      "outputs": [
        {
          "output_type": "display_data",
          "data": {
            "text/html": [
              "29.5"
            ],
            "text/markdown": "29.5",
            "text/latex": "29.5",
            "text/plain": [
              "[1] 29.5"
            ]
          },
          "metadata": {}
        }
      ]
    },
    {
      "cell_type": "markdown",
      "source": [
        "var() → Varianza"
      ],
      "metadata": {
        "id": "xrwfGasAyxLe"
      }
    },
    {
      "cell_type": "code",
      "source": [
        "var(datos$edad)"
      ],
      "metadata": {
        "colab": {
          "base_uri": "https://localhost:8080/",
          "height": 34
        },
        "id": "gya9K03Iy3GA",
        "outputId": "0746e5ef-82b0-4ddf-8122-8856aa4d6b40"
      },
      "execution_count": 5,
      "outputs": [
        {
          "output_type": "display_data",
          "data": {
            "text/html": [
              "30.7111111111111"
            ],
            "text/markdown": "30.7111111111111",
            "text/latex": "30.7111111111111",
            "text/plain": [
              "[1] 30.71111"
            ]
          },
          "metadata": {}
        }
      ]
    },
    {
      "cell_type": "markdown",
      "source": [
        "sd() → Desviación estándar"
      ],
      "metadata": {
        "id": "JFkMD5b1y6_A"
      }
    },
    {
      "cell_type": "code",
      "source": [
        "sd(datos$edad)"
      ],
      "metadata": {
        "colab": {
          "base_uri": "https://localhost:8080/",
          "height": 34
        },
        "id": "qtoeI9cwy8lF",
        "outputId": "026a9865-cab4-4563-d869-5ea7ea807575"
      },
      "execution_count": 6,
      "outputs": [
        {
          "output_type": "display_data",
          "data": {
            "text/html": [
              "5.54176065083211"
            ],
            "text/markdown": "5.54176065083211",
            "text/latex": "5.54176065083211",
            "text/plain": [
              "[1] 5.541761"
            ]
          },
          "metadata": {}
        }
      ]
    },
    {
      "cell_type": "markdown",
      "source": [
        "**Cuantiles y Percentiles**\n",
        "\n",
        "quantile() → Divide la data en proporciones"
      ],
      "metadata": {
        "id": "_n8jsxjfy957"
      }
    },
    {
      "cell_type": "code",
      "source": [
        "quantile(datValores atípicos (outliers)os$edad, probs = .5)  # Cuartiles\n",
        "quantile(datos$edad, probs = c(0.2, 0.75))  # Percentiles\n",
        "quantile(datos$edad, probs = seq(0, 1, 0.25))  # Cuartiles usando secuencia"
      ],
      "metadata": {
        "colab": {
          "base_uri": "https://localhost:8080/",
          "height": 69
        },
        "id": "jjWq2I25zCqi",
        "outputId": "09511ad6-00ea-41ea-e8f3-e32b65df308d"
      },
      "execution_count": 8,
      "outputs": [
        {
          "output_type": "display_data",
          "data": {
            "text/html": [
              "<strong>50%:</strong> 29.5"
            ],
            "text/markdown": "**50%:** 29.5",
            "text/latex": "\\textbf{50\\textbackslash{}\\%:} 29.5",
            "text/plain": [
              " 50% \n",
              "29.5 "
            ]
          },
          "metadata": {}
        },
        {
          "output_type": "display_data",
          "data": {
            "text/html": [
              "<style>\n",
              ".dl-inline {width: auto; margin:0; padding: 0}\n",
              ".dl-inline>dt, .dl-inline>dd {float: none; width: auto; display: inline-block}\n",
              ".dl-inline>dt::after {content: \":\\0020\"; padding-right: .5ex}\n",
              ".dl-inline>dt:not(:first-of-type) {padding-left: .5ex}\n",
              "</style><dl class=dl-inline><dt>20%</dt><dd>24.6</dd><dt>75%</dt><dd>32.5</dd></dl>\n"
            ],
            "text/markdown": "20%\n:   24.675%\n:   32.5\n\n",
            "text/latex": "\\begin{description*}\n\\item[20\\textbackslash{}\\%] 24.6\n\\item[75\\textbackslash{}\\%] 32.5\n\\end{description*}\n",
            "text/plain": [
              " 20%  75% \n",
              "24.6 32.5 "
            ]
          },
          "metadata": {}
        },
        {
          "output_type": "display_data",
          "data": {
            "text/html": [
              "<style>\n",
              ".dl-inline {width: auto; margin:0; padding: 0}\n",
              ".dl-inline>dt, .dl-inline>dd {float: none; width: auto; display: inline-block}\n",
              ".dl-inline>dt::after {content: \":\\0020\"; padding-right: .5ex}\n",
              ".dl-inline>dt:not(:first-of-type) {padding-left: .5ex}\n",
              "</style><dl class=dl-inline><dt>0%</dt><dd>22</dd><dt>25%</dt><dd>25.75</dd><dt>50%</dt><dd>29.5</dd><dt>75%</dt><dd>32.5</dd><dt>100%</dt><dd>40</dd></dl>\n"
            ],
            "text/markdown": "0%\n:   2225%\n:   25.7550%\n:   29.575%\n:   32.5100%\n:   40\n\n",
            "text/latex": "\\begin{description*}\n\\item[0\\textbackslash{}\\%] 22\n\\item[25\\textbackslash{}\\%] 25.75\n\\item[50\\textbackslash{}\\%] 29.5\n\\item[75\\textbackslash{}\\%] 32.5\n\\item[100\\textbackslash{}\\%] 40\n\\end{description*}\n",
            "text/plain": [
              "   0%   25%   50%   75%  100% \n",
              "22.00 25.75 29.50 32.50 40.00 "
            ]
          },
          "metadata": {}
        }
      ]
    },
    {
      "cell_type": "markdown",
      "source": [
        "Rango Intercuartílico (IQR)"
      ],
      "metadata": {
        "id": "FQaUUQwHzQJ_"
      }
    },
    {
      "cell_type": "code",
      "source": [
        "IQR(datos$edad)"
      ],
      "metadata": {
        "colab": {
          "base_uri": "https://localhost:8080/",
          "height": 34
        },
        "id": "9UNpyfv1zR4O",
        "outputId": "48f0df61-9e74-45d6-9bdd-5352140f1b7f"
      },
      "execution_count": 10,
      "outputs": [
        {
          "output_type": "display_data",
          "data": {
            "text/html": [
              "6.75"
            ],
            "text/markdown": "6.75",
            "text/latex": "6.75",
            "text/plain": [
              "[1] 6.75"
            ]
          },
          "metadata": {}
        }
      ]
    },
    {
      "cell_type": "markdown",
      "source": [
        "**Valores atípicos (outliers)**"
      ],
      "metadata": {
        "id": "yyy25ZS2zYsn"
      }
    },
    {
      "cell_type": "code",
      "source": [
        "Q1 <- quantile(datos$edad, 0.25)\n",
        "Q3 <- quantile(datos$edad, 0.75)\n",
        "I <- Q3 - Q1\n",
        "outliers <- datos$edad > (Q3 + 1.5*I) | datos$edad < (Q1 - 1.5*I)\n",
        "outliers"
      ],
      "metadata": {
        "colab": {
          "base_uri": "https://localhost:8080/",
          "height": 34
        },
        "id": "NYNgDUdhza1A",
        "outputId": "1f17f3ea-f528-460f-c1c8-24ac8edd5b6b"
      },
      "execution_count": 13,
      "outputs": [
        {
          "output_type": "display_data",
          "data": {
            "text/html": [
              "<style>\n",
              ".list-inline {list-style: none; margin:0; padding: 0}\n",
              ".list-inline>li {display: inline-block}\n",
              ".list-inline>li:not(:last-child)::after {content: \"\\00b7\"; padding: 0 .5ex}\n",
              "</style>\n",
              "<ol class=list-inline><li>FALSE</li><li>FALSE</li><li>FALSE</li><li>FALSE</li><li>FALSE</li><li>FALSE</li><li>FALSE</li><li>FALSE</li><li>FALSE</li><li>FALSE</li></ol>\n"
            ],
            "text/markdown": "1. FALSE\n2. FALSE\n3. FALSE\n4. FALSE\n5. FALSE\n6. FALSE\n7. FALSE\n8. FALSE\n9. FALSE\n10. FALSE\n\n\n",
            "text/latex": "\\begin{enumerate*}\n\\item FALSE\n\\item FALSE\n\\item FALSE\n\\item FALSE\n\\item FALSE\n\\item FALSE\n\\item FALSE\n\\item FALSE\n\\item FALSE\n\\item FALSE\n\\end{enumerate*}\n",
            "text/plain": [
              " [1] FALSE FALSE FALSE FALSE FALSE FALSE FALSE FALSE FALSE FALSE"
            ]
          },
          "metadata": {}
        }
      ]
    },
    {
      "cell_type": "markdown",
      "source": [
        "Boxplot (visualización de cuantiles)"
      ],
      "metadata": {
        "id": "UVixk7nHzlTt"
      }
    },
    {
      "cell_type": "code",
      "source": [
        "ggplot(datos, aes(x = \"\", y = edad)) +\n",
        "  geom_boxplot()"
      ],
      "metadata": {
        "colab": {
          "base_uri": "https://localhost:8080/",
          "height": 437
        },
        "id": "wQBC1E_dzovH",
        "outputId": "c6c6ca4e-e111-4dc4-c443-43e8550a3b3e"
      },
      "execution_count": 14,
      "outputs": [
        {
          "output_type": "display_data",
          "data": {
            "text/plain": [
              "plot without title"
            ],
            "image/png": "[encoded data removed]"
          },
          "metadata": {
            "image/png": {
              "width": 420,
              "height": 420
            }
          }
        }
      ]
    },
    {
      "cell_type": "markdown",
      "source": [
        "**Distribuciones de probabilidad**\n",
        "\n",
        "**Distribución de Poisson**\n",
        "\n",
        "dpois(x, lambda): P[X = x]\n",
        "\n",
        "ppois(x, lambda): P[X < x]\n",
        "\n",
        "rpois(n, lambda): Simula n valores"
      ],
      "metadata": {
        "id": "q31cdQfwz2XA"
      }
    },
    {
      "cell_type": "code",
      "source": [
        "dpois(10, 5)\n",
        "ppois(10, 5)\n",
        "rpois(5, 3)"
      ],
      "metadata": {
        "colab": {
          "base_uri": "https://localhost:8080/",
          "height": 69
        },
        "id": "Z2uyFfWpz9GW",
        "outputId": "8da7bf5c-b106-4812-ba11-7acc4ad70977"
      },
      "execution_count": 15,
      "outputs": [
        {
          "output_type": "display_data",
          "data": {
            "text/html": [
              "0.0181327887078219"
            ],
            "text/markdown": "0.0181327887078219",
            "text/latex": "0.0181327887078219",
            "text/plain": [
              "[1] 0.01813279"
            ]
          },
          "metadata": {}
        },
        {
          "output_type": "display_data",
          "data": {
            "text/html": [
              "0.986304731401617"
            ],
            "text/markdown": "0.986304731401617",
            "text/latex": "0.986304731401617",
            "text/plain": [
              "[1] 0.9863047"
            ]
          },
          "metadata": {}
        },
        {
          "output_type": "display_data",
          "data": {
            "text/html": [
              "<style>\n",
              ".list-inline {list-style: none; margin:0; padding: 0}\n",
              ".list-inline>li {display: inline-block}\n",
              ".list-inline>li:not(:last-child)::after {content: \"\\00b7\"; padding: 0 .5ex}\n",
              "</style>\n",
              "<ol class=list-inline><li>3</li><li>1</li><li>4</li><li>5</li><li>3</li></ol>\n"
            ],
            "text/markdown": "1. 3\n2. 1\n3. 4\n4. 5\n5. 3\n\n\n",
            "text/latex": "\\begin{enumerate*}\n\\item 3\n\\item 1\n\\item 4\n\\item 5\n\\item 3\n\\end{enumerate*}\n",
            "text/plain": [
              "[1] 3 1 4 5 3"
            ]
          },
          "metadata": {}
        }
      ]
    },
    {
      "cell_type": "markdown",
      "source": [
        "Distribución Exponencial\n",
        "\n",
        "pexp(x, rate), rexp(n, rate)"
      ],
      "metadata": {
        "id": "h9Ot3WaN0Bb3"
      }
    },
    {
      "cell_type": "markdown",
      "source": [
        "Distribución Uniforme continua\n",
        "\n",
        "punif(x, min, max): P[X < x]\n",
        "\n",
        "runif(n, min, max): Simula valores\n"
      ],
      "metadata": {
        "id": "Zncyhtm80CtF"
      }
    },
    {
      "cell_type": "code",
      "source": [
        "runif(5, 0, 1)\n",
        "punif(0.5, min = 0, max = 1)"
      ],
      "metadata": {
        "colab": {
          "base_uri": "https://localhost:8080/",
          "height": 52
        },
        "id": "TncJYYth0Ft9",
        "outputId": "3a819e8b-fcd3-4e27-e1b6-97d48ba2db56"
      },
      "execution_count": 16,
      "outputs": [
        {
          "output_type": "display_data",
          "data": {
            "text/html": [
              "<style>\n",
              ".list-inline {list-style: none; margin:0; padding: 0}\n",
              ".list-inline>li {display: inline-block}\n",
              ".list-inline>li:not(:last-child)::after {content: \"\\00b7\"; padding: 0 .5ex}\n",
              "</style>\n",
              "<ol class=list-inline><li>0.869944430422038</li><li>0.283076360588893</li><li>0.161185898119584</li><li>0.806290356209502</li><li>0.713974816724658</li></ol>\n"
            ],
            "text/markdown": "1. 0.869944430422038\n2. 0.283076360588893\n3. 0.161185898119584\n4. 0.806290356209502\n5. 0.713974816724658\n\n\n",
            "text/latex": "\\begin{enumerate*}\n\\item 0.869944430422038\n\\item 0.283076360588893\n\\item 0.161185898119584\n\\item 0.806290356209502\n\\item 0.713974816724658\n\\end{enumerate*}\n",
            "text/plain": [
              "[1] 0.8699444 0.2830764 0.1611859 0.8062904 0.7139748"
            ]
          },
          "metadata": {}
        },
        {
          "output_type": "display_data",
          "data": {
            "text/html": [
              "0.5"
            ],
            "text/markdown": "0.5",
            "text/latex": "0.5",
            "text/plain": [
              "[1] 0.5"
            ]
          },
          "metadata": {}
        }
      ]
    },
    {
      "cell_type": "markdown",
      "source": [
        "**Distribución Binomial**\n",
        "\n",
        "dbinom(x, size, prob): P[X = x]\n",
        "\n",
        "pbinom(x, size, prob): P[X ≤ x]\n",
        "\n",
        "rbinom(n, size, prob): Simula valores"
      ],
      "metadata": {
        "id": "yQV6EPNv0IqX"
      }
    },
    {
      "cell_type": "code",
      "source": [
        "dbinom(4, 10, 0.5)\n",
        "pbinom(4, 10, 0.5)\n",
        "rbinom(10, 3, 0.5)"
      ],
      "metadata": {
        "colab": {
          "base_uri": "https://localhost:8080/",
          "height": 69
        },
        "id": "I3s6QcUu0L1H",
        "outputId": "3c5b54ee-83d7-4f7d-98a6-db5f4f5889af"
      },
      "execution_count": 17,
      "outputs": [
        {
          "output_type": "display_data",
          "data": {
            "text/html": [
              "0.205078125"
            ],
            "text/markdown": "0.205078125",
            "text/latex": "0.205078125",
            "text/plain": [
              "[1] 0.2050781"
            ]
          },
          "metadata": {}
        },
        {
          "output_type": "display_data",
          "data": {
            "text/html": [
              "0.376953125"
            ],
            "text/markdown": "0.376953125",
            "text/latex": "0.376953125",
            "text/plain": [
              "[1] 0.3769531"
            ]
          },
          "metadata": {}
        },
        {
          "output_type": "display_data",
          "data": {
            "text/html": [
              "<style>\n",
              ".list-inline {list-style: none; margin:0; padding: 0}\n",
              ".list-inline>li {display: inline-block}\n",
              ".list-inline>li:not(:last-child)::after {content: \"\\00b7\"; padding: 0 .5ex}\n",
              "</style>\n",
              "<ol class=list-inline><li>2</li><li>3</li><li>0</li><li>0</li><li>1</li><li>3</li><li>2</li><li>0</li><li>3</li><li>1</li></ol>\n"
            ],
            "text/markdown": "1. 2\n2. 3\n3. 0\n4. 0\n5. 1\n6. 3\n7. 2\n8. 0\n9. 3\n10. 1\n\n\n",
            "text/latex": "\\begin{enumerate*}\n\\item 2\n\\item 3\n\\item 0\n\\item 0\n\\item 1\n\\item 3\n\\item 2\n\\item 0\n\\item 3\n\\item 1\n\\end{enumerate*}\n",
            "text/plain": [
              " [1] 2 3 0 0 1 3 2 0 3 1"
            ]
          },
          "metadata": {}
        }
      ]
    },
    {
      "cell_type": "markdown",
      "source": [
        "**Distribución Normal**\n",
        "\n",
        "pnorm(x, mean, sd): P[X < x]\n",
        "\n",
        "qnorm(p, mean, sd): Percentil p\n",
        "\n",
        "rnorm(n, mean, sd): Simula datos"
      ],
      "metadata": {
        "id": "kRg0IQ5A0Nhi"
      }
    },
    {
      "cell_type": "code",
      "source": [
        "pnorm(100, mean = 80, sd = 10)\n",
        "qnorm(0.95, mean = 80, sd = 10)\n",
        "rnorm(5, mean = 80, sd = 10)"
      ],
      "metadata": {
        "colab": {
          "base_uri": "https://localhost:8080/",
          "height": 69
        },
        "id": "Y5AnL25Z0Qpu",
        "outputId": "1b8a8734-5dc4-4256-988c-c4bf2f3b35a1"
      },
      "execution_count": 18,
      "outputs": [
        {
          "output_type": "display_data",
          "data": {
            "text/html": [
              "0.977249868051821"
            ],
            "text/markdown": "0.977249868051821",
            "text/latex": "0.977249868051821",
            "text/plain": [
              "[1] 0.9772499"
            ]
          },
          "metadata": {}
        },
        {
          "output_type": "display_data",
          "data": {
            "text/html": [
              "96.4485362695147"
            ],
            "text/markdown": "96.4485362695147",
            "text/latex": "96.4485362695147",
            "text/plain": [
              "[1] 96.44854"
            ]
          },
          "metadata": {}
        },
        {
          "output_type": "display_data",
          "data": {
            "text/html": [
              "<style>\n",
              ".list-inline {list-style: none; margin:0; padding: 0}\n",
              ".list-inline>li {display: inline-block}\n",
              ".list-inline>li:not(:last-child)::after {content: \"\\00b7\"; padding: 0 .5ex}\n",
              "</style>\n",
              "<ol class=list-inline><li>81.444660299282</li><li>78.480645054298</li><li>79.7259748934448</li><li>80.4941352909912</li><li>81.9376238883999</li></ol>\n"
            ],
            "text/markdown": "1. 81.444660299282\n2. 78.480645054298\n3. 79.7259748934448\n4. 80.4941352909912\n5. 81.9376238883999\n\n\n",
            "text/latex": "\\begin{enumerate*}\n\\item 81.444660299282\n\\item 78.480645054298\n\\item 79.7259748934448\n\\item 80.4941352909912\n\\item 81.9376238883999\n\\end{enumerate*}\n",
            "text/plain": [
              "[1] 81.44466 78.48065 79.72597 80.49414 81.93762"
            ]
          },
          "metadata": {}
        }
      ]
    },
    {
      "cell_type": "markdown",
      "source": [
        "**Muestreo**\n",
        "\n",
        "sample_n(tbl, size, replace) → Muestra aleatoria de un data frame\n"
      ],
      "metadata": {
        "id": "d4mA7Pkv0TKj"
      }
    },
    {
      "cell_type": "code",
      "source": [
        "set.seed(13)\n",
        "sample_n(datos, size = 5)\n",
        "sample_n(datos, size = 5, replace = TRUE)"
      ],
      "metadata": {
        "colab": {
          "base_uri": "https://localhost:8080/",
          "height": 493
        },
        "id": "geI2Ej6Y0fZk",
        "outputId": "d575a1f6-c74c-440c-a4b9-860e63007f4f"
      },
      "execution_count": 21,
      "outputs": [
        {
          "output_type": "display_data",
          "data": {
            "text/html": [
              "<table class=\"dataframe\">\n",
              "<caption>A data.frame: 5 × 3</caption>\n",
              "<thead>\n",
              "\t<tr><th scope=col>edad</th><th scope=col>ingreso_mensual</th><th scope=col>horas_trabajo</th></tr>\n",
              "\t<tr><th scope=col>&lt;dbl&gt;</th><th scope=col>&lt;dbl&gt;</th><th scope=col>&lt;dbl&gt;</th></tr>\n",
              "</thead>\n",
              "<tbody>\n",
              "\t<tr><td>28</td><td>1900</td><td>41</td></tr>\n",
              "\t<tr><td>31</td><td>2200</td><td>38</td></tr>\n",
              "\t<tr><td>30</td><td>2100</td><td>39</td></tr>\n",
              "\t<tr><td>35</td><td>2500</td><td>50</td></tr>\n",
              "\t<tr><td>25</td><td>1800</td><td>42</td></tr>\n",
              "</tbody>\n",
              "</table>\n"
            ],
            "text/markdown": "\nA data.frame: 5 × 3\n\n| edad &lt;dbl&gt; | ingreso_mensual &lt;dbl&gt; | horas_trabajo &lt;dbl&gt; |\n|---|---|---|\n| 28 | 1900 | 41 |\n| 31 | 2200 | 38 |\n| 30 | 2100 | 39 |\n| 35 | 2500 | 50 |\n| 25 | 1800 | 42 |\n\n",
            "text/latex": "A data.frame: 5 × 3\n\\begin{tabular}{lll}\n edad & ingreso\\_mensual & horas\\_trabajo\\\\\n <dbl> & <dbl> & <dbl>\\\\\n\\hline\n\t 28 & 1900 & 41\\\\\n\t 31 & 2200 & 38\\\\\n\t 30 & 2100 & 39\\\\\n\t 35 & 2500 & 50\\\\\n\t 25 & 1800 & 42\\\\\n\\end{tabular}\n",
            "text/plain": [
              "  edad ingreso_mensual horas_trabajo\n",
              "1 28   1900            41           \n",
              "2 31   2200            38           \n",
              "3 30   2100            39           \n",
              "4 35   2500            50           \n",
              "5 25   1800            42           "
            ]
          },
          "metadata": {}
        },
        {
          "output_type": "display_data",
          "data": {
            "text/html": [
              "<table class=\"dataframe\">\n",
              "<caption>A data.frame: 5 × 3</caption>\n",
              "<thead>\n",
              "\t<tr><th scope=col>edad</th><th scope=col>ingreso_mensual</th><th scope=col>horas_trabajo</th></tr>\n",
              "\t<tr><th scope=col>&lt;dbl&gt;</th><th scope=col>&lt;dbl&gt;</th><th scope=col>&lt;dbl&gt;</th></tr>\n",
              "</thead>\n",
              "<tbody>\n",
              "\t<tr><td>40</td><td>2700</td><td>48</td></tr>\n",
              "\t<tr><td>40</td><td>2700</td><td>48</td></tr>\n",
              "\t<tr><td>29</td><td>2000</td><td>45</td></tr>\n",
              "\t<tr><td>28</td><td>1900</td><td>41</td></tr>\n",
              "\t<tr><td>31</td><td>2200</td><td>38</td></tr>\n",
              "</tbody>\n",
              "</table>\n"
            ],
            "text/markdown": "\nA data.frame: 5 × 3\n\n| edad &lt;dbl&gt; | ingreso_mensual &lt;dbl&gt; | horas_trabajo &lt;dbl&gt; |\n|---|---|---|\n| 40 | 2700 | 48 |\n| 40 | 2700 | 48 |\n| 29 | 2000 | 45 |\n| 28 | 1900 | 41 |\n| 31 | 2200 | 38 |\n\n",
            "text/latex": "A data.frame: 5 × 3\n\\begin{tabular}{lll}\n edad & ingreso\\_mensual & horas\\_trabajo\\\\\n <dbl> & <dbl> & <dbl>\\\\\n\\hline\n\t 40 & 2700 & 48\\\\\n\t 40 & 2700 & 48\\\\\n\t 29 & 2000 & 45\\\\\n\t 28 & 1900 & 41\\\\\n\t 31 & 2200 & 38\\\\\n\\end{tabular}\n",
            "text/plain": [
              "  edad ingreso_mensual horas_trabajo\n",
              "1 40   2700            48           \n",
              "2 40   2700            48           \n",
              "3 29   2000            45           \n",
              "4 28   1900            41           \n",
              "5 31   2200            38           "
            ]
          },
          "metadata": {}
        }
      ]
    },
    {
      "cell_type": "markdown",
      "source": [
        "**Correlación**\n",
        "\n",
        "cor(x, y) → Coeficiente de correlación\n"
      ],
      "metadata": {
        "id": "AZ714-As0lia"
      }
    },
    {
      "cell_type": "code",
      "source": [
        "cor(datos$edad, datos$ingreso_mensual)"
      ],
      "metadata": {
        "colab": {
          "base_uri": "https://localhost:8080/",
          "height": 34
        },
        "id": "IBgkvPDY0svt",
        "outputId": "e6afbe36-6f59-4562-eeaa-4d49973936b0"
      },
      "execution_count": 22,
      "outputs": [
        {
          "output_type": "display_data",
          "data": {
            "text/html": [
              "0.984200469202123"
            ],
            "text/markdown": "0.984200469202123",
            "text/latex": "0.984200469202123",
            "text/plain": [
              "[1] 0.9842005"
            ]
          },
          "metadata": {}
        }
      ]
    },
    {
      "cell_type": "markdown",
      "source": [
        "**Línea de regresión (tendencia central)**"
      ],
      "metadata": {
        "id": "08zgGwnq0v5W"
      }
    },
    {
      "cell_type": "code",
      "source": [
        "ggplot(datos, aes(x = edad, y = ingreso_mensual)) +\n",
        "  geom_point() +\n",
        "    geom_smooth(method = \"lm\", se = FALSE)"
      ],
      "metadata": {
        "colab": {
          "base_uri": "https://localhost:8080/",
          "height": 454
        },
        "id": "s47pXQ9i0y1o",
        "outputId": "d599ea4e-ab5c-4528-d296-835935f68945"
      },
      "execution_count": 24,
      "outputs": [
        {
          "output_type": "stream",
          "name": "stderr",
          "text": [
            "\u001b[1m\u001b[22m`geom_smooth()` using formula = 'y ~ x'\n"
          ]
        },
        {
          "output_type": "display_data",
          "data": {
            "text/plain": [
              "plot without title"
            ],
            "image/png": "[encoded data removed]"
          },
          "metadata": {
            "image/png": {
              "width": 420,
              "height": 420
            }
          }
        }
      ]
    }
  ]
}