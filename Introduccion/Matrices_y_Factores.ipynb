{
  "nbformat": 4,
  "nbformat_minor": 0,
  "metadata": {
    "colab": {
      "provenance": [],
      "authorship_tag": "ABX9TyPlPwSf1y/1TCux9/vpW4wU",
      "include_colab_link": true
    },
    "kernelspec": {
      "name": "ir",
      "display_name": "R"
    },
    "language_info": {
      "name": "R"
    }
  },
  "cells": [
    {
      "cell_type": "markdown",
      "metadata": {
        "id": "view-in-github",
        "colab_type": "text"
      },
      "source": [
        "<a href=\"https://colab.research.google.com/github/Brandon-Bernal-A/R/blob/main/Introduccion/Matrices_y_Factores.ipynb\" target=\"_parent\"><img src=\"https://colab.research.google.com/assets/colab-badge.svg\" alt=\"Open In Colab\"/></a>"
      ]
    },
    {
      "cell_type": "markdown",
      "source": [
        "Se pueden **crear matrices** en R con la función 'matrix()'\n"
      ],
      "metadata": {
        "id": "xOKPUGA6NXrC"
      }
    },
    {
      "cell_type": "code",
      "execution_count": 1,
      "metadata": {
        "colab": {
          "base_uri": "https://localhost:8080/",
          "height": 163
        },
        "id": "B59n8-wINSz5",
        "outputId": "277791d9-5876-4db6-edca-09e706985ac7"
      },
      "outputs": [
        {
          "output_type": "display_data",
          "data": {
            "text/html": [
              "<table class=\"dataframe\">\n",
              "<caption>A matrix: 3 × 3 of type int</caption>\n",
              "<tbody>\n",
              "\t<tr><td>1</td><td>2</td><td>3</td></tr>\n",
              "\t<tr><td>4</td><td>5</td><td>6</td></tr>\n",
              "\t<tr><td>7</td><td>8</td><td>9</td></tr>\n",
              "</tbody>\n",
              "</table>\n"
            ],
            "text/markdown": "\nA matrix: 3 × 3 of type int\n\n| 1 | 2 | 3 |\n| 4 | 5 | 6 |\n| 7 | 8 | 9 |\n\n",
            "text/latex": "A matrix: 3 × 3 of type int\n\\begin{tabular}{lll}\n\t 1 & 2 & 3\\\\\n\t 4 & 5 & 6\\\\\n\t 7 & 8 & 9\\\\\n\\end{tabular}\n",
            "text/plain": [
              "     [,1] [,2] [,3]\n",
              "[1,] 1    2    3   \n",
              "[2,] 4    5    6   \n",
              "[3,] 7    8    9   "
            ]
          },
          "metadata": {}
        }
      ],
      "source": [
        "matrix(1:9, byrow = TRUE, nrow =3)"
      ]
    },
    {
      "cell_type": "code",
      "source": [
        "matrix(1:10, byrow = FALSE, nrow = 2)"
      ],
      "metadata": {
        "colab": {
          "base_uri": "https://localhost:8080/",
          "height": 114
        },
        "id": "qd_v7tfHNjoB",
        "outputId": "36c34231-3916-4e34-982a-c6266e62a5e1"
      },
      "execution_count": 3,
      "outputs": [
        {
          "output_type": "display_data",
          "data": {
            "text/html": [
              "<table class=\"dataframe\">\n",
              "<caption>A matrix: 2 × 5 of type int</caption>\n",
              "<tbody>\n",
              "\t<tr><td>1</td><td>3</td><td>5</td><td>7</td><td> 9</td></tr>\n",
              "\t<tr><td>2</td><td>4</td><td>6</td><td>8</td><td>10</td></tr>\n",
              "</tbody>\n",
              "</table>\n"
            ],
            "text/markdown": "\nA matrix: 2 × 5 of type int\n\n| 1 | 3 | 5 | 7 |  9 |\n| 2 | 4 | 6 | 8 | 10 |\n\n",
            "text/latex": "A matrix: 2 × 5 of type int\n\\begin{tabular}{lllll}\n\t 1 & 3 & 5 & 7 &  9\\\\\n\t 2 & 4 & 6 & 8 & 10\\\\\n\\end{tabular}\n",
            "text/plain": [
              "     [,1] [,2] [,3] [,4] [,5]\n",
              "[1,] 1    3    5    7     9  \n",
              "[2,] 2    4    6    8    10  "
            ]
          },
          "metadata": {}
        }
      ]
    },
    {
      "cell_type": "markdown",
      "source": [
        "Para su construcción\n",
        "\n",
        "El primer espacio es para los elementos, c(1, 2, 3, 4, 5, 6, 7, 8, 9)\n",
        "\n",
        "El segundo \"byrow\" indica como se llenan los datos, si pones TRUE se llenan las filas primero, si pones FALSE se llenan las columnas primero\n",
        "\n",
        "nrow indica el numero de elementos por fila o col\n"
      ],
      "metadata": {
        "id": "DQF8A3FGNmcx"
      }
    },
    {
      "cell_type": "markdown",
      "source": [
        "**Nombrar columnas y renglones**\n",
        "\n",
        "Se pueden nombrar columnas y renglones con las funciones 'colnames(nombre mareiz)' y rownames('nombre matriz') debe ser los mismos elementos de col y renglones que tenga la matriz\n"
      ],
      "metadata": {
        "id": "t_Q__gabNrZe"
      }
    },
    {
      "cell_type": "code",
      "source": [
        "# Box office Star Wars (in millions!)\n",
        "new_hope <- c(460.998, 314.4)\n",
        "empire_strikes <- c(290.475, 247.900)\n",
        "return_jedi <- c(309.306, 165.8)\n",
        "\n",
        "# Construct matrix\n",
        "star_wars_matrix <- matrix(c(new_hope, empire_strikes, return_jedi), nrow = 3, byrow = TRUE)\n",
        "\n",
        "star_wars_matrix\n",
        "\n",
        "# Vectors region and titles, used for naming\n",
        "region <- c(\"US\", \"non-US\")\n",
        "titles <- c(\"A New Hope\", \"The Empire Strikes Back\", \"Return of the Jedi\")\n",
        "\n",
        "# Name the columns with region\n",
        "colnames(star_wars_matrix) <- region\n",
        "\n",
        "# Name the rows with titles\n",
        "rownames(star_wars_matrix) <- titles\n",
        "\n",
        "# Print out star_wars_matrix\n",
        "star_wars_matrix\n",
        "\n",
        "#una forma más simple es usar 'dimnames()'\n"
      ],
      "metadata": {
        "colab": {
          "base_uri": "https://localhost:8080/",
          "height": 289
        },
        "id": "mUcUCZLEN8kg",
        "outputId": "435ac675-9b65-4e13-ba71-423fef358598"
      },
      "execution_count": 5,
      "outputs": [
        {
          "output_type": "display_data",
          "data": {
            "text/html": [
              "<table class=\"dataframe\">\n",
              "<caption>A matrix: 3 × 2 of type dbl</caption>\n",
              "<tbody>\n",
              "\t<tr><td>460.998</td><td>314.4</td></tr>\n",
              "\t<tr><td>290.475</td><td>247.9</td></tr>\n",
              "\t<tr><td>309.306</td><td>165.8</td></tr>\n",
              "</tbody>\n",
              "</table>\n"
            ],
            "text/markdown": "\nA matrix: 3 × 2 of type dbl\n\n| 460.998 | 314.4 |\n| 290.475 | 247.9 |\n| 309.306 | 165.8 |\n\n",
            "text/latex": "A matrix: 3 × 2 of type dbl\n\\begin{tabular}{ll}\n\t 460.998 & 314.4\\\\\n\t 290.475 & 247.9\\\\\n\t 309.306 & 165.8\\\\\n\\end{tabular}\n",
            "text/plain": [
              "     [,1]    [,2] \n",
              "[1,] 460.998 314.4\n",
              "[2,] 290.475 247.9\n",
              "[3,] 309.306 165.8"
            ]
          },
          "metadata": {}
        },
        {
          "output_type": "display_data",
          "data": {
            "text/html": [
              "<table class=\"dataframe\">\n",
              "<caption>A matrix: 3 × 2 of type dbl</caption>\n",
              "<thead>\n",
              "\t<tr><th></th><th scope=col>US</th><th scope=col>non-US</th></tr>\n",
              "</thead>\n",
              "<tbody>\n",
              "\t<tr><th scope=row>A New Hope</th><td>460.998</td><td>314.4</td></tr>\n",
              "\t<tr><th scope=row>The Empire Strikes Back</th><td>290.475</td><td>247.9</td></tr>\n",
              "\t<tr><th scope=row>Return of the Jedi</th><td>309.306</td><td>165.8</td></tr>\n",
              "</tbody>\n",
              "</table>\n"
            ],
            "text/markdown": "\nA matrix: 3 × 2 of type dbl\n\n| <!--/--> | US | non-US |\n|---|---|---|\n| A New Hope | 460.998 | 314.4 |\n| The Empire Strikes Back | 290.475 | 247.9 |\n| Return of the Jedi | 309.306 | 165.8 |\n\n",
            "text/latex": "A matrix: 3 × 2 of type dbl\n\\begin{tabular}{r|ll}\n  & US & non-US\\\\\n\\hline\n\tA New Hope & 460.998 & 314.4\\\\\n\tThe Empire Strikes Back & 290.475 & 247.9\\\\\n\tReturn of the Jedi & 309.306 & 165.8\\\\\n\\end{tabular}\n",
            "text/plain": [
              "                        US      non-US\n",
              "A New Hope              460.998 314.4 \n",
              "The Empire Strikes Back 290.475 247.9 \n",
              "Return of the Jedi      309.306 165.8 "
            ]
          },
          "metadata": {}
        }
      ]
    },
    {
      "cell_type": "markdown",
      "source": [
        "**Sumar renglones y columnas**\n",
        "\n",
        "También podemos realizar sumas de renglones y columnas, por cada una de ellas\n",
        "\n"
      ],
      "metadata": {
        "id": "4o1yfITNNwyp"
      }
    },
    {
      "cell_type": "code",
      "source": [
        "rowSums(star_wars_matrix)\n",
        "colSums(star_wars_matrix)"
      ],
      "metadata": {
        "colab": {
          "base_uri": "https://localhost:8080/",
          "height": 52
        },
        "id": "8OTnFWuLOCrx",
        "outputId": "eb86a788-4f1a-4e22-f2c1-c617b9798f85"
      },
      "execution_count": 10,
      "outputs": [
        {
          "output_type": "display_data",
          "data": {
            "text/html": [
              "<style>\n",
              ".dl-inline {width: auto; margin:0; padding: 0}\n",
              ".dl-inline>dt, .dl-inline>dd {float: none; width: auto; display: inline-block}\n",
              ".dl-inline>dt::after {content: \":\\0020\"; padding-right: .5ex}\n",
              ".dl-inline>dt:not(:first-of-type) {padding-left: .5ex}\n",
              "</style><dl class=dl-inline><dt>A New Hope</dt><dd>775.398</dd><dt>The Empire Strikes Back</dt><dd>538.375</dd><dt>Return of the Jedi</dt><dd>475.106</dd></dl>\n"
            ],
            "text/markdown": "A New Hope\n:   775.398The Empire Strikes Back\n:   538.375Return of the Jedi\n:   475.106\n\n",
            "text/latex": "\\begin{description*}\n\\item[A New Hope] 775.398\n\\item[The Empire Strikes Back] 538.375\n\\item[Return of the Jedi] 475.106\n\\end{description*}\n",
            "text/plain": [
              "             A New Hope The Empire Strikes Back      Return of the Jedi \n",
              "                775.398                 538.375                 475.106 "
            ]
          },
          "metadata": {}
        },
        {
          "output_type": "display_data",
          "data": {
            "text/html": [
              "<style>\n",
              ".dl-inline {width: auto; margin:0; padding: 0}\n",
              ".dl-inline>dt, .dl-inline>dd {float: none; width: auto; display: inline-block}\n",
              ".dl-inline>dt::after {content: \":\\0020\"; padding-right: .5ex}\n",
              ".dl-inline>dt:not(:first-of-type) {padding-left: .5ex}\n",
              "</style><dl class=dl-inline><dt>US</dt><dd>1060.779</dd><dt>non-US</dt><dd>728.1</dd></dl>\n"
            ],
            "text/markdown": "US\n:   1060.779non-US\n:   728.1\n\n",
            "text/latex": "\\begin{description*}\n\\item[US] 1060.779\n\\item[non-US] 728.1\n\\end{description*}\n",
            "text/plain": [
              "      US   non-US \n",
              "1060.779  728.100 "
            ]
          },
          "metadata": {}
        }
      ]
    },
    {
      "cell_type": "code",
      "source": [
        "worldwide_vector <- rowSums(star_wars_matrix)\n",
        "worldwide_vector"
      ],
      "metadata": {
        "colab": {
          "base_uri": "https://localhost:8080/",
          "height": 34
        },
        "id": "1oeLfJajOIaT",
        "outputId": "78dff12d-8d45-458e-c915-1be69b139c7b"
      },
      "execution_count": 9,
      "outputs": [
        {
          "output_type": "display_data",
          "data": {
            "text/html": [
              "<style>\n",
              ".dl-inline {width: auto; margin:0; padding: 0}\n",
              ".dl-inline>dt, .dl-inline>dd {float: none; width: auto; display: inline-block}\n",
              ".dl-inline>dt::after {content: \":\\0020\"; padding-right: .5ex}\n",
              ".dl-inline>dt:not(:first-of-type) {padding-left: .5ex}\n",
              "</style><dl class=dl-inline><dt>A New Hope</dt><dd>775.398</dd><dt>The Empire Strikes Back</dt><dd>538.375</dd><dt>Return of the Jedi</dt><dd>475.106</dd></dl>\n"
            ],
            "text/markdown": "A New Hope\n:   775.398The Empire Strikes Back\n:   538.375Return of the Jedi\n:   475.106\n\n",
            "text/latex": "\\begin{description*}\n\\item[A New Hope] 775.398\n\\item[The Empire Strikes Back] 538.375\n\\item[Return of the Jedi] 475.106\n\\end{description*}\n",
            "text/plain": [
              "             A New Hope The Empire Strikes Back      Return of the Jedi \n",
              "                775.398                 538.375                 475.106 "
            ]
          },
          "metadata": {}
        }
      ]
    },
    {
      "cell_type": "markdown",
      "source": [
        "**combinar matriz**\n",
        "\n",
        "'cbind' combina matrices y vectores pero por columnas\n",
        "\n",
        "'rbind' combina pero por renglones\n",
        "\n",
        " Ejemplo: big_matrix <- cbind(matrix1, matrix2, vector1 ...)\n"
      ],
      "metadata": {
        "id": "xG49IlhUOOLm"
      }
    },
    {
      "cell_type": "code",
      "source": [
        "all_wars_matrix <- cbind(star_wars_matrix, worldwide_vector)\n",
        "all_wars_matrix"
      ],
      "metadata": {
        "colab": {
          "base_uri": "https://localhost:8080/",
          "height": 161
        },
        "id": "4LmNaLtqOR_Z",
        "outputId": "f465be40-9485-455d-e220-f82c87c32bc8"
      },
      "execution_count": 12,
      "outputs": [
        {
          "output_type": "display_data",
          "data": {
            "text/html": [
              "<table class=\"dataframe\">\n",
              "<caption>A matrix: 3 × 3 of type dbl</caption>\n",
              "<thead>\n",
              "\t<tr><th></th><th scope=col>US</th><th scope=col>non-US</th><th scope=col>worldwide_vector</th></tr>\n",
              "</thead>\n",
              "<tbody>\n",
              "\t<tr><th scope=row>A New Hope</th><td>460.998</td><td>314.4</td><td>775.398</td></tr>\n",
              "\t<tr><th scope=row>The Empire Strikes Back</th><td>290.475</td><td>247.9</td><td>538.375</td></tr>\n",
              "\t<tr><th scope=row>Return of the Jedi</th><td>309.306</td><td>165.8</td><td>475.106</td></tr>\n",
              "</tbody>\n",
              "</table>\n"
            ],
            "text/markdown": "\nA matrix: 3 × 3 of type dbl\n\n| <!--/--> | US | non-US | worldwide_vector |\n|---|---|---|---|\n| A New Hope | 460.998 | 314.4 | 775.398 |\n| The Empire Strikes Back | 290.475 | 247.9 | 538.375 |\n| Return of the Jedi | 309.306 | 165.8 | 475.106 |\n\n",
            "text/latex": "A matrix: 3 × 3 of type dbl\n\\begin{tabular}{r|lll}\n  & US & non-US & worldwide\\_vector\\\\\n\\hline\n\tA New Hope & 460.998 & 314.4 & 775.398\\\\\n\tThe Empire Strikes Back & 290.475 & 247.9 & 538.375\\\\\n\tReturn of the Jedi & 309.306 & 165.8 & 475.106\\\\\n\\end{tabular}\n",
            "text/plain": [
              "                        US      non-US worldwide_vector\n",
              "A New Hope              460.998 314.4  775.398         \n",
              "The Empire Strikes Back 290.475 247.9  538.375         \n",
              "Return of the Jedi      309.306 165.8  475.106         "
            ]
          },
          "metadata": {}
        }
      ]
    },
    {
      "cell_type": "markdown",
      "source": [
        "En R, **ls()* es una función que muestra los nombres de los objetos y conjuntos de datos que hay en el entorno de trabajo.\n",
        "\n",
        "**Seleccionar elementos**\n",
        "\n",
        "Para seleccionar los elementos se ponen [] separados por ',' comas\n",
        "\n",
        "[1,5] \"1\" fila y \"5\" columnas\n",
        "\n",
        "[,1] todos los elwmwnros de la columna 1\n",
        "\n",
        "[1,] todos los elementos de la fila 1\n",
        "\n",
        "\n",
        "Operadores de matrices\n",
        "\n",
        "También podemos usar +,-,/,*\n",
        "\n",
        "ejemplo 2 * my_matrix multiplica por 2 todos los elementos de la matriz\n",
        "\n",
        " %*% se ocupa para multiplicar matrices\n",
        ""
      ],
      "metadata": {
        "id": "faz9HZjZOUyE"
      }
    },
    {
      "cell_type": "markdown",
      "source": [
        "**Variables categóricas**\n",
        "\n",
        "Existen cosas llamadas factores, sirven para seleccionar confuntos de un vector, Sirve para hacer clasificaciones finitas o infinitas, la función **'factors()'** realiza este proceso y son conocidas como variables categorícas\n"
      ],
      "metadata": {
        "id": "ERZCTgY6P4CO"
      }
    },
    {
      "cell_type": "code",
      "source": [
        "sex_vector <- c(\"Male\",\"Female\",\"Female\",\"Male\",\"Male\")\n",
        "factor_sex_vector <- factor(sex_vector)\n",
        "factor_sex_vector #regresara solo 'Levels: Female Male'"
      ],
      "metadata": {
        "colab": {
          "base_uri": "https://localhost:8080/",
          "height": 69
        },
        "id": "vWai-OdJP2ud",
        "outputId": "45a7e9f2-6615-4eb3-e607-d5e4129301be"
      },
      "execution_count": 13,
      "outputs": [
        {
          "output_type": "display_data",
          "data": {
            "text/html": [
              "<style>\n",
              ".list-inline {list-style: none; margin:0; padding: 0}\n",
              ".list-inline>li {display: inline-block}\n",
              ".list-inline>li:not(:last-child)::after {content: \"\\00b7\"; padding: 0 .5ex}\n",
              "</style>\n",
              "<ol class=list-inline><li>Male</li><li>Female</li><li>Female</li><li>Male</li><li>Male</li></ol>\n",
              "\n",
              "<details>\n",
              "\t<summary style=display:list-item;cursor:pointer>\n",
              "\t\t<strong>Levels</strong>:\n",
              "\t</summary>\n",
              "\t<style>\n",
              "\t.list-inline {list-style: none; margin:0; padding: 0}\n",
              "\t.list-inline>li {display: inline-block}\n",
              "\t.list-inline>li:not(:last-child)::after {content: \"\\00b7\"; padding: 0 .5ex}\n",
              "\t</style>\n",
              "\t<ol class=list-inline><li>'Female'</li><li>'Male'</li></ol>\n",
              "</details>"
            ],
            "text/markdown": "1. Male\n2. Female\n3. Female\n4. Male\n5. Male\n\n\n\n**Levels**: 1. 'Female'\n2. 'Male'\n\n\n",
            "text/latex": "\\begin{enumerate*}\n\\item Male\n\\item Female\n\\item Female\n\\item Male\n\\item Male\n\\end{enumerate*}\n\n\\emph{Levels}: \\begin{enumerate*}\n\\item 'Female'\n\\item 'Male'\n\\end{enumerate*}\n",
            "text/plain": [
              "[1] Male   Female Female Male   Male  \n",
              "Levels: Female Male"
            ]
          },
          "metadata": {}
        }
      ]
    },
    {
      "cell_type": "markdown",
      "source": [
        "**Existen variables categoricas y nominal**\n",
        "\n",
        "La nominal no tiene un orden implícito, es decir, ninguna palabra vale mas que otra, mientras que las ordinales sí\n",
        "\n"
      ],
      "metadata": {
        "id": "oyKQCT1SP-1x"
      }
    },
    {
      "cell_type": "code",
      "source": [
        "# Animals\n",
        "animals_vector <- c(\"Elephant\", \"Giraffe\", \"Donkey\", \"Horse\")\n",
        "factor_animals_vector <- factor(animals_vector)\n",
        "factor_animals_vector # al ser nominal imprime Levels: Donkey Elephant Giraffe Horse\n"
      ],
      "metadata": {
        "colab": {
          "base_uri": "https://localhost:8080/",
          "height": 52
        },
        "id": "xNVhijHYQC0I",
        "outputId": "78db6ac2-fbf7-4d0f-fee5-4a5190212926"
      },
      "execution_count": 14,
      "outputs": [
        {
          "output_type": "display_data",
          "data": {
            "text/html": [
              "<style>\n",
              ".list-inline {list-style: none; margin:0; padding: 0}\n",
              ".list-inline>li {display: inline-block}\n",
              ".list-inline>li:not(:last-child)::after {content: \"\\00b7\"; padding: 0 .5ex}\n",
              "</style>\n",
              "<ol class=list-inline><li>Elephant</li><li>Giraffe</li><li>Donkey</li><li>Horse</li></ol>\n",
              "\n",
              "<details>\n",
              "\t<summary style=display:list-item;cursor:pointer>\n",
              "\t\t<strong>Levels</strong>:\n",
              "\t</summary>\n",
              "\t<style>\n",
              "\t.list-inline {list-style: none; margin:0; padding: 0}\n",
              "\t.list-inline>li {display: inline-block}\n",
              "\t.list-inline>li:not(:last-child)::after {content: \"\\00b7\"; padding: 0 .5ex}\n",
              "\t</style>\n",
              "\t<ol class=list-inline><li>'Donkey'</li><li>'Elephant'</li><li>'Giraffe'</li><li>'Horse'</li></ol>\n",
              "</details>"
            ],
            "text/markdown": "1. Elephant\n2. Giraffe\n3. Donkey\n4. Horse\n\n\n\n**Levels**: 1. 'Donkey'\n2. 'Elephant'\n3. 'Giraffe'\n4. 'Horse'\n\n\n",
            "text/latex": "\\begin{enumerate*}\n\\item Elephant\n\\item Giraffe\n\\item Donkey\n\\item Horse\n\\end{enumerate*}\n\n\\emph{Levels}: \\begin{enumerate*}\n\\item 'Donkey'\n\\item 'Elephant'\n\\item 'Giraffe'\n\\item 'Horse'\n\\end{enumerate*}\n",
            "text/plain": [
              "[1] Elephant Giraffe  Donkey   Horse   \n",
              "Levels: Donkey Elephant Giraffe Horse"
            ]
          },
          "metadata": {}
        }
      ]
    },
    {
      "cell_type": "markdown",
      "source": [
        "Para poder ordenar, factor() no ordena automáticamente, agregamos 'ordenred = TRUE' para indicar que hay un orden agregamos 'levels = c(\"level1\",\"level2\",...)' para indicar el orden\n",
        "\n",
        "Podemos cambiar los nombres de los niveles ocupando la función **levels()**\n",
        "\n",
        "levels(factor_vector) <- c(\"name1\", \"name2\",...)\n"
      ],
      "metadata": {
        "id": "9d34ESVjQGiV"
      }
    },
    {
      "cell_type": "code",
      "source": [
        "# Temperature\n",
        "temperature_vector <- c(\"High\", \"Low\", \"High\",\"Low\", \"Medium\")\n",
        "factor_temperature_vector <- factor(temperature_vector, order = TRUE, levels = c(\"Low\", \"Medium\", \"High\"))\n",
        "factor_temperature_vector #como es ordinal imprime Levels: Low < Medium < High"
      ],
      "metadata": {
        "colab": {
          "base_uri": "https://localhost:8080/",
          "height": 52
        },
        "id": "3XGOn4cXQIq_",
        "outputId": "5520a39d-6f97-4844-8be1-abf869bab972"
      },
      "execution_count": 16,
      "outputs": [
        {
          "output_type": "display_data",
          "data": {
            "text/html": [
              "<style>\n",
              ".list-inline {list-style: none; margin:0; padding: 0}\n",
              ".list-inline>li {display: inline-block}\n",
              ".list-inline>li:not(:last-child)::after {content: \"\\00b7\"; padding: 0 .5ex}\n",
              "</style>\n",
              "<ol class=list-inline><li>High</li><li>Low</li><li>High</li><li>Low</li><li>Medium</li></ol>\n",
              "\n",
              "<details>\n",
              "\t<summary style=display:list-item;cursor:pointer>\n",
              "\t\t<strong>Levels</strong>:\n",
              "\t</summary>\n",
              "\t<style>\n",
              "\t.list-inline {list-style: none; margin:0; padding: 0}\n",
              "\t.list-inline>li {display: inline-block}\n",
              "\t.list-inline>li:not(:last-child)::after {content: \"\\00b7\"; padding: 0 .5ex}\n",
              "\t</style>\n",
              "\t<ol class=list-inline><li>'Low'</li><li>'Medium'</li><li>'High'</li></ol>\n",
              "</details>"
            ],
            "text/markdown": "1. High\n2. Low\n3. High\n4. Low\n5. Medium\n\n\n\n**Levels**: 1. 'Low'\n2. 'Medium'\n3. 'High'\n\n\n",
            "text/latex": "\\begin{enumerate*}\n\\item High\n\\item Low\n\\item High\n\\item Low\n\\item Medium\n\\end{enumerate*}\n\n\\emph{Levels}: \\begin{enumerate*}\n\\item 'Low'\n\\item 'Medium'\n\\item 'High'\n\\end{enumerate*}\n",
            "text/plain": [
              "[1] High   Low    High   Low    Medium\n",
              "Levels: Low < Medium < High"
            ]
          },
          "metadata": {}
        }
      ]
    },
    {
      "cell_type": "markdown",
      "source": [
        "**Sumary()**\n",
        "\n",
        "Esta función da una vista rápida dedel contenido de una variable\n"
      ],
      "metadata": {
        "id": "DOIAnZtLQK8k"
      }
    },
    {
      "cell_type": "code",
      "source": [
        "summary(temperature_vector)"
      ],
      "metadata": {
        "colab": {
          "base_uri": "https://localhost:8080/",
          "height": 52
        },
        "id": "yoCfTcWJQM1y",
        "outputId": "cddec264-287e-4a0e-ef63-fccb4ca93ccd"
      },
      "execution_count": 19,
      "outputs": [
        {
          "output_type": "display_data",
          "data": {
            "text/plain": [
              "   Length     Class      Mode \n",
              "        5 character character "
            ]
          },
          "metadata": {}
        }
      ]
    },
    {
      "cell_type": "code",
      "source": [
        "summary(factor_temperature_vector)"
      ],
      "metadata": {
        "colab": {
          "base_uri": "https://localhost:8080/",
          "height": 34
        },
        "id": "9jiKJZ-QQPZG",
        "outputId": "11aa4102-c432-4f40-dc9a-b0dc22087fe3"
      },
      "execution_count": 20,
      "outputs": [
        {
          "output_type": "display_data",
          "data": {
            "text/html": [
              "<style>\n",
              ".dl-inline {width: auto; margin:0; padding: 0}\n",
              ".dl-inline>dt, .dl-inline>dd {float: none; width: auto; display: inline-block}\n",
              ".dl-inline>dt::after {content: \":\\0020\"; padding-right: .5ex}\n",
              ".dl-inline>dt:not(:first-of-type) {padding-left: .5ex}\n",
              "</style><dl class=dl-inline><dt>Low</dt><dd>2</dd><dt>Medium</dt><dd>1</dd><dt>High</dt><dd>2</dd></dl>\n"
            ],
            "text/markdown": "Low\n:   2Medium\n:   1High\n:   2\n\n",
            "text/latex": "\\begin{description*}\n\\item[Low] 2\n\\item[Medium] 1\n\\item[High] 2\n\\end{description*}\n",
            "text/plain": [
              "   Low Medium   High \n",
              "     2      1      2 "
            ]
          },
          "metadata": {}
        }
      ]
    },
    {
      "cell_type": "markdown",
      "source": [
        "Cuando los factores no tienen un orden, es dificil compararlos\n",
        "\n",
        "por ejemplo elefante, jirafa, ... no son niveles ordenados y al intentar comparar no tiene sentido, cuando trabajamos con factores que sí tienen sentido o un orden, Sí podemos comparar\n",
        "\n",
        "Podemos seleccionar cada nivel con [i] y usar los compradores ya conocidos\n",
        "\n"
      ],
      "metadata": {
        "id": "Ki718YJOQYhN"
      }
    }
  ]
}