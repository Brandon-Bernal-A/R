{
  "nbformat": 4,
  "nbformat_minor": 0,
  "metadata": {
    "colab": {
      "provenance": [],
      "authorship_tag": "ABX9TyPHchsVUvxWBABWay2s0EJy",
      "include_colab_link": true
    },
    "kernelspec": {
      "name": "ir",
      "display_name": "R"
    },
    "language_info": {
      "name": "R"
    }
  },
  "cells": [
    {
      "cell_type": "markdown",
      "metadata": {
        "id": "view-in-github",
        "colab_type": "text"
      },
      "source": [
        "<a href=\"https://colab.research.google.com/github/Brandon-Bernal-A/R/blob/main/Introduccion/Primeros_Pasos.ipynb\" target=\"_parent\"><img src=\"https://colab.research.google.com/assets/colab-badge.svg\" alt=\"Open In Colab\"/></a>"
      ]
    },
    {
      "cell_type": "markdown",
      "source": [
        "**Comentarios**: Se utiliza el signo \"#\" para añadir comentarios\n",
        "\n",
        "**Operaciones**"
      ],
      "metadata": {
        "id": "MCfUXPL4wGrm"
      }
    },
    {
      "cell_type": "code",
      "source": [
        "# Suma\n",
        "5 + 5"
      ],
      "metadata": {
        "colab": {
          "base_uri": "https://localhost:8080/",
          "height": 34
        },
        "id": "EUetWi8pwceC",
        "outputId": "65d1c8b2-a027-4e60-8dd1-1f9128527eb5"
      },
      "execution_count": 4,
      "outputs": [
        {
          "output_type": "display_data",
          "data": {
            "text/html": [
              "10"
            ],
            "text/markdown": "10",
            "text/latex": "10",
            "text/plain": [
              "[1] 10"
            ]
          },
          "metadata": {}
        }
      ]
    },
    {
      "cell_type": "code",
      "source": [
        "# Resta\n",
        "5 - 5"
      ],
      "metadata": {
        "colab": {
          "base_uri": "https://localhost:8080/",
          "height": 34
        },
        "id": "nUzRdyEewr5I",
        "outputId": "779a798a-8cda-4d4a-db09-d5c42654fe36"
      },
      "execution_count": 6,
      "outputs": [
        {
          "output_type": "display_data",
          "data": {
            "text/html": [
              "0"
            ],
            "text/markdown": "0",
            "text/latex": "0",
            "text/plain": [
              "[1] 0"
            ]
          },
          "metadata": {}
        }
      ]
    },
    {
      "cell_type": "code",
      "source": [
        "# multiplicación\n",
        "3 * 5"
      ],
      "metadata": {
        "colab": {
          "base_uri": "https://localhost:8080/",
          "height": 34
        },
        "id": "8Sy65yyKwuT5",
        "outputId": "20db02b0-311a-44c0-e659-9367975dddda"
      },
      "execution_count": 7,
      "outputs": [
        {
          "output_type": "display_data",
          "data": {
            "text/html": [
              "15"
            ],
            "text/markdown": "15",
            "text/latex": "15",
            "text/plain": [
              "[1] 15"
            ]
          },
          "metadata": {}
        }
      ]
    },
    {
      "cell_type": "code",
      "source": [
        " # división\n",
        "  (5 + 5) / 2"
      ],
      "metadata": {
        "colab": {
          "base_uri": "https://localhost:8080/",
          "height": 34
        },
        "id": "rc4pwXrUwxDN",
        "outputId": "2a961e6a-84f6-4145-be0b-21cadfcd73e3"
      },
      "execution_count": 9,
      "outputs": [
        {
          "output_type": "display_data",
          "data": {
            "text/html": [
              "5"
            ],
            "text/markdown": "5",
            "text/latex": "5",
            "text/plain": [
              "[1] 5"
            ]
          },
          "metadata": {}
        }
      ]
    },
    {
      "cell_type": "code",
      "source": [
        " # Exponencial\n",
        "  2^5\n"
      ],
      "metadata": {
        "colab": {
          "base_uri": "https://localhost:8080/",
          "height": 34
        },
        "id": "j7-vC-EiwzcS",
        "outputId": "c1033602-5229-4f53-fc37-832456b659cb"
      },
      "execution_count": 10,
      "outputs": [
        {
          "output_type": "display_data",
          "data": {
            "text/html": [
              "32"
            ],
            "text/markdown": "32",
            "text/latex": "32",
            "text/plain": [
              "[1] 32"
            ]
          },
          "metadata": {}
        }
      ]
    },
    {
      "cell_type": "code",
      "execution_count": 3,
      "metadata": {
        "colab": {
          "base_uri": "https://localhost:8080/",
          "height": 34
        },
        "id": "z6NoPwSYuFLY",
        "outputId": "8f41b204-1df3-445f-bc24-07eca8d76f25"
      },
      "outputs": [
        {
          "output_type": "display_data",
          "data": {
            "text/html": [
              "4"
            ],
            "text/markdown": "4",
            "text/latex": "4",
            "text/plain": [
              "[1] 4"
            ]
          },
          "metadata": {}
        }
      ],
      "source": [
        " # Modulo\n",
        " 28%%6 #Regresa el residuo de una división de enteros"
      ]
    },
    {
      "cell_type": "markdown",
      "source": [
        "**Variables**:\n",
        "Podemos definir variables poniendo \"nombres_variable\" <- \"valor o asignación\""
      ],
      "metadata": {
        "id": "I7wqNKy3xNfX"
      }
    },
    {
      "cell_type": "code",
      "source": [
        "x <- 32\n",
        "\n",
        "# Imprime la variable solo con ponerla\n",
        "x"
      ],
      "metadata": {
        "colab": {
          "base_uri": "https://localhost:8080/",
          "height": 34
        },
        "id": "iVqBRDOfxWFV",
        "outputId": "7d9f946c-09fa-4554-e398-646520f20ef8"
      },
      "execution_count": 11,
      "outputs": [
        {
          "output_type": "display_data",
          "data": {
            "text/html": [
              "32"
            ],
            "text/markdown": "32",
            "text/latex": "32",
            "text/plain": [
              "[1] 32"
            ]
          },
          "metadata": {}
        }
      ]
    },
    {
      "cell_type": "markdown",
      "source": [
        "**Tipos de DatoDatos**\n",
        "\n",
        " * los números decimales  4.5 son conocidos \"numéricos\"\n",
        " * los números enteros 4 son conocidos \"numéricos\"\n",
        " * los valores booleanos (TRUE or FALSE) se llaman \"lógicos\"\n",
        " * los textos (o cadena) son conocidos como \"caracteres\", pero el texto\n",
        " debe estar sí o sí en \" \"\n",
        "\n",
        "La funcion 'class()' te dice que tipo de dato es\n"
      ],
      "metadata": {
        "id": "1udyv2yaxc1t"
      }
    },
    {
      "cell_type": "code",
      "source": [
        "class(\"Hola\")"
      ],
      "metadata": {
        "colab": {
          "base_uri": "https://localhost:8080/",
          "height": 34
        },
        "id": "7HuVolXzxind",
        "outputId": "a847afde-28f9-4042-926e-bb515746cf2d"
      },
      "execution_count": 13,
      "outputs": [
        {
          "output_type": "display_data",
          "data": {
            "text/html": [
              "'character'"
            ],
            "text/markdown": "'character'",
            "text/latex": "'character'",
            "text/plain": [
              "[1] \"character\""
            ]
          },
          "metadata": {}
        }
      ]
    },
    {
      "cell_type": "code",
      "source": [
        "class(4445)"
      ],
      "metadata": {
        "colab": {
          "base_uri": "https://localhost:8080/",
          "height": 34
        },
        "id": "wvaQo3HCx8a0",
        "outputId": "66a3ef12-e918-4e8e-c303-afd5b437e2de"
      },
      "execution_count": 14,
      "outputs": [
        {
          "output_type": "display_data",
          "data": {
            "text/html": [
              "'numeric'"
            ],
            "text/markdown": "'numeric'",
            "text/latex": "'numeric'",
            "text/plain": [
              "[1] \"numeric\""
            ]
          },
          "metadata": {}
        }
      ]
    },
    {
      "cell_type": "code",
      "source": [
        "class(TRUE)"
      ],
      "metadata": {
        "colab": {
          "base_uri": "https://localhost:8080/",
          "height": 34
        },
        "id": "GRdh5oUgx-Xg",
        "outputId": "621621c6-1252-4196-dc7e-1f9ed6db2082"
      },
      "execution_count": 16,
      "outputs": [
        {
          "output_type": "display_data",
          "data": {
            "text/html": [
              "'logical'"
            ],
            "text/markdown": "'logical'",
            "text/latex": "'logical'",
            "text/plain": [
              "[1] \"logical\""
            ]
          },
          "metadata": {}
        }
      ]
    },
    {
      "cell_type": "markdown",
      "source": [
        "**Vectores**:\n",
        "Se crean vectores con la función combinar 'c()' qué es una lista separadas por comas\n",
        "\n"
      ],
      "metadata": {
        "id": "odbxdgPKzzh1"
      }
    },
    {
      "cell_type": "code",
      "source": [
        "numeric_vector <- c(1, 2, 3)\n",
        "character_vector <- c(\"a\", \"b\", \"c\")\n",
        "boolean_vector <- c(TRUE, FALSE, TRUE)\n",
        "\n",
        "numeric_vector"
      ],
      "metadata": {
        "colab": {
          "base_uri": "https://localhost:8080/",
          "height": 34
        },
        "id": "LnI6NsV8zy-E",
        "outputId": "7ae0d201-6e17-41fb-d8b5-bbafbe869d14"
      },
      "execution_count": 19,
      "outputs": [
        {
          "output_type": "display_data",
          "data": {
            "text/html": [
              "<style>\n",
              ".list-inline {list-style: none; margin:0; padding: 0}\n",
              ".list-inline>li {display: inline-block}\n",
              ".list-inline>li:not(:last-child)::after {content: \"\\00b7\"; padding: 0 .5ex}\n",
              "</style>\n",
              "<ol class=list-inline><li>1</li><li>2</li><li>3</li></ol>\n"
            ],
            "text/markdown": "1. 1\n2. 2\n3. 3\n\n\n",
            "text/latex": "\\begin{enumerate*}\n\\item 1\n\\item 2\n\\item 3\n\\end{enumerate*}\n",
            "text/plain": [
              "[1] 1 2 3"
            ]
          },
          "metadata": {}
        }
      ]
    },
    {
      "cell_type": "code",
      "source": [
        "character_vector"
      ],
      "metadata": {
        "colab": {
          "base_uri": "https://localhost:8080/",
          "height": 34
        },
        "id": "jtWhAfNFz_GQ",
        "outputId": "78cf6b45-a181-4906-9713-c891e9551163"
      },
      "execution_count": 20,
      "outputs": [
        {
          "output_type": "display_data",
          "data": {
            "text/html": [
              "<style>\n",
              ".list-inline {list-style: none; margin:0; padding: 0}\n",
              ".list-inline>li {display: inline-block}\n",
              ".list-inline>li:not(:last-child)::after {content: \"\\00b7\"; padding: 0 .5ex}\n",
              "</style>\n",
              "<ol class=list-inline><li>'a'</li><li>'b'</li><li>'c'</li></ol>\n"
            ],
            "text/markdown": "1. 'a'\n2. 'b'\n3. 'c'\n\n\n",
            "text/latex": "\\begin{enumerate*}\n\\item 'a'\n\\item 'b'\n\\item 'c'\n\\end{enumerate*}\n",
            "text/plain": [
              "[1] \"a\" \"b\" \"c\""
            ]
          },
          "metadata": {}
        }
      ]
    },
    {
      "cell_type": "markdown",
      "source": [
        "Al crear estos vectores puedes asignarles nombres e identificar cada elemento del vector con un nombre usando la función “names()”"
      ],
      "metadata": {
        "id": "AgutFR-e0DAS"
      }
    },
    {
      "cell_type": "code",
      "source": [
        "some_vector <- c(\"John Doe\", \"poker player\")\n",
        "names(some_vector) <- c(\"Name\", \"Profession\")\n",
        "\n",
        "some_vector"
      ],
      "metadata": {
        "colab": {
          "base_uri": "https://localhost:8080/",
          "height": 34
        },
        "id": "HAXRhBl40VKo",
        "outputId": "09062940-ab30-49a3-d7fd-c1208c4536f0"
      },
      "execution_count": 24,
      "outputs": [
        {
          "output_type": "display_data",
          "data": {
            "text/html": [
              "<style>\n",
              ".dl-inline {width: auto; margin:0; padding: 0}\n",
              ".dl-inline>dt, .dl-inline>dd {float: none; width: auto; display: inline-block}\n",
              ".dl-inline>dt::after {content: \":\\0020\"; padding-right: .5ex}\n",
              ".dl-inline>dt:not(:first-of-type) {padding-left: .5ex}\n",
              "</style><dl class=dl-inline><dt>Name</dt><dd>'John Doe'</dd><dt>Profession</dt><dd>'poker player'</dd></dl>\n"
            ],
            "text/markdown": "Name\n:   'John Doe'Profession\n:   'poker player'\n\n",
            "text/latex": "\\begin{description*}\n\\item[Name] 'John Doe'\n\\item[Profession] 'poker player'\n\\end{description*}\n",
            "text/plain": [
              "          Name     Profession \n",
              "    \"John Doe\" \"poker player\" "
            ]
          },
          "metadata": {}
        }
      ]
    },
    {
      "cell_type": "markdown",
      "source": [
        "Pero asignarle un nombre muchos vectores es tedioso hacer lo mismo, podemos crear otra combinación de la siguiente forma\n"
      ],
      "metadata": {
        "id": "VNR61wwN0ftY"
      }
    },
    {
      "cell_type": "code",
      "source": [
        "# Poker winnings from Monday to Friday\n",
        "poker_vector <- c(140, -50, 20, -120, 240)\n",
        "\n",
        "# Roulette winnings from Monday to Friday\n",
        "roulette_vector <- c(-24, -50, 100, -350, 10)\n",
        "\n",
        "# The variable days_vector\n",
        "days_vector <- c(\"Monday\", \"Tuesday\", \"Wednesday\", \"Thursday\", \"Friday\")\n",
        "\n",
        " # Assign the names of the day to roulette_vector and poker_vector\n",
        " names(poker_vector) <- days_vector\n",
        " names(roulette_vector) <- days_vector\n",
        ""
      ],
      "metadata": {
        "id": "imqeEsMC0gaf"
      },
      "execution_count": 25,
      "outputs": []
    },
    {
      "cell_type": "code",
      "source": [
        "poker_vector\n",
        "roulette_vector"
      ],
      "metadata": {
        "colab": {
          "base_uri": "https://localhost:8080/",
          "height": 52
        },
        "id": "5Ifz4ab80kaP",
        "outputId": "9e35b8a0-8400-4726-fad5-46564ea6721c"
      },
      "execution_count": 26,
      "outputs": [
        {
          "output_type": "display_data",
          "data": {
            "text/html": [
              "<style>\n",
              ".dl-inline {width: auto; margin:0; padding: 0}\n",
              ".dl-inline>dt, .dl-inline>dd {float: none; width: auto; display: inline-block}\n",
              ".dl-inline>dt::after {content: \":\\0020\"; padding-right: .5ex}\n",
              ".dl-inline>dt:not(:first-of-type) {padding-left: .5ex}\n",
              "</style><dl class=dl-inline><dt>Monday</dt><dd>140</dd><dt>Tuesday</dt><dd>-50</dd><dt>Wednesday</dt><dd>20</dd><dt>Thursday</dt><dd>-120</dd><dt>Friday</dt><dd>240</dd></dl>\n"
            ],
            "text/markdown": "Monday\n:   140Tuesday\n:   -50Wednesday\n:   20Thursday\n:   -120Friday\n:   240\n\n",
            "text/latex": "\\begin{description*}\n\\item[Monday] 140\n\\item[Tuesday] -50\n\\item[Wednesday] 20\n\\item[Thursday] -120\n\\item[Friday] 240\n\\end{description*}\n",
            "text/plain": [
              "   Monday   Tuesday Wednesday  Thursday    Friday \n",
              "      140       -50        20      -120       240 "
            ]
          },
          "metadata": {}
        },
        {
          "output_type": "display_data",
          "data": {
            "text/html": [
              "<style>\n",
              ".dl-inline {width: auto; margin:0; padding: 0}\n",
              ".dl-inline>dt, .dl-inline>dd {float: none; width: auto; display: inline-block}\n",
              ".dl-inline>dt::after {content: \":\\0020\"; padding-right: .5ex}\n",
              ".dl-inline>dt:not(:first-of-type) {padding-left: .5ex}\n",
              "</style><dl class=dl-inline><dt>Monday</dt><dd>-24</dd><dt>Tuesday</dt><dd>-50</dd><dt>Wednesday</dt><dd>100</dd><dt>Thursday</dt><dd>-350</dd><dt>Friday</dt><dd>10</dd></dl>\n"
            ],
            "text/markdown": "Monday\n:   -24Tuesday\n:   -50Wednesday\n:   100Thursday\n:   -350Friday\n:   10\n\n",
            "text/latex": "\\begin{description*}\n\\item[Monday] -24\n\\item[Tuesday] -50\n\\item[Wednesday] 100\n\\item[Thursday] -350\n\\item[Friday] 10\n\\end{description*}\n",
            "text/plain": [
              "   Monday   Tuesday Wednesday  Thursday    Friday \n",
              "      -24       -50       100      -350        10 "
            ]
          },
          "metadata": {}
        }
      ]
    },
    {
      "cell_type": "markdown",
      "source": [
        "**Sumar vectores**\n",
        "\n",
        "Cuando sumamos vectores, se suma entrada por entrada  \n",
        "\n",
        "c(1, 2, 3) + c(4, 5, 6)\n",
        "\n",
        "c(1 + 4, 2 + 5, 3 + 6)\n",
        "\n",
        "c(5, 7, 9)\n",
        "\n",
        "También se puede trabajar con variables"
      ],
      "metadata": {
        "id": "0f0yPuRD0vYd"
      }
    },
    {
      "cell_type": "code",
      "source": [
        "a <- c(1, 2, 3)\n",
        "b <- c(4, 1, 6)\n",
        "\n",
        "c <- a + b\n",
        "c"
      ],
      "metadata": {
        "colab": {
          "base_uri": "https://localhost:8080/",
          "height": 34
        },
        "id": "13WVrRHp09-K",
        "outputId": "3d7e999c-5ede-451d-d367-12b1be94d54a"
      },
      "execution_count": 31,
      "outputs": [
        {
          "output_type": "display_data",
          "data": {
            "text/html": [
              "<style>\n",
              ".list-inline {list-style: none; margin:0; padding: 0}\n",
              ".list-inline>li {display: inline-block}\n",
              ".list-inline>li:not(:last-child)::after {content: \"\\00b7\"; padding: 0 .5ex}\n",
              "</style>\n",
              "<ol class=list-inline><li>5</li><li>3</li><li>9</li></ol>\n"
            ],
            "text/markdown": "1. 5\n2. 3\n3. 9\n\n\n",
            "text/latex": "\\begin{enumerate*}\n\\item 5\n\\item 3\n\\item 9\n\\end{enumerate*}\n",
            "text/plain": [
              "[1] 5 3 9"
            ]
          },
          "metadata": {}
        }
      ]
    },
    {
      "cell_type": "markdown",
      "source": [
        "La función **'sum()'** suma todos los elementos del vector\n"
      ],
      "metadata": {
        "id": "YjA81EWg1JLs"
      }
    },
    {
      "cell_type": "code",
      "source": [
        "sum(a)"
      ],
      "metadata": {
        "colab": {
          "base_uri": "https://localhost:8080/",
          "height": 34
        },
        "id": "g4ISj33o1Mh_",
        "outputId": "6c55735b-3817-4e57-d407-e24580cd5f81"
      },
      "execution_count": 29,
      "outputs": [
        {
          "output_type": "display_data",
          "data": {
            "text/html": [
              "6"
            ],
            "text/markdown": "6",
            "text/latex": "6",
            "text/plain": [
              "[1] 6"
            ]
          },
          "metadata": {}
        }
      ]
    },
    {
      "cell_type": "markdown",
      "source": [
        "Para **comparar** valores podemos usar\n",
        "\n",
        "\">\"\n",
        "\n",
        "\"<\"\n",
        "\n",
        "\"==\"\n",
        "\n",
        "\">=\" o \"<=\"\n",
        "\n",
        "\"!=\"\n",
        "\n",
        "Puedes asiganrle una cadena que cumpla ciertos requisitos"
      ],
      "metadata": {
        "id": "Qok1L4zY1SdL"
      }
    },
    {
      "cell_type": "code",
      "source": [
        "a > b # Compara entrada por entrada y dice si es cierto o falso"
      ],
      "metadata": {
        "colab": {
          "base_uri": "https://localhost:8080/",
          "height": 34
        },
        "id": "0N_Px5Q11UUF",
        "outputId": "7b222e5c-d38b-445d-bd50-d555a7892ece"
      },
      "execution_count": 35,
      "outputs": [
        {
          "output_type": "display_data",
          "data": {
            "text/html": [
              "<style>\n",
              ".list-inline {list-style: none; margin:0; padding: 0}\n",
              ".list-inline>li {display: inline-block}\n",
              ".list-inline>li:not(:last-child)::after {content: \"\\00b7\"; padding: 0 .5ex}\n",
              "</style>\n",
              "<ol class=list-inline><li>FALSE</li><li>TRUE</li><li>FALSE</li></ol>\n"
            ],
            "text/markdown": "1. FALSE\n2. TRUE\n3. FALSE\n\n\n",
            "text/latex": "\\begin{enumerate*}\n\\item FALSE\n\\item TRUE\n\\item FALSE\n\\end{enumerate*}\n",
            "text/plain": [
              "[1] FALSE  TRUE FALSE"
            ]
          },
          "metadata": {}
        }
      ]
    },
    {
      "cell_type": "code",
      "source": [
        "# Para seleccionar elemenos que contengan una condición\n",
        "g <- a < b\n",
        "a[g]"
      ],
      "metadata": {
        "colab": {
          "base_uri": "https://localhost:8080/",
          "height": 34
        },
        "id": "ZSQFgxnr2mEW",
        "outputId": "898b576e-4bb5-4776-a7cb-af81ce464c9c"
      },
      "execution_count": 42,
      "outputs": [
        {
          "output_type": "display_data",
          "data": {
            "text/html": [
              "<style>\n",
              ".list-inline {list-style: none; margin:0; padding: 0}\n",
              ".list-inline>li {display: inline-block}\n",
              ".list-inline>li:not(:last-child)::after {content: \"\\00b7\"; padding: 0 .5ex}\n",
              "</style>\n",
              "<ol class=list-inline><li>1</li><li>3</li></ol>\n"
            ],
            "text/markdown": "1. 1\n2. 3\n\n\n",
            "text/latex": "\\begin{enumerate*}\n\\item 1\n\\item 3\n\\end{enumerate*}\n",
            "text/plain": [
              "[1] 1 3"
            ]
          },
          "metadata": {}
        }
      ]
    },
    {
      "cell_type": "markdown",
      "source": [
        "**Seleccionar valores de un vector**\n",
        "\n",
        "Podemos seleccionar elementos de un vector poniendo vector[i] donde i nos da la posición del elemento dentro del vector, [1] regresa la posición 1, [2] regresa la posición 2.\n",
        "\n",
        "Podemos Seleccionar más de un valor, poniendo una lista de las posiciones\n"
      ],
      "metadata": {
        "id": "D3oDWi5Y1paZ"
      }
    },
    {
      "cell_type": "code",
      "source": [
        "poker_vector[c(1, 5)]"
      ],
      "metadata": {
        "colab": {
          "base_uri": "https://localhost:8080/",
          "height": 34
        },
        "id": "gVlkN_b31_SV",
        "outputId": "72550a1e-76d9-46d4-8c6e-e82850bd578c"
      },
      "execution_count": 36,
      "outputs": [
        {
          "output_type": "display_data",
          "data": {
            "text/html": [
              "<style>\n",
              ".dl-inline {width: auto; margin:0; padding: 0}\n",
              ".dl-inline>dt, .dl-inline>dd {float: none; width: auto; display: inline-block}\n",
              ".dl-inline>dt::after {content: \":\\0020\"; padding-right: .5ex}\n",
              ".dl-inline>dt:not(:first-of-type) {padding-left: .5ex}\n",
              "</style><dl class=dl-inline><dt>Monday</dt><dd>140</dd><dt>Friday</dt><dd>240</dd></dl>\n"
            ],
            "text/markdown": "Monday\n:   140Friday\n:   240\n\n",
            "text/latex": "\\begin{description*}\n\\item[Monday] 140\n\\item[Friday] 240\n\\end{description*}\n",
            "text/plain": [
              "Monday Friday \n",
              "   140    240 "
            ]
          },
          "metadata": {}
        }
      ]
    },
    {
      "cell_type": "markdown",
      "source": [
        "Tambien podemos agregar una abreviatura 1:3 en lugar de c(1,2,3)\n",
        "\n",
        "Si le agregamos nombre a los vectores, podemos llamarlos por nombre\n",
        " c(\"name1\" , \"name2\", ...) siempre en comillas\n",
        ""
      ],
      "metadata": {
        "id": "qXD6Ltu82JPO"
      }
    },
    {
      "cell_type": "code",
      "source": [
        "poker_vector[2:4]\n",
        "poker_vector[\"Monday\"]"
      ],
      "metadata": {
        "colab": {
          "base_uri": "https://localhost:8080/",
          "height": 52
        },
        "id": "U-bC9wrh2MFT",
        "outputId": "e57c5c6f-b64f-4ad7-cd56-66d283cea62e"
      },
      "execution_count": 38,
      "outputs": [
        {
          "output_type": "display_data",
          "data": {
            "text/html": [
              "<style>\n",
              ".dl-inline {width: auto; margin:0; padding: 0}\n",
              ".dl-inline>dt, .dl-inline>dd {float: none; width: auto; display: inline-block}\n",
              ".dl-inline>dt::after {content: \":\\0020\"; padding-right: .5ex}\n",
              ".dl-inline>dt:not(:first-of-type) {padding-left: .5ex}\n",
              "</style><dl class=dl-inline><dt>Tuesday</dt><dd>-50</dd><dt>Wednesday</dt><dd>20</dd><dt>Thursday</dt><dd>-120</dd></dl>\n"
            ],
            "text/markdown": "Tuesday\n:   -50Wednesday\n:   20Thursday\n:   -120\n\n",
            "text/latex": "\\begin{description*}\n\\item[Tuesday] -50\n\\item[Wednesday] 20\n\\item[Thursday] -120\n\\end{description*}\n",
            "text/plain": [
              "  Tuesday Wednesday  Thursday \n",
              "      -50        20      -120 "
            ]
          },
          "metadata": {}
        },
        {
          "output_type": "display_data",
          "data": {
            "text/html": [
              "<strong>Monday:</strong> 140"
            ],
            "text/markdown": "**Monday:** 140",
            "text/latex": "\\textbf{Monday:} 140",
            "text/plain": [
              "Monday \n",
              "   140 "
            ]
          },
          "metadata": {}
        }
      ]
    }
  ]
}