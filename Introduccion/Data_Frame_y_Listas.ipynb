{
  "nbformat": 4,
  "nbformat_minor": 0,
  "metadata": {
    "colab": {
      "provenance": [],
      "authorship_tag": "ABX9TyN/fc3Iow21x5JYNxzaKdop",
      "include_colab_link": true
    },
    "kernelspec": {
      "name": "ir",
      "display_name": "R"
    },
    "language_info": {
      "name": "R"
    }
  },
  "cells": [
    {
      "cell_type": "markdown",
      "metadata": {
        "id": "view-in-github",
        "colab_type": "text"
      },
      "source": [
        "<a href=\"https://colab.research.google.com/github/Brandon-Bernal-A/R/blob/main/Introduccion/Data_Frame_y_Listas.ipynb\" target=\"_parent\"><img src=\"https://colab.research.google.com/assets/colab-badge.svg\" alt=\"Open In Colab\"/></a>"
      ]
    },
    {
      "cell_type": "markdown",
      "source": [
        "Un **Data.frame**  tiene las variables de un conjunto de datos como columans y las observaciones como filas, por cada columna cuenta como un vector\n",
        "\n",
        "Puede verse como\n",
        "\n",
        "name   text text …\n",
        "\n",
        "jaja   3 5 5 5 5\n",
        "\n",
        "kdkd   4 4 4 3 4\n",
        "\n",
        "isiz   2 3 4 5 4\n",
        "\n",
        "Cuando tienes una base de datos bastante amplia, puedes mostrar los primeros o ultimos resultados de tu base de datos con la función **head()** y **tail()**\n",
        "\n",
        "Otro método que se utiliza a menudo para obtener una visión rápida de tus datos es **'str()'** y\n",
        "\n",
        "El número total de observaciones (por ejemplo, 32 tipos de coches)\n",
        "\n",
        "El número total de variables (por ejemplo, 11 características del coche)\n",
        "\n",
        "Una lista completa de los nombres de las variables (por ejemplo: mpg, yl .) .\n",
        "\n",
        "El tipo de datos de cada variable (por ejemplo num )\n",
        "\n",
        "**data.frame()**\n",
        "\n",
        "Esta función crea un marco de datos como se describio anteriormente, veamos un ejemplo\n"
      ],
      "metadata": {
        "id": "ehDQQPN3deAH"
      }
    },
    {
      "cell_type": "code",
      "source": [
        "# Definition of vectors\n",
        "name <- c(\"Mercury\", \"Venus\", \"Earth\",\n",
        "          \"Mars\", \"Jupiter\", \"Saturn\",\n",
        "          \"Uranus\", \"Neptune\")\n",
        "\n",
        "type <- c(\"Terrestrial planet\",\n",
        "          \"Terrestrial planet\",\n",
        "          \"Terrestrial planet\",\n",
        "          \"Terrestrial planet\", \"Gas giant\",\n",
        "          \"Gas giant\", \"Gas giant\", \"Gas giant\")\n",
        "diameter <- c(0.382, 0.949, 1, 0.532,\n",
        "              11.209, 9.449, 4.007, 3.883)\n",
        "rotation <- c(58.64, -243.02, 1, 1.03,\n",
        "              0.41, 0.43, -0.72, 0.67)\n",
        "rings <- c(FALSE, FALSE, FALSE, FALSE, TRUE, TRUE, TRUE, TRUE)\n",
        "\n",
        "# Create a data frame from the vectors\n",
        "planets_df <- data.frame(name,type,diameter,rotation,rings)\n",
        "planets_df"
      ],
      "metadata": {
        "colab": {
          "base_uri": "https://localhost:8080/",
          "height": 349
        },
        "id": "x9MoAgU9djR8",
        "outputId": "1799ee1c-7a0a-4a5a-b747-b38894a98e54"
      },
      "execution_count": 2,
      "outputs": [
        {
          "output_type": "display_data",
          "data": {
            "text/html": [
              "<table class=\"dataframe\">\n",
              "<caption>A data.frame: 8 × 5</caption>\n",
              "<thead>\n",
              "\t<tr><th scope=col>name</th><th scope=col>type</th><th scope=col>diameter</th><th scope=col>rotation</th><th scope=col>rings</th></tr>\n",
              "\t<tr><th scope=col>&lt;chr&gt;</th><th scope=col>&lt;chr&gt;</th><th scope=col>&lt;dbl&gt;</th><th scope=col>&lt;dbl&gt;</th><th scope=col>&lt;lgl&gt;</th></tr>\n",
              "</thead>\n",
              "<tbody>\n",
              "\t<tr><td>Mercury</td><td>Terrestrial planet</td><td> 0.382</td><td>  58.64</td><td>FALSE</td></tr>\n",
              "\t<tr><td>Venus  </td><td>Terrestrial planet</td><td> 0.949</td><td>-243.02</td><td>FALSE</td></tr>\n",
              "\t<tr><td>Earth  </td><td>Terrestrial planet</td><td> 1.000</td><td>   1.00</td><td>FALSE</td></tr>\n",
              "\t<tr><td>Mars   </td><td>Terrestrial planet</td><td> 0.532</td><td>   1.03</td><td>FALSE</td></tr>\n",
              "\t<tr><td>Jupiter</td><td>Gas giant         </td><td>11.209</td><td>   0.41</td><td> TRUE</td></tr>\n",
              "\t<tr><td>Saturn </td><td>Gas giant         </td><td> 9.449</td><td>   0.43</td><td> TRUE</td></tr>\n",
              "\t<tr><td>Uranus </td><td>Gas giant         </td><td> 4.007</td><td>  -0.72</td><td> TRUE</td></tr>\n",
              "\t<tr><td>Neptune</td><td>Gas giant         </td><td> 3.883</td><td>   0.67</td><td> TRUE</td></tr>\n",
              "</tbody>\n",
              "</table>\n"
            ],
            "text/markdown": "\nA data.frame: 8 × 5\n\n| name &lt;chr&gt; | type &lt;chr&gt; | diameter &lt;dbl&gt; | rotation &lt;dbl&gt; | rings &lt;lgl&gt; |\n|---|---|---|---|---|\n| Mercury | Terrestrial planet |  0.382 |   58.64 | FALSE |\n| Venus   | Terrestrial planet |  0.949 | -243.02 | FALSE |\n| Earth   | Terrestrial planet |  1.000 |    1.00 | FALSE |\n| Mars    | Terrestrial planet |  0.532 |    1.03 | FALSE |\n| Jupiter | Gas giant          | 11.209 |    0.41 |  TRUE |\n| Saturn  | Gas giant          |  9.449 |    0.43 |  TRUE |\n| Uranus  | Gas giant          |  4.007 |   -0.72 |  TRUE |\n| Neptune | Gas giant          |  3.883 |    0.67 |  TRUE |\n\n",
            "text/latex": "A data.frame: 8 × 5\n\\begin{tabular}{lllll}\n name & type & diameter & rotation & rings\\\\\n <chr> & <chr> & <dbl> & <dbl> & <lgl>\\\\\n\\hline\n\t Mercury & Terrestrial planet &  0.382 &   58.64 & FALSE\\\\\n\t Venus   & Terrestrial planet &  0.949 & -243.02 & FALSE\\\\\n\t Earth   & Terrestrial planet &  1.000 &    1.00 & FALSE\\\\\n\t Mars    & Terrestrial planet &  0.532 &    1.03 & FALSE\\\\\n\t Jupiter & Gas giant          & 11.209 &    0.41 &  TRUE\\\\\n\t Saturn  & Gas giant          &  9.449 &    0.43 &  TRUE\\\\\n\t Uranus  & Gas giant          &  4.007 &   -0.72 &  TRUE\\\\\n\t Neptune & Gas giant          &  3.883 &    0.67 &  TRUE\\\\\n\\end{tabular}\n",
            "text/plain": [
              "  name    type               diameter rotation rings\n",
              "1 Mercury Terrestrial planet  0.382     58.64  FALSE\n",
              "2 Venus   Terrestrial planet  0.949   -243.02  FALSE\n",
              "3 Earth   Terrestrial planet  1.000      1.00  FALSE\n",
              "4 Mars    Terrestrial planet  0.532      1.03  FALSE\n",
              "5 Jupiter Gas giant          11.209      0.41   TRUE\n",
              "6 Saturn  Gas giant           9.449      0.43   TRUE\n",
              "7 Uranus  Gas giant           4.007     -0.72   TRUE\n",
              "8 Neptune Gas giant           3.883      0.67   TRUE"
            ]
          },
          "metadata": {}
        }
      ]
    },
    {
      "cell_type": "markdown",
      "source": [
        "También podemos seleccionar solo partes como [i,j] donde i es la fila y j la columna"
      ],
      "metadata": {
        "id": "Yzf1AHLFdv9w"
      }
    },
    {
      "cell_type": "code",
      "source": [
        "planets_df[2:5,5]"
      ],
      "metadata": {
        "colab": {
          "base_uri": "https://localhost:8080/",
          "height": 34
        },
        "id": "qxiVvX-9dw7A",
        "outputId": "45c36ef2-213c-4a77-d274-6c251ca222a9"
      },
      "execution_count": 3,
      "outputs": [
        {
          "output_type": "display_data",
          "data": {
            "text/html": [
              "<style>\n",
              ".list-inline {list-style: none; margin:0; padding: 0}\n",
              ".list-inline>li {display: inline-block}\n",
              ".list-inline>li:not(:last-child)::after {content: \"\\00b7\"; padding: 0 .5ex}\n",
              "</style>\n",
              "<ol class=list-inline><li>FALSE</li><li>FALSE</li><li>FALSE</li><li>TRUE</li></ol>\n"
            ],
            "text/markdown": "1. FALSE\n2. FALSE\n3. FALSE\n4. TRUE\n\n\n",
            "text/latex": "\\begin{enumerate*}\n\\item FALSE\n\\item FALSE\n\\item FALSE\n\\item TRUE\n\\end{enumerate*}\n",
            "text/plain": [
              "[1] FALSE FALSE FALSE  TRUE"
            ]
          },
          "metadata": {}
        }
      ]
    },
    {
      "cell_type": "markdown",
      "source": [
        "En vez de poner numeros en las columnas, puedes llamarlos por el nombre de la variable"
      ],
      "metadata": {
        "id": "pFRGr5D2d0OO"
      }
    },
    {
      "cell_type": "code",
      "source": [
        "planets_df[2:5,\"rings\"]"
      ],
      "metadata": {
        "colab": {
          "base_uri": "https://localhost:8080/",
          "height": 34
        },
        "id": "LkH8xdfUd2vk",
        "outputId": "1918edc6-6286-445a-df68-eefaa1196ad9"
      },
      "execution_count": 5,
      "outputs": [
        {
          "output_type": "display_data",
          "data": {
            "text/html": [
              "<style>\n",
              ".list-inline {list-style: none; margin:0; padding: 0}\n",
              ".list-inline>li {display: inline-block}\n",
              ".list-inline>li:not(:last-child)::after {content: \"\\00b7\"; padding: 0 .5ex}\n",
              "</style>\n",
              "<ol class=list-inline><li>FALSE</li><li>FALSE</li><li>FALSE</li><li>TRUE</li></ol>\n"
            ],
            "text/markdown": "1. FALSE\n2. FALSE\n3. FALSE\n4. TRUE\n\n\n",
            "text/latex": "\\begin{enumerate*}\n\\item FALSE\n\\item FALSE\n\\item FALSE\n\\item TRUE\n\\end{enumerate*}\n",
            "text/plain": [
              "[1] FALSE FALSE FALSE  TRUE"
            ]
          },
          "metadata": {}
        }
      ]
    },
    {
      "cell_type": "markdown",
      "source": [
        "pero hay un atajo, con el signo '$' cuando las columnas tienen nombre y quieres imprimir toda la columna\n"
      ],
      "metadata": {
        "id": "yuSiWRQhd6KJ"
      }
    },
    {
      "cell_type": "code",
      "source": [
        "v <- planets_df$rings\n",
        "v"
      ],
      "metadata": {
        "colab": {
          "base_uri": "https://localhost:8080/",
          "height": 34
        },
        "id": "EjmVmyMEd7lA",
        "outputId": "598555c4-04ce-4207-b938-a7869dd02f13"
      },
      "execution_count": 6,
      "outputs": [
        {
          "output_type": "display_data",
          "data": {
            "text/html": [
              "<style>\n",
              ".list-inline {list-style: none; margin:0; padding: 0}\n",
              ".list-inline>li {display: inline-block}\n",
              ".list-inline>li:not(:last-child)::after {content: \"\\00b7\"; padding: 0 .5ex}\n",
              "</style>\n",
              "<ol class=list-inline><li>FALSE</li><li>FALSE</li><li>FALSE</li><li>FALSE</li><li>TRUE</li><li>TRUE</li><li>TRUE</li><li>TRUE</li></ol>\n"
            ],
            "text/markdown": "1. FALSE\n2. FALSE\n3. FALSE\n4. FALSE\n5. TRUE\n6. TRUE\n7. TRUE\n8. TRUE\n\n\n",
            "text/latex": "\\begin{enumerate*}\n\\item FALSE\n\\item FALSE\n\\item FALSE\n\\item FALSE\n\\item TRUE\n\\item TRUE\n\\item TRUE\n\\item TRUE\n\\end{enumerate*}\n",
            "text/plain": [
              "[1] FALSE FALSE FALSE FALSE  TRUE  TRUE  TRUE  TRUE"
            ]
          },
          "metadata": {}
        }
      ]
    },
    {
      "cell_type": "markdown",
      "source": [
        "Podemos seleccionar todos los datos que cumpla cierta condicion\n"
      ],
      "metadata": {
        "id": "01J6xsywd9o1"
      }
    },
    {
      "cell_type": "code",
      "source": [
        "planets_df[v,]"
      ],
      "metadata": {
        "colab": {
          "base_uri": "https://localhost:8080/",
          "height": 223
        },
        "id": "8htCZwZUd-FE",
        "outputId": "d8da1d05-0060-4865-b40a-965504ea4127"
      },
      "execution_count": 7,
      "outputs": [
        {
          "output_type": "display_data",
          "data": {
            "text/html": [
              "<table class=\"dataframe\">\n",
              "<caption>A data.frame: 4 × 5</caption>\n",
              "<thead>\n",
              "\t<tr><th></th><th scope=col>name</th><th scope=col>type</th><th scope=col>diameter</th><th scope=col>rotation</th><th scope=col>rings</th></tr>\n",
              "\t<tr><th></th><th scope=col>&lt;chr&gt;</th><th scope=col>&lt;chr&gt;</th><th scope=col>&lt;dbl&gt;</th><th scope=col>&lt;dbl&gt;</th><th scope=col>&lt;lgl&gt;</th></tr>\n",
              "</thead>\n",
              "<tbody>\n",
              "\t<tr><th scope=row>5</th><td>Jupiter</td><td>Gas giant</td><td>11.209</td><td> 0.41</td><td>TRUE</td></tr>\n",
              "\t<tr><th scope=row>6</th><td>Saturn </td><td>Gas giant</td><td> 9.449</td><td> 0.43</td><td>TRUE</td></tr>\n",
              "\t<tr><th scope=row>7</th><td>Uranus </td><td>Gas giant</td><td> 4.007</td><td>-0.72</td><td>TRUE</td></tr>\n",
              "\t<tr><th scope=row>8</th><td>Neptune</td><td>Gas giant</td><td> 3.883</td><td> 0.67</td><td>TRUE</td></tr>\n",
              "</tbody>\n",
              "</table>\n"
            ],
            "text/markdown": "\nA data.frame: 4 × 5\n\n| <!--/--> | name &lt;chr&gt; | type &lt;chr&gt; | diameter &lt;dbl&gt; | rotation &lt;dbl&gt; | rings &lt;lgl&gt; |\n|---|---|---|---|---|---|\n| 5 | Jupiter | Gas giant | 11.209 |  0.41 | TRUE |\n| 6 | Saturn  | Gas giant |  9.449 |  0.43 | TRUE |\n| 7 | Uranus  | Gas giant |  4.007 | -0.72 | TRUE |\n| 8 | Neptune | Gas giant |  3.883 |  0.67 | TRUE |\n\n",
            "text/latex": "A data.frame: 4 × 5\n\\begin{tabular}{r|lllll}\n  & name & type & diameter & rotation & rings\\\\\n  & <chr> & <chr> & <dbl> & <dbl> & <lgl>\\\\\n\\hline\n\t5 & Jupiter & Gas giant & 11.209 &  0.41 & TRUE\\\\\n\t6 & Saturn  & Gas giant &  9.449 &  0.43 & TRUE\\\\\n\t7 & Uranus  & Gas giant &  4.007 & -0.72 & TRUE\\\\\n\t8 & Neptune & Gas giant &  3.883 &  0.67 & TRUE\\\\\n\\end{tabular}\n",
            "text/plain": [
              "  name    type      diameter rotation rings\n",
              "5 Jupiter Gas giant 11.209    0.41    TRUE \n",
              "6 Saturn  Gas giant  9.449    0.43    TRUE \n",
              "7 Uranus  Gas giant  4.007   -0.72    TRUE \n",
              "8 Neptune Gas giant  3.883    0.67    TRUE "
            ]
          },
          "metadata": {}
        }
      ]
    },
    {
      "cell_type": "markdown",
      "source": [
        "**Subsets**\n",
        "\n",
        "Para hacer esto anterior, hay un atajo con la funcion 'subset()' subset(my_df, subset = some_condition) donde el primer espacio es el data.frame y el segundo la condicon debería imprimir lo mismo\n"
      ],
      "metadata": {
        "id": "gMgYJ30TeCC7"
      }
    },
    {
      "cell_type": "code",
      "source": [
        "subset(planets_df, subset = rings)"
      ],
      "metadata": {
        "colab": {
          "base_uri": "https://localhost:8080/",
          "height": 223
        },
        "id": "lLEOQZEseDTQ",
        "outputId": "9254c341-84fa-4b9d-cc24-a1b07c03a5aa"
      },
      "execution_count": 9,
      "outputs": [
        {
          "output_type": "display_data",
          "data": {
            "text/html": [
              "<table class=\"dataframe\">\n",
              "<caption>A data.frame: 4 × 5</caption>\n",
              "<thead>\n",
              "\t<tr><th></th><th scope=col>name</th><th scope=col>type</th><th scope=col>diameter</th><th scope=col>rotation</th><th scope=col>rings</th></tr>\n",
              "\t<tr><th></th><th scope=col>&lt;chr&gt;</th><th scope=col>&lt;chr&gt;</th><th scope=col>&lt;dbl&gt;</th><th scope=col>&lt;dbl&gt;</th><th scope=col>&lt;lgl&gt;</th></tr>\n",
              "</thead>\n",
              "<tbody>\n",
              "\t<tr><th scope=row>5</th><td>Jupiter</td><td>Gas giant</td><td>11.209</td><td> 0.41</td><td>TRUE</td></tr>\n",
              "\t<tr><th scope=row>6</th><td>Saturn </td><td>Gas giant</td><td> 9.449</td><td> 0.43</td><td>TRUE</td></tr>\n",
              "\t<tr><th scope=row>7</th><td>Uranus </td><td>Gas giant</td><td> 4.007</td><td>-0.72</td><td>TRUE</td></tr>\n",
              "\t<tr><th scope=row>8</th><td>Neptune</td><td>Gas giant</td><td> 3.883</td><td> 0.67</td><td>TRUE</td></tr>\n",
              "</tbody>\n",
              "</table>\n"
            ],
            "text/markdown": "\nA data.frame: 4 × 5\n\n| <!--/--> | name &lt;chr&gt; | type &lt;chr&gt; | diameter &lt;dbl&gt; | rotation &lt;dbl&gt; | rings &lt;lgl&gt; |\n|---|---|---|---|---|---|\n| 5 | Jupiter | Gas giant | 11.209 |  0.41 | TRUE |\n| 6 | Saturn  | Gas giant |  9.449 |  0.43 | TRUE |\n| 7 | Uranus  | Gas giant |  4.007 | -0.72 | TRUE |\n| 8 | Neptune | Gas giant |  3.883 |  0.67 | TRUE |\n\n",
            "text/latex": "A data.frame: 4 × 5\n\\begin{tabular}{r|lllll}\n  & name & type & diameter & rotation & rings\\\\\n  & <chr> & <chr> & <dbl> & <dbl> & <lgl>\\\\\n\\hline\n\t5 & Jupiter & Gas giant & 11.209 &  0.41 & TRUE\\\\\n\t6 & Saturn  & Gas giant &  9.449 &  0.43 & TRUE\\\\\n\t7 & Uranus  & Gas giant &  4.007 & -0.72 & TRUE\\\\\n\t8 & Neptune & Gas giant &  3.883 &  0.67 & TRUE\\\\\n\\end{tabular}\n",
            "text/plain": [
              "  name    type      diameter rotation rings\n",
              "5 Jupiter Gas giant 11.209    0.41    TRUE \n",
              "6 Saturn  Gas giant  9.449    0.43    TRUE \n",
              "7 Uranus  Gas giant  4.007   -0.72    TRUE \n",
              "8 Neptune Gas giant  3.883    0.67    TRUE "
            ]
          },
          "metadata": {}
        }
      ]
    },
    {
      "cell_type": "code",
      "source": [
        "subset(planets_df, subset = diameter<1 )"
      ],
      "metadata": {
        "colab": {
          "base_uri": "https://localhost:8080/",
          "height": 192
        },
        "id": "Nfb6hHj_eFkY",
        "outputId": "6e708b95-9b12-465a-a301-d088c67664a3"
      },
      "execution_count": 11,
      "outputs": [
        {
          "output_type": "display_data",
          "data": {
            "text/html": [
              "<table class=\"dataframe\">\n",
              "<caption>A data.frame: 3 × 5</caption>\n",
              "<thead>\n",
              "\t<tr><th></th><th scope=col>name</th><th scope=col>type</th><th scope=col>diameter</th><th scope=col>rotation</th><th scope=col>rings</th></tr>\n",
              "\t<tr><th></th><th scope=col>&lt;chr&gt;</th><th scope=col>&lt;chr&gt;</th><th scope=col>&lt;dbl&gt;</th><th scope=col>&lt;dbl&gt;</th><th scope=col>&lt;lgl&gt;</th></tr>\n",
              "</thead>\n",
              "<tbody>\n",
              "\t<tr><th scope=row>1</th><td>Mercury</td><td>Terrestrial planet</td><td>0.382</td><td>  58.64</td><td>FALSE</td></tr>\n",
              "\t<tr><th scope=row>2</th><td>Venus  </td><td>Terrestrial planet</td><td>0.949</td><td>-243.02</td><td>FALSE</td></tr>\n",
              "\t<tr><th scope=row>4</th><td>Mars   </td><td>Terrestrial planet</td><td>0.532</td><td>   1.03</td><td>FALSE</td></tr>\n",
              "</tbody>\n",
              "</table>\n"
            ],
            "text/markdown": "\nA data.frame: 3 × 5\n\n| <!--/--> | name &lt;chr&gt; | type &lt;chr&gt; | diameter &lt;dbl&gt; | rotation &lt;dbl&gt; | rings &lt;lgl&gt; |\n|---|---|---|---|---|---|\n| 1 | Mercury | Terrestrial planet | 0.382 |   58.64 | FALSE |\n| 2 | Venus   | Terrestrial planet | 0.949 | -243.02 | FALSE |\n| 4 | Mars    | Terrestrial planet | 0.532 |    1.03 | FALSE |\n\n",
            "text/latex": "A data.frame: 3 × 5\n\\begin{tabular}{r|lllll}\n  & name & type & diameter & rotation & rings\\\\\n  & <chr> & <chr> & <dbl> & <dbl> & <lgl>\\\\\n\\hline\n\t1 & Mercury & Terrestrial planet & 0.382 &   58.64 & FALSE\\\\\n\t2 & Venus   & Terrestrial planet & 0.949 & -243.02 & FALSE\\\\\n\t4 & Mars    & Terrestrial planet & 0.532 &    1.03 & FALSE\\\\\n\\end{tabular}\n",
            "text/plain": [
              "  name    type               diameter rotation rings\n",
              "1 Mercury Terrestrial planet 0.382      58.64  FALSE\n",
              "2 Venus   Terrestrial planet 0.949    -243.02  FALSE\n",
              "4 Mars    Terrestrial planet 0.532       1.03  FALSE"
            ]
          },
          "metadata": {}
        }
      ]
    },
    {
      "cell_type": "markdown",
      "source": [
        "**Ordenar datos**\n",
        "\n",
        "Puedes ordenar tus datos con la función **order()** esta función nos da el orden que tienen\n"
      ],
      "metadata": {
        "id": "jYha8zLueKWN"
      }
    },
    {
      "cell_type": "code",
      "source": [
        "a <- c(100, 10, 1000)\n",
        "order(a)\n",
        "\n",
        "#esto nos permite reordenar pues\n",
        "a[order(a)]"
      ],
      "metadata": {
        "colab": {
          "base_uri": "https://localhost:8080/",
          "height": 52
        },
        "id": "znI9vnE4eMOm",
        "outputId": "aa40e424-479b-4007-e4fb-af869d816bcb"
      },
      "execution_count": 13,
      "outputs": [
        {
          "output_type": "display_data",
          "data": {
            "text/html": [
              "<style>\n",
              ".list-inline {list-style: none; margin:0; padding: 0}\n",
              ".list-inline>li {display: inline-block}\n",
              ".list-inline>li:not(:last-child)::after {content: \"\\00b7\"; padding: 0 .5ex}\n",
              "</style>\n",
              "<ol class=list-inline><li>2</li><li>1</li><li>3</li></ol>\n"
            ],
            "text/markdown": "1. 2\n2. 1\n3. 3\n\n\n",
            "text/latex": "\\begin{enumerate*}\n\\item 2\n\\item 1\n\\item 3\n\\end{enumerate*}\n",
            "text/plain": [
              "[1] 2 1 3"
            ]
          },
          "metadata": {}
        },
        {
          "output_type": "display_data",
          "data": {
            "text/html": [
              "<style>\n",
              ".list-inline {list-style: none; margin:0; padding: 0}\n",
              ".list-inline>li {display: inline-block}\n",
              ".list-inline>li:not(:last-child)::after {content: \"\\00b7\"; padding: 0 .5ex}\n",
              "</style>\n",
              "<ol class=list-inline><li>10</li><li>100</li><li>1000</li></ol>\n"
            ],
            "text/markdown": "1. 10\n2. 100\n3. 1000\n\n\n",
            "text/latex": "\\begin{enumerate*}\n\\item 10\n\\item 100\n\\item 1000\n\\end{enumerate*}\n",
            "text/plain": [
              "[1]   10  100 1000"
            ]
          },
          "metadata": {}
        }
      ]
    },
    {
      "cell_type": "markdown",
      "source": [
        "**Las listas** sirven para almacenar megadatos y sigue la sig estructura\n",
        "\n",
        "my_list <- list(comp1, comp2 ...)\n",
        "\n",
        "Donde cada componenre puede ser una lista, un vector o una matriz\n",
        "\n",
        "**Dar nombres a listas**\n",
        "\n",
        "my_list <- list(name1 = your_comp1, name2 = your_comp2)\n",
        "\n",
        "\n",
        "También puedes usar la funcion **name()**\n",
        "\n",
        "my_list <- list(your_comp1, your_comp2)\n",
        "\n",
        "names(my_list) <- c(\"name1\", \"name2\")\n",
        "\n",
        "\\\\\n",
        "**Seleccionar Datos**\n",
        "\n",
        "Al igual que antes podemos seleccionar componentes, pero ahora usando [[]] igual podemos llamarlos por nombres o usando '$'\n",
        "\n",
        "shining_list[[\"reviews\"]] (usar \".\")\n",
        "\n",
        "shining_list$reviews\n",
        "\n",
        "podemos seleccionar elementos de los componeneted como [[]][]\n",
        "\n",
        "shining_list[[2]][1]\n",
        "\n",
        "\n",
        "\n",
        "\n",
        "\n",
        "\n",
        "\n",
        "\n",
        "\n",
        "\n",
        "\n"
      ],
      "metadata": {
        "id": "7is2fDHhe3VG"
      }
    }
  ]
}