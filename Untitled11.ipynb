{
  "nbformat": 4,
  "nbformat_minor": 0,
  "metadata": {
    "colab": {
      "provenance": [],
      "authorship_tag": "ABX9TyMooPSSCumTkgA0xtBRi3/W",
      "include_colab_link": true
    },
    "kernelspec": {
      "name": "ir",
      "display_name": "R"
    },
    "language_info": {
      "name": "R"
    }
  },
  "cells": [
    {
      "cell_type": "markdown",
      "metadata": {
        "id": "view-in-github",
        "colab_type": "text"
      },
      "source": [
        "<a href=\"https://colab.research.google.com/github/Brandon-Bernal-A/R/blob/main/Untitled11.ipynb\" target=\"_parent\"><img src=\"https://colab.research.google.com/assets/colab-badge.svg\" alt=\"Open In Colab\"/></a>"
      ]
    },
    {
      "cell_type": "code",
      "execution_count": null,
      "metadata": {
        "colab": {
          "base_uri": "https://localhost:8080/",
          "height": 418
        },
        "id": "Nb187AbCTHJR",
        "outputId": "2fdfa1c2-b6af-43f5-955b-4026be9a1643"
      },
      "outputs": [
        {
          "output_type": "display_data",
          "data": {
            "text/html": [
              "<table class=\"dataframe\">\n",
              "<caption>A data.frame: 8 × 3</caption>\n",
              "<thead>\n",
              "\t<tr><th scope=col>Nombre</th><th scope=col>Genero</th><th scope=col>Bebida_Preferida</th></tr>\n",
              "\t<tr><th scope=col>&lt;chr&gt;</th><th scope=col>&lt;fct&gt;</th><th scope=col>&lt;fct&gt;</th></tr>\n",
              "</thead>\n",
              "<tbody>\n",
              "\t<tr><td>Ana   </td><td>Femenino </td><td>Café</td></tr>\n",
              "\t<tr><td>Luis  </td><td>Masculino</td><td>Té  </td></tr>\n",
              "\t<tr><td>Marta </td><td>Femenino </td><td>Café</td></tr>\n",
              "\t<tr><td>Carlos</td><td>Masculino</td><td>Jugo</td></tr>\n",
              "\t<tr><td>Lucía </td><td>Femenino </td><td>Jugo</td></tr>\n",
              "\t<tr><td>Pedro </td><td>Masculino</td><td>Té  </td></tr>\n",
              "\t<tr><td>Sofía </td><td>Femenino </td><td>Café</td></tr>\n",
              "\t<tr><td>Juan  </td><td>Masculino</td><td>Café</td></tr>\n",
              "</tbody>\n",
              "</table>\n"
            ],
            "text/markdown": "\nA data.frame: 8 × 3\n\n| Nombre &lt;chr&gt; | Genero &lt;fct&gt; | Bebida_Preferida &lt;fct&gt; |\n|---|---|---|\n| Ana    | Femenino  | Café |\n| Luis   | Masculino | Té   |\n| Marta  | Femenino  | Café |\n| Carlos | Masculino | Jugo |\n| Lucía  | Femenino  | Jugo |\n| Pedro  | Masculino | Té   |\n| Sofía  | Femenino  | Café |\n| Juan   | Masculino | Café |\n\n",
            "text/latex": "A data.frame: 8 × 3\n\\begin{tabular}{lll}\n Nombre & Genero & Bebida\\_Preferida\\\\\n <chr> & <fct> & <fct>\\\\\n\\hline\n\t Ana    & Femenino  & Café\\\\\n\t Luis   & Masculino & Té  \\\\\n\t Marta  & Femenino  & Café\\\\\n\t Carlos & Masculino & Jugo\\\\\n\t Lucía  & Femenino  & Jugo\\\\\n\t Pedro  & Masculino & Té  \\\\\n\t Sofía  & Femenino  & Café\\\\\n\t Juan   & Masculino & Café\\\\\n\\end{tabular}\n",
            "text/plain": [
              "  Nombre Genero    Bebida_Preferida\n",
              "1 Ana    Femenino  Café            \n",
              "2 Luis   Masculino Té              \n",
              "3 Marta  Femenino  Café            \n",
              "4 Carlos Masculino Jugo            \n",
              "5 Lucía  Femenino  Jugo            \n",
              "6 Pedro  Masculino Té              \n",
              "7 Sofía  Femenino  Café            \n",
              "8 Juan   Masculino Café            "
            ]
          },
          "metadata": {}
        },
        {
          "output_type": "display_data",
          "data": {
            "text/html": [
              "<style>\n",
              ".list-inline {list-style: none; margin:0; padding: 0}\n",
              ".list-inline>li {display: inline-block}\n",
              ".list-inline>li:not(:last-child)::after {content: \"\\00b7\"; padding: 0 .5ex}\n",
              "</style>\n",
              "<ol class=list-inline><li>'Femenino'</li><li>'Masculino'</li></ol>\n"
            ],
            "text/markdown": "1. 'Femenino'\n2. 'Masculino'\n\n\n",
            "text/latex": "\\begin{enumerate*}\n\\item 'Femenino'\n\\item 'Masculino'\n\\end{enumerate*}\n",
            "text/plain": [
              "[1] \"Femenino\"  \"Masculino\""
            ]
          },
          "metadata": {}
        },
        {
          "output_type": "display_data",
          "data": {
            "text/html": [
              "<style>\n",
              ".list-inline {list-style: none; margin:0; padding: 0}\n",
              ".list-inline>li {display: inline-block}\n",
              ".list-inline>li:not(:last-child)::after {content: \"\\00b7\"; padding: 0 .5ex}\n",
              "</style>\n",
              "<ol class=list-inline><li>'Café'</li><li>'Jugo'</li><li>'Té'</li></ol>\n"
            ],
            "text/markdown": "1. 'Café'\n2. 'Jugo'\n3. 'Té'\n\n\n",
            "text/latex": "\\begin{enumerate*}\n\\item 'Café'\n\\item 'Jugo'\n\\item 'Té'\n\\end{enumerate*}\n",
            "text/plain": [
              "[1] \"Café\" \"Jugo\" \"Té\"  "
            ]
          },
          "metadata": {}
        },
        {
          "output_type": "display_data",
          "data": {
            "text/html": [
              "<style>\n",
              ".list-inline {list-style: none; margin:0; padding: 0}\n",
              ".list-inline>li {display: inline-block}\n",
              ".list-inline>li:not(:last-child)::after {content: \"\\00b7\"; padding: 0 .5ex}\n",
              "</style>\n",
              "<ol class=list-inline><li>'Femenino'</li><li>'Masculino'</li></ol>\n"
            ],
            "text/markdown": "1. 'Femenino'\n2. 'Masculino'\n\n\n",
            "text/latex": "\\begin{enumerate*}\n\\item 'Femenino'\n\\item 'Masculino'\n\\end{enumerate*}\n",
            "text/plain": [
              "[1] \"Femenino\"  \"Masculino\""
            ]
          },
          "metadata": {}
        },
        {
          "output_type": "display_data",
          "data": {
            "text/html": [
              "'Femenino'"
            ],
            "text/markdown": "'Femenino'",
            "text/latex": "'Femenino'",
            "text/plain": [
              "[1] \"Femenino\""
            ]
          },
          "metadata": {}
        }
      ],
      "source": [
        "###### Data.frame ######\n",
        "\n",
        "library(dplyr)\n",
        "library(ggplot2)\n",
        "\n",
        "datos <- data.frame(\n",
        "  Nombre = c(\"Ana\", \"Luis\", \"Marta\", \"Carlos\", \"Lucía\", \"Pedro\", \"Sofía\", \"Juan\"),\n",
        "    Genero = factor(c(\"Femenino\", \"Masculino\", \"Femenino\", \"Masculino\", \"Femenino\", \"Masculino\", \"Femenino\", \"Masculino\")),\n",
        "      Bebida_Preferida = factor(c(\"Café\", \"Té\", \"Café\", \"Jugo\", \"Jugo\", \"Té\", \"Café\", \"Café\"))\n",
        "      )\n",
        "\n",
        "      datos\n",
        "\n",
        "      ####### levels ####\n",
        "\n",
        "      # cuando nos dan un data.frame podemos conocer el contenido de una variable\n",
        "      # con el comando 'levels()' que nos dara todos los factores de esa columna\n",
        "\n",
        "      levels(datos$Genero)\n",
        "      levels(datos$Bebida_Preferida)\n",
        "\n",
        "      ####### table #####\n",
        "\n",
        "      # el comnado table(x,y) nos da una tabla de contingencia de x en fila\n",
        "      # y en columas, nos da el numero total que se repite (x,y)\n",
        "\n",
        "      table1 <- table(datos$Genero, datos$Bebida_Preferida)\n",
        "\n",
        "\n",
        "      ####### droplevels() ####\n",
        "\n",
        "      # cuando filtramos, solo se ocultan los datos, pero sigues estando ahí\n",
        "      # y cuando llamamos a levels() te aparecen todos los factores, filtrados y no\n",
        "      # por lo que usamos droplevels() para eliminar los datos que no están presentes\n",
        "      # si llamamos levels, solo dará los factores filtrados\n",
        "\n",
        "      datos1 <- datos %>%\n",
        "        filter(Genero == \"Femenino\")\n",
        "\n",
        "        levels(datos1$Genero)\n",
        "\n",
        "      datos2 <- datos %>%\n",
        "        filter(Genero == \"Femenino\")%>%\n",
        "        droplevels()\n",
        "\n",
        "      levels(datos2$Genero)\n",
        "\n"
      ]
    },
    {
      "cell_type": "code",
      "source": [
        "######### prop.prop.table() ######\n",
        "\n",
        "#Podemos crear esta misma tabla de contingencia pero con proporciones\n",
        "\n",
        "# De primer termino debe ser una tavla de contingencia table()\n",
        "\n",
        "##si agregamos un segundo elemento\n",
        "# nada toma proporcion de todo el cuadro\n",
        "# 1 toma las filas\n",
        "# 2 toma las columnas\n",
        "\n",
        "# Es decir, la suma de cada area, debe ser 1\n",
        "\n",
        "prop.table(table1)\n",
        "prop.table(table1, 1)\n",
        "prop.table(table1, 2)\n",
        "\n",
        "\n",
        "######## unique() ####\n",
        "\n",
        "#regresa todos los valores de la tabla que no se repiten\n",
        "\n",
        "unique(datos$Genero)\n"
      ],
      "metadata": {
        "colab": {
          "base_uri": "https://localhost:8080/",
          "height": 260
        },
        "id": "Er-Tv-OmTaCG",
        "outputId": "e3348e0b-e1bf-44fd-864b-42be8bd1612b"
      },
      "execution_count": null,
      "outputs": [
        {
          "output_type": "display_data",
          "data": {
            "text/plain": [
              "           \n",
              "             Café  Jugo    Té\n",
              "  Femenino  0.375 0.125 0.000\n",
              "  Masculino 0.125 0.125 0.250"
            ]
          },
          "metadata": {}
        },
        {
          "output_type": "display_data",
          "data": {
            "text/plain": [
              "           \n",
              "            Café Jugo   Té\n",
              "  Femenino  0.75 0.25 0.00\n",
              "  Masculino 0.25 0.25 0.50"
            ]
          },
          "metadata": {}
        },
        {
          "output_type": "display_data",
          "data": {
            "text/plain": [
              "           \n",
              "            Café Jugo   Té\n",
              "  Femenino  0.75 0.50 0.00\n",
              "  Masculino 0.25 0.50 1.00"
            ]
          },
          "metadata": {}
        },
        {
          "output_type": "display_data",
          "data": {
            "text/html": [
              "<style>\n",
              ".list-inline {list-style: none; margin:0; padding: 0}\n",
              ".list-inline>li {display: inline-block}\n",
              ".list-inline>li:not(:last-child)::after {content: \"\\00b7\"; padding: 0 .5ex}\n",
              "</style>\n",
              "<ol class=list-inline><li>Femenino</li><li>Masculino</li></ol>\n",
              "\n",
              "<details>\n",
              "\t<summary style=display:list-item;cursor:pointer>\n",
              "\t\t<strong>Levels</strong>:\n",
              "\t</summary>\n",
              "\t<style>\n",
              "\t.list-inline {list-style: none; margin:0; padding: 0}\n",
              "\t.list-inline>li {display: inline-block}\n",
              "\t.list-inline>li:not(:last-child)::after {content: \"\\00b7\"; padding: 0 .5ex}\n",
              "\t</style>\n",
              "\t<ol class=list-inline><li>'Femenino'</li><li>'Masculino'</li></ol>\n",
              "</details>"
            ],
            "text/markdown": "1. Femenino\n2. Masculino\n\n\n\n**Levels**: 1. 'Femenino'\n2. 'Masculino'\n\n\n",
            "text/latex": "\\begin{enumerate*}\n\\item Femenino\n\\item Masculino\n\\end{enumerate*}\n\n\\emph{Levels}: \\begin{enumerate*}\n\\item 'Femenino'\n\\item 'Masculino'\n\\end{enumerate*}\n",
            "text/plain": [
              "[1] Femenino  Masculino\n",
              "Levels: Femenino Masculino"
            ]
          },
          "metadata": {}
        }
      ]
    },
    {
      "cell_type": "code",
      "source": [
        "######## facet_grid() #####\n",
        "\n",
        "#Funciona exacramente igual que facet_wrap pero aqui podemos controlar que va en\n",
        "# las filas y que en las columnas usando facet_grid(a = filas ~ b = columnas)\n",
        "\n",
        "ggplot(datos, aes(x = Bebida_Preferida)) +\n",
        "  geom_bar(fill = \"steelblue\") +\n",
        "    facet_grid(. ~ Genero) +\n",
        "      labs(title = \"Bebida preferida por género (facet_grid)\")\n",
        "\n",
        "\n",
        "ggplot(datos, aes(x = Bebida_Preferida)) +\n",
        "  geom_bar(fill = \"tomato\") +\n",
        "    facet_wrap(~ Genero) +\n",
        "      labs(title = \"Bebida preferida por género (facet_wrap)\")"
      ],
      "metadata": {
        "colab": {
          "base_uri": "https://localhost:8080/",
          "height": 857
        },
        "id": "UaSAbcE9Tucl",
        "outputId": "11e9fd74-80ad-4b4c-db5b-94d34fefadc3"
      },
      "execution_count": null,
      "outputs": [
        {
          "output_type": "display_data",
          "data": {
            "text/plain": [
              "plot without title"
            ],
            "image/png": "[encoded data removed]"
          },
          "metadata": {
            "image/png": {
              "width": 420,
              "height": 420
            }
          }
        },
        {
          "output_type": "display_data",
          "data": {
            "text/plain": [
              "plot without title"
            ],
            "image/png": "[encoded data removed]"
          },
          "metadata": {
            "image/png": {
              "width": 420,
              "height": 420
            }
          }
        }
      ]
    },
    {
      "cell_type": "code",
      "source": [
        "###### Nota\n",
        "\n",
        "# filter(!data)\n",
        "\n",
        "# filtra todo lo que no es data"
      ],
      "metadata": {
        "id": "OS-B0clMgThx"
      },
      "execution_count": null,
      "outputs": []
    }
  ]
}