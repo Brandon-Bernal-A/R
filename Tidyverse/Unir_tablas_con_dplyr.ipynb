{
  "nbformat": 4,
  "nbformat_minor": 0,
  "metadata": {
    "colab": {
      "provenance": [],
      "authorship_tag": "ABX9TyPOgqDeEMp/fQ1c3/bT2zIJ",
      "include_colab_link": true
    },
    "kernelspec": {
      "name": "ir",
      "display_name": "R"
    },
    "language_info": {
      "name": "R"
    }
  },
  "cells": [
    {
      "cell_type": "markdown",
      "metadata": {
        "id": "view-in-github",
        "colab_type": "text"
      },
      "source": [
        "<a href=\"https://colab.research.google.com/github/Brandon-Bernal-Alarcon/Notas--R/blob/main/Tidyverse/Unir_tablas_con_dplyr.ipynb\" target=\"_parent\"><img src=\"https://colab.research.google.com/assets/colab-badge.svg\" alt=\"Open In Colab\"/></a>"
      ]
    },
    {
      "cell_type": "code",
      "execution_count": 23,
      "metadata": {
        "id": "gDzWn-3onbn-"
      },
      "outputs": [],
      "source": [
        "#Librerías\n",
        "library(dplyr)\n",
        "library(tidyr) # Para usar replace_na"
      ]
    },
    {
      "cell_type": "markdown",
      "source": [
        "**inner_join()**\n",
        "\n",
        "Sirve para combinar tablas que continen una clave en común, permite fusionar dos tablas con los mismos valores clave\n",
        "\n",
        "Si se ocupa directo es\n",
        "\n",
        "inner_join(data1, data2, by = c(columna_data1, columna_data2))\n",
        "\n",
        "cuando son distintas las columnas hay que especificar, sino basta con una cambia la columna de la data 1 por la de la data2\n",
        "\n",
        "en caso de usar tuberías %>% se ocupa solo .data2\n",
        "\n"
      ],
      "metadata": {
        "id": "1idW2HV1ngZq"
      }
    },
    {
      "cell_type": "code",
      "source": [
        "# Data frames de ejemplo\n",
        "sets <- data.frame(\n",
        "  set_num = c(\"001\", \"002\", \"003\"),\n",
        "  theme_id = c(1, 2, 3),\n",
        "  name = c(\"Set A\", \"Set B\", \"Set C\")\n",
        ")\n",
        "\n",
        "themes <- data.frame(\n",
        "  id = c(1, 2, 3),\n",
        "  name = c(\"Theme X\", \"Theme Y\", \"Theme Z\")\n",
        ")\n",
        "\n",
        "# Inner join en theme_id e id\n",
        "joined_data <- inner_join(sets, themes, by = c(\"theme_id\" = \"id\"))\n",
        "joined_data\n",
        "\n",
        "#?inner_join\n"
      ],
      "metadata": {
        "colab": {
          "base_uri": "https://localhost:8080/",
          "height": 192
        },
        "id": "5uWHWf0gns0w",
        "outputId": "361bf278-f1ee-48d4-fb36-4aa56f10ce52"
      },
      "execution_count": 4,
      "outputs": [
        {
          "output_type": "display_data",
          "data": {
            "text/html": [
              "<table class=\"dataframe\">\n",
              "<caption>A data.frame: 3 × 4</caption>\n",
              "<thead>\n",
              "\t<tr><th scope=col>set_num</th><th scope=col>theme_id</th><th scope=col>name.x</th><th scope=col>name.y</th></tr>\n",
              "\t<tr><th scope=col>&lt;chr&gt;</th><th scope=col>&lt;dbl&gt;</th><th scope=col>&lt;chr&gt;</th><th scope=col>&lt;chr&gt;</th></tr>\n",
              "</thead>\n",
              "<tbody>\n",
              "\t<tr><td>001</td><td>1</td><td>Set A</td><td>Theme X</td></tr>\n",
              "\t<tr><td>002</td><td>2</td><td>Set B</td><td>Theme Y</td></tr>\n",
              "\t<tr><td>003</td><td>3</td><td>Set C</td><td>Theme Z</td></tr>\n",
              "</tbody>\n",
              "</table>\n"
            ],
            "text/markdown": "\nA data.frame: 3 × 4\n\n| set_num &lt;chr&gt; | theme_id &lt;dbl&gt; | name.x &lt;chr&gt; | name.y &lt;chr&gt; |\n|---|---|---|---|\n| 001 | 1 | Set A | Theme X |\n| 002 | 2 | Set B | Theme Y |\n| 003 | 3 | Set C | Theme Z |\n\n",
            "text/latex": "A data.frame: 3 × 4\n\\begin{tabular}{llll}\n set\\_num & theme\\_id & name.x & name.y\\\\\n <chr> & <dbl> & <chr> & <chr>\\\\\n\\hline\n\t 001 & 1 & Set A & Theme X\\\\\n\t 002 & 2 & Set B & Theme Y\\\\\n\t 003 & 3 & Set C & Theme Z\\\\\n\\end{tabular}\n",
            "text/plain": [
              "  set_num theme_id name.x name.y \n",
              "1 001     1        Set A  Theme X\n",
              "2 002     2        Set B  Theme Y\n",
              "3 003     3        Set C  Theme Z"
            ]
          },
          "metadata": {}
        }
      ]
    },
    {
      "cell_type": "markdown",
      "source": [
        "Podemos personalizar nombres de columnas repetidas, si no lo hacemos aparece como .x o .y agregamos 'suffix = c(\"_x\",\"_y\")'\n"
      ],
      "metadata": {
        "id": "GgKsHJikn4e2"
      }
    },
    {
      "cell_type": "code",
      "source": [
        "joined_data_custom <- inner_join(sets, themes, by = c(\"theme_id\" = \"id\"), suffix = c(\"_set\", \"_theme\"))\n",
        "joined_data_custom"
      ],
      "metadata": {
        "colab": {
          "base_uri": "https://localhost:8080/",
          "height": 192
        },
        "id": "yS2XcDi2n5Md",
        "outputId": "313c9eeb-ca2d-41e1-d42c-9648c5deabc8"
      },
      "execution_count": 6,
      "outputs": [
        {
          "output_type": "display_data",
          "data": {
            "text/html": [
              "<table class=\"dataframe\">\n",
              "<caption>A data.frame: 3 × 4</caption>\n",
              "<thead>\n",
              "\t<tr><th scope=col>set_num</th><th scope=col>theme_id</th><th scope=col>name_set</th><th scope=col>name_theme</th></tr>\n",
              "\t<tr><th scope=col>&lt;chr&gt;</th><th scope=col>&lt;dbl&gt;</th><th scope=col>&lt;chr&gt;</th><th scope=col>&lt;chr&gt;</th></tr>\n",
              "</thead>\n",
              "<tbody>\n",
              "\t<tr><td>001</td><td>1</td><td>Set A</td><td>Theme X</td></tr>\n",
              "\t<tr><td>002</td><td>2</td><td>Set B</td><td>Theme Y</td></tr>\n",
              "\t<tr><td>003</td><td>3</td><td>Set C</td><td>Theme Z</td></tr>\n",
              "</tbody>\n",
              "</table>\n"
            ],
            "text/markdown": "\nA data.frame: 3 × 4\n\n| set_num &lt;chr&gt; | theme_id &lt;dbl&gt; | name_set &lt;chr&gt; | name_theme &lt;chr&gt; |\n|---|---|---|---|\n| 001 | 1 | Set A | Theme X |\n| 002 | 2 | Set B | Theme Y |\n| 003 | 3 | Set C | Theme Z |\n\n",
            "text/latex": "A data.frame: 3 × 4\n\\begin{tabular}{llll}\n set\\_num & theme\\_id & name\\_set & name\\_theme\\\\\n <chr> & <dbl> & <chr> & <chr>\\\\\n\\hline\n\t 001 & 1 & Set A & Theme X\\\\\n\t 002 & 2 & Set B & Theme Y\\\\\n\t 003 & 3 & Set C & Theme Z\\\\\n\\end{tabular}\n",
            "text/plain": [
              "  set_num theme_id name_set name_theme\n",
              "1 001     1        Set A    Theme X   \n",
              "2 002     2        Set B    Theme Y   \n",
              "3 003     3        Set C    Theme Z   "
            ]
          },
          "metadata": {}
        }
      ]
    },
    {
      "cell_type": "markdown",
      "source": [
        "**relación uno-a-muchos**\n",
        "\n",
        "En una relación uno-a-muchos, un solo registro en una tabla puede relacionarse con múltiples registros en otra tabla. Esto es común en bases de datos, como cuando se unen conjuntos de LEGO con sus inventarios. Cada conjunto puede tener múltiples versiones, resultando en más filas después de la unión.\n",
        "\n",
        "Es decir ejemplo quieres unir el ID = 1 del data.1 con el ID = 2 del data.2 pero cuando vez, el data.2 tiene 5 filas con ID =1 entonces al unirlo tienes 5 filas asociadas\n",
        "\n",
        "**Unir varias tablas**\n"
      ],
      "metadata": {
        "id": "_bTZ8BpaoC_m"
      }
    },
    {
      "cell_type": "code",
      "source": [
        "\n",
        "# Tabla de clientes\n",
        "clientes <- data.frame(\n",
        "  cliente_id = c(1, 2, 3),\n",
        "  nombre = c(\"Ana\", \"Luis\", \"Carlos\")\n",
        ")\n",
        "\n",
        "# Tabla de órdenes (varias órdenes por cliente)\n",
        "ordenes <- data.frame(\n",
        "  orden_id = c(101, 102, 103, 104),\n",
        "  cliente_id = c(1, 2, 1, 3),\n",
        "  fecha = as.Date(c(\"2023-01-15\", \"2023-01-20\", \"2023-02-05\", \"2023-03-10\"))\n",
        ")\n",
        "\n",
        "# Tabla de productos por orden (varios productos por orden)\n",
        "productos_ordenados <- data.frame(\n",
        "  orden_id = c(101, 101, 102, 103, 104, 104),\n",
        "  producto = c(\"Laptop\", \"Mouse\", \"Tablet\", \"Monitor\", \"Teclado\", \"Mouse\"),\n",
        "  precio = c(12000, 300, 7000, 4000, 600, 350)\n",
        ")\n",
        "\n",
        "# Unimos las 3 tablas con inner_join\n",
        "datos_completos <- clientes %>%\n",
        "  inner_join(ordenes, by = \"cliente_id\") %>%\n",
        "  inner_join(productos_ordenados, by = \"orden_id\")\n",
        "\n",
        "# Resultado\n",
        "print(datos_completos)"
      ],
      "metadata": {
        "colab": {
          "base_uri": "https://localhost:8080/"
        },
        "id": "SEtWcSuyoe9S",
        "outputId": "25b10f14-1fb4-48a0-dc8c-03fe027cb466"
      },
      "execution_count": 13,
      "outputs": [
        {
          "output_type": "stream",
          "name": "stdout",
          "text": [
            "  cliente_id nombre orden_id      fecha producto precio\n",
            "1          1    Ana      101 2023-01-15   Laptop  12000\n",
            "2          1    Ana      101 2023-01-15    Mouse    300\n",
            "3          1    Ana      103 2023-02-05  Monitor   4000\n",
            "4          2   Luis      102 2023-01-20   Tablet   7000\n",
            "5          3 Carlos      104 2023-03-10  Teclado    600\n",
            "6          3 Carlos      104 2023-03-10    Mouse    350\n"
          ]
        }
      ]
    },
    {
      "cell_type": "markdown",
      "source": [
        "**left_join() — Unión por la izquierda**\n",
        "\n",
        "Mantiene todas las filas de la tabla izquierda, y completa con datos de la derecha (pone NA si no hay coincidencias). Si alguna ciudad de datos no aparece en ciudades_extra, la columna region será NA.\n",
        "\n"
      ],
      "metadata": {
        "id": "70-gfnm3pXUP"
      }
    },
    {
      "cell_type": "code",
      "source": [
        "set.seed(123)\n",
        "library(tibble)\n",
        "\n",
        "datos <- tibble(\n",
        "  id = 1:100,\n",
        "  edad = sample(18:65, 100, replace = TRUE),\n",
        "  sexo = sample(c(\"Hombre\", \"Mujer\"), 100, replace = TRUE),\n",
        "  ciudad = sample(c(\"CDMX\", \"Guadalajara\", \"Monterrey\", \"Puebla\"), 100, replace = TRUE),\n",
        "  ingreso_mensual = round(rnorm(100, mean = 15000, sd = 4000), 0),\n",
        "  nivel_educativo = sample(c(\"Secundaria\", \"Preparatoria\", \"Universidad\", \"Posgrado\"), 100, replace = TRUE)\n",
        ")"
      ],
      "metadata": {
        "id": "-LwWRnFbqg_o"
      },
      "execution_count": 12,
      "outputs": []
    },
    {
      "cell_type": "code",
      "source": [
        "ciudades_extra <- tibble(\n",
        "  ciudad = c(\"CDMX\", \"Guadalajara\", \"Puebla\", \"Querétaro\"),\n",
        "  region = c(\"Centro\", \"Occidente\", \"Centro\", \"Bajío\")\n",
        ")\n",
        "\n",
        "d <- datos %>%\n",
        "  left_join(ciudades_extra, by = \"ciudad\")\n",
        "\n",
        "head(d)"
      ],
      "metadata": {
        "colab": {
          "base_uri": "https://localhost:8080/",
          "height": 286
        },
        "id": "JexFzEpmpf0c",
        "outputId": "9d3f0782-f1f2-4fc7-81ea-eb04cff7f8a7"
      },
      "execution_count": 14,
      "outputs": [
        {
          "output_type": "display_data",
          "data": {
            "text/html": [
              "<table class=\"dataframe\">\n",
              "<caption>A tibble: 6 × 7</caption>\n",
              "<thead>\n",
              "\t<tr><th scope=col>id</th><th scope=col>edad</th><th scope=col>sexo</th><th scope=col>ciudad</th><th scope=col>ingreso_mensual</th><th scope=col>nivel_educativo</th><th scope=col>region</th></tr>\n",
              "\t<tr><th scope=col>&lt;int&gt;</th><th scope=col>&lt;int&gt;</th><th scope=col>&lt;chr&gt;</th><th scope=col>&lt;chr&gt;</th><th scope=col>&lt;dbl&gt;</th><th scope=col>&lt;chr&gt;</th><th scope=col>&lt;chr&gt;</th></tr>\n",
              "</thead>\n",
              "<tbody>\n",
              "\t<tr><td>1</td><td>48</td><td>Hombre</td><td>Monterrey  </td><td>20490</td><td>Universidad </td><td>NA       </td></tr>\n",
              "\t<tr><td>2</td><td>32</td><td>Mujer </td><td>CDMX       </td><td>12743</td><td>Posgrado    </td><td>Centro   </td></tr>\n",
              "\t<tr><td>3</td><td>31</td><td>Hombre</td><td>Guadalajara</td><td>18881</td><td>Posgrado    </td><td>Occidente</td></tr>\n",
              "\t<tr><td>4</td><td>20</td><td>Mujer </td><td>Guadalajara</td><td>14925</td><td>Preparatoria</td><td>Occidente</td></tr>\n",
              "\t<tr><td>5</td><td>59</td><td>Mujer </td><td>CDMX       </td><td>16449</td><td>Secundaria  </td><td>Centro   </td></tr>\n",
              "\t<tr><td>6</td><td>60</td><td>Mujer </td><td>Puebla     </td><td>23045</td><td>Secundaria  </td><td>Centro   </td></tr>\n",
              "</tbody>\n",
              "</table>\n"
            ],
            "text/markdown": "\nA tibble: 6 × 7\n\n| id &lt;int&gt; | edad &lt;int&gt; | sexo &lt;chr&gt; | ciudad &lt;chr&gt; | ingreso_mensual &lt;dbl&gt; | nivel_educativo &lt;chr&gt; | region &lt;chr&gt; |\n|---|---|---|---|---|---|---|\n| 1 | 48 | Hombre | Monterrey   | 20490 | Universidad  | NA        |\n| 2 | 32 | Mujer  | CDMX        | 12743 | Posgrado     | Centro    |\n| 3 | 31 | Hombre | Guadalajara | 18881 | Posgrado     | Occidente |\n| 4 | 20 | Mujer  | Guadalajara | 14925 | Preparatoria | Occidente |\n| 5 | 59 | Mujer  | CDMX        | 16449 | Secundaria   | Centro    |\n| 6 | 60 | Mujer  | Puebla      | 23045 | Secundaria   | Centro    |\n\n",
            "text/latex": "A tibble: 6 × 7\n\\begin{tabular}{lllllll}\n id & edad & sexo & ciudad & ingreso\\_mensual & nivel\\_educativo & region\\\\\n <int> & <int> & <chr> & <chr> & <dbl> & <chr> & <chr>\\\\\n\\hline\n\t 1 & 48 & Hombre & Monterrey   & 20490 & Universidad  & NA       \\\\\n\t 2 & 32 & Mujer  & CDMX        & 12743 & Posgrado     & Centro   \\\\\n\t 3 & 31 & Hombre & Guadalajara & 18881 & Posgrado     & Occidente\\\\\n\t 4 & 20 & Mujer  & Guadalajara & 14925 & Preparatoria & Occidente\\\\\n\t 5 & 59 & Mujer  & CDMX        & 16449 & Secundaria   & Centro   \\\\\n\t 6 & 60 & Mujer  & Puebla      & 23045 & Secundaria   & Centro   \\\\\n\\end{tabular}\n",
            "text/plain": [
              "  id edad sexo   ciudad      ingreso_mensual nivel_educativo region   \n",
              "1 1  48   Hombre Monterrey   20490           Universidad     NA       \n",
              "2 2  32   Mujer  CDMX        12743           Posgrado        Centro   \n",
              "3 3  31   Hombre Guadalajara 18881           Posgrado        Occidente\n",
              "4 4  20   Mujer  Guadalajara 14925           Preparatoria    Occidente\n",
              "5 5  59   Mujer  CDMX        16449           Secundaria      Centro   \n",
              "6 6  60   Mujer  Puebla      23045           Secundaria      Centro   "
            ]
          },
          "metadata": {}
        }
      ]
    },
    {
      "cell_type": "markdown",
      "source": [
        "**right_join() — Unión por la derecha**\n",
        "\n",
        "Mantiene todas las filas de la tabla derecha, rellenando desde la izquierda.\n",
        "\n",
        "Si hay ciudades en ciudades_extra que no están en datos, igual se conservan.\n"
      ],
      "metadata": {
        "id": "4Tie7H-rq5k0"
      }
    },
    {
      "cell_type": "code",
      "source": [
        "c <- ciudades_extra %>%\n",
        "  right_join(datos, by = \"ciudad\")\n",
        "head(c)"
      ],
      "metadata": {
        "colab": {
          "base_uri": "https://localhost:8080/",
          "height": 286
        },
        "id": "QeX73069rAsT",
        "outputId": "ae17d286-13bf-48e5-c9fb-47620d4c5a2c"
      },
      "execution_count": 15,
      "outputs": [
        {
          "output_type": "display_data",
          "data": {
            "text/html": [
              "<table class=\"dataframe\">\n",
              "<caption>A tibble: 6 × 7</caption>\n",
              "<thead>\n",
              "\t<tr><th scope=col>ciudad</th><th scope=col>region</th><th scope=col>id</th><th scope=col>edad</th><th scope=col>sexo</th><th scope=col>ingreso_mensual</th><th scope=col>nivel_educativo</th></tr>\n",
              "\t<tr><th scope=col>&lt;chr&gt;</th><th scope=col>&lt;chr&gt;</th><th scope=col>&lt;int&gt;</th><th scope=col>&lt;int&gt;</th><th scope=col>&lt;chr&gt;</th><th scope=col>&lt;dbl&gt;</th><th scope=col>&lt;chr&gt;</th></tr>\n",
              "</thead>\n",
              "<tbody>\n",
              "\t<tr><td>CDMX</td><td>Centro</td><td> 2</td><td>32</td><td>Mujer </td><td>12743</td><td>Posgrado    </td></tr>\n",
              "\t<tr><td>CDMX</td><td>Centro</td><td> 5</td><td>59</td><td>Mujer </td><td>16449</td><td>Secundaria  </td></tr>\n",
              "\t<tr><td>CDMX</td><td>Centro</td><td>11</td><td>44</td><td>Hombre</td><td>16257</td><td>Secundaria  </td></tr>\n",
              "\t<tr><td>CDMX</td><td>Centro</td><td>12</td><td>22</td><td>Mujer </td><td>22379</td><td>Universidad </td></tr>\n",
              "\t<tr><td>CDMX</td><td>Centro</td><td>14</td><td>45</td><td>Mujer </td><td>23784</td><td>Preparatoria</td></tr>\n",
              "\t<tr><td>CDMX</td><td>Centro</td><td>17</td><td>52</td><td>Mujer </td><td>11530</td><td>Universidad </td></tr>\n",
              "</tbody>\n",
              "</table>\n"
            ],
            "text/markdown": "\nA tibble: 6 × 7\n\n| ciudad &lt;chr&gt; | region &lt;chr&gt; | id &lt;int&gt; | edad &lt;int&gt; | sexo &lt;chr&gt; | ingreso_mensual &lt;dbl&gt; | nivel_educativo &lt;chr&gt; |\n|---|---|---|---|---|---|---|\n| CDMX | Centro |  2 | 32 | Mujer  | 12743 | Posgrado     |\n| CDMX | Centro |  5 | 59 | Mujer  | 16449 | Secundaria   |\n| CDMX | Centro | 11 | 44 | Hombre | 16257 | Secundaria   |\n| CDMX | Centro | 12 | 22 | Mujer  | 22379 | Universidad  |\n| CDMX | Centro | 14 | 45 | Mujer  | 23784 | Preparatoria |\n| CDMX | Centro | 17 | 52 | Mujer  | 11530 | Universidad  |\n\n",
            "text/latex": "A tibble: 6 × 7\n\\begin{tabular}{lllllll}\n ciudad & region & id & edad & sexo & ingreso\\_mensual & nivel\\_educativo\\\\\n <chr> & <chr> & <int> & <int> & <chr> & <dbl> & <chr>\\\\\n\\hline\n\t CDMX & Centro &  2 & 32 & Mujer  & 12743 & Posgrado    \\\\\n\t CDMX & Centro &  5 & 59 & Mujer  & 16449 & Secundaria  \\\\\n\t CDMX & Centro & 11 & 44 & Hombre & 16257 & Secundaria  \\\\\n\t CDMX & Centro & 12 & 22 & Mujer  & 22379 & Universidad \\\\\n\t CDMX & Centro & 14 & 45 & Mujer  & 23784 & Preparatoria\\\\\n\t CDMX & Centro & 17 & 52 & Mujer  & 11530 & Universidad \\\\\n\\end{tabular}\n",
            "text/plain": [
              "  ciudad region id edad sexo   ingreso_mensual nivel_educativo\n",
              "1 CDMX   Centro  2 32   Mujer  12743           Posgrado       \n",
              "2 CDMX   Centro  5 59   Mujer  16449           Secundaria     \n",
              "3 CDMX   Centro 11 44   Hombre 16257           Secundaria     \n",
              "4 CDMX   Centro 12 22   Mujer  22379           Universidad    \n",
              "5 CDMX   Centro 14 45   Mujer  23784           Preparatoria   \n",
              "6 CDMX   Centro 17 52   Mujer  11530           Universidad    "
            ]
          },
          "metadata": {}
        }
      ]
    },
    {
      "cell_type": "markdown",
      "source": [
        "**full_join() — Unión completa**\n",
        "\n",
        "Combina todas las filas de ambas tablas, aunque no coincidan, Donde no haya coincidencia, aparecerán NA.\n",
        "\n"
      ],
      "metadata": {
        "id": "h9Llopo6rK1y"
      }
    },
    {
      "cell_type": "code",
      "source": [
        "d <- datos %>%\n",
        "  full_join(ciudades_extra, by = \"ciudad\")\n",
        "head(d)"
      ],
      "metadata": {
        "colab": {
          "base_uri": "https://localhost:8080/",
          "height": 286
        },
        "id": "j4cpRG-mrPHX",
        "outputId": "2639bf24-a30c-4bb6-8282-5fc0ff68aa90"
      },
      "execution_count": 16,
      "outputs": [
        {
          "output_type": "display_data",
          "data": {
            "text/html": [
              "<table class=\"dataframe\">\n",
              "<caption>A tibble: 6 × 7</caption>\n",
              "<thead>\n",
              "\t<tr><th scope=col>id</th><th scope=col>edad</th><th scope=col>sexo</th><th scope=col>ciudad</th><th scope=col>ingreso_mensual</th><th scope=col>nivel_educativo</th><th scope=col>region</th></tr>\n",
              "\t<tr><th scope=col>&lt;int&gt;</th><th scope=col>&lt;int&gt;</th><th scope=col>&lt;chr&gt;</th><th scope=col>&lt;chr&gt;</th><th scope=col>&lt;dbl&gt;</th><th scope=col>&lt;chr&gt;</th><th scope=col>&lt;chr&gt;</th></tr>\n",
              "</thead>\n",
              "<tbody>\n",
              "\t<tr><td>1</td><td>48</td><td>Hombre</td><td>Monterrey  </td><td>20490</td><td>Universidad </td><td>NA       </td></tr>\n",
              "\t<tr><td>2</td><td>32</td><td>Mujer </td><td>CDMX       </td><td>12743</td><td>Posgrado    </td><td>Centro   </td></tr>\n",
              "\t<tr><td>3</td><td>31</td><td>Hombre</td><td>Guadalajara</td><td>18881</td><td>Posgrado    </td><td>Occidente</td></tr>\n",
              "\t<tr><td>4</td><td>20</td><td>Mujer </td><td>Guadalajara</td><td>14925</td><td>Preparatoria</td><td>Occidente</td></tr>\n",
              "\t<tr><td>5</td><td>59</td><td>Mujer </td><td>CDMX       </td><td>16449</td><td>Secundaria  </td><td>Centro   </td></tr>\n",
              "\t<tr><td>6</td><td>60</td><td>Mujer </td><td>Puebla     </td><td>23045</td><td>Secundaria  </td><td>Centro   </td></tr>\n",
              "</tbody>\n",
              "</table>\n"
            ],
            "text/markdown": "\nA tibble: 6 × 7\n\n| id &lt;int&gt; | edad &lt;int&gt; | sexo &lt;chr&gt; | ciudad &lt;chr&gt; | ingreso_mensual &lt;dbl&gt; | nivel_educativo &lt;chr&gt; | region &lt;chr&gt; |\n|---|---|---|---|---|---|---|\n| 1 | 48 | Hombre | Monterrey   | 20490 | Universidad  | NA        |\n| 2 | 32 | Mujer  | CDMX        | 12743 | Posgrado     | Centro    |\n| 3 | 31 | Hombre | Guadalajara | 18881 | Posgrado     | Occidente |\n| 4 | 20 | Mujer  | Guadalajara | 14925 | Preparatoria | Occidente |\n| 5 | 59 | Mujer  | CDMX        | 16449 | Secundaria   | Centro    |\n| 6 | 60 | Mujer  | Puebla      | 23045 | Secundaria   | Centro    |\n\n",
            "text/latex": "A tibble: 6 × 7\n\\begin{tabular}{lllllll}\n id & edad & sexo & ciudad & ingreso\\_mensual & nivel\\_educativo & region\\\\\n <int> & <int> & <chr> & <chr> & <dbl> & <chr> & <chr>\\\\\n\\hline\n\t 1 & 48 & Hombre & Monterrey   & 20490 & Universidad  & NA       \\\\\n\t 2 & 32 & Mujer  & CDMX        & 12743 & Posgrado     & Centro   \\\\\n\t 3 & 31 & Hombre & Guadalajara & 18881 & Posgrado     & Occidente\\\\\n\t 4 & 20 & Mujer  & Guadalajara & 14925 & Preparatoria & Occidente\\\\\n\t 5 & 59 & Mujer  & CDMX        & 16449 & Secundaria   & Centro   \\\\\n\t 6 & 60 & Mujer  & Puebla      & 23045 & Secundaria   & Centro   \\\\\n\\end{tabular}\n",
            "text/plain": [
              "  id edad sexo   ciudad      ingreso_mensual nivel_educativo region   \n",
              "1 1  48   Hombre Monterrey   20490           Universidad     NA       \n",
              "2 2  32   Mujer  CDMX        12743           Posgrado        Centro   \n",
              "3 3  31   Hombre Guadalajara 18881           Posgrado        Occidente\n",
              "4 4  20   Mujer  Guadalajara 14925           Preparatoria    Occidente\n",
              "5 5  59   Mujer  CDMX        16449           Secundaria      Centro   \n",
              "6 6  60   Mujer  Puebla      23045           Secundaria      Centro   "
            ]
          },
          "metadata": {}
        }
      ]
    },
    {
      "cell_type": "markdown",
      "source": [
        "**semi_join() — Filtrado por coincidencia**\n",
        "\n",
        "Devuelve solo filas de la tabla izquierda que tienen coincidencia en la derecha.\n"
      ],
      "metadata": {
        "id": "9qv3QrVMrbJ9"
      }
    },
    {
      "cell_type": "code",
      "source": [
        "ciudades_filtradas <- tibble(\n",
        "  ciudad = c(\"CDMX\", \"Puebla\")\n",
        ")\n",
        "\n",
        "d <- datos %>%\n",
        "  semi_join(ciudades_filtradas, by = \"ciudad\")\n",
        "head(d) #Solo conserva personas que viven en CDMX o Puebla."
      ],
      "metadata": {
        "colab": {
          "base_uri": "https://localhost:8080/",
          "height": 286
        },
        "id": "NDT1Fcf2rgx3",
        "outputId": "7fca01db-a992-45b2-83f6-c3a76d7d134a"
      },
      "execution_count": 19,
      "outputs": [
        {
          "output_type": "display_data",
          "data": {
            "text/html": [
              "<table class=\"dataframe\">\n",
              "<caption>A tibble: 6 × 6</caption>\n",
              "<thead>\n",
              "\t<tr><th scope=col>id</th><th scope=col>edad</th><th scope=col>sexo</th><th scope=col>ciudad</th><th scope=col>ingreso_mensual</th><th scope=col>nivel_educativo</th></tr>\n",
              "\t<tr><th scope=col>&lt;int&gt;</th><th scope=col>&lt;int&gt;</th><th scope=col>&lt;chr&gt;</th><th scope=col>&lt;chr&gt;</th><th scope=col>&lt;dbl&gt;</th><th scope=col>&lt;chr&gt;</th></tr>\n",
              "</thead>\n",
              "<tbody>\n",
              "\t<tr><td> 2</td><td>32</td><td>Mujer</td><td>CDMX  </td><td>12743</td><td>Posgrado    </td></tr>\n",
              "\t<tr><td> 5</td><td>59</td><td>Mujer</td><td>CDMX  </td><td>16449</td><td>Secundaria  </td></tr>\n",
              "\t<tr><td> 6</td><td>60</td><td>Mujer</td><td>Puebla</td><td>23045</td><td>Secundaria  </td></tr>\n",
              "\t<tr><td> 7</td><td>54</td><td>Mujer</td><td>Puebla</td><td>10288</td><td>Preparatoria</td></tr>\n",
              "\t<tr><td> 8</td><td>31</td><td>Mujer</td><td>Puebla</td><td>11979</td><td>Preparatoria</td></tr>\n",
              "\t<tr><td>10</td><td>43</td><td>Mujer</td><td>Puebla</td><td>13865</td><td>Preparatoria</td></tr>\n",
              "</tbody>\n",
              "</table>\n"
            ],
            "text/markdown": "\nA tibble: 6 × 6\n\n| id &lt;int&gt; | edad &lt;int&gt; | sexo &lt;chr&gt; | ciudad &lt;chr&gt; | ingreso_mensual &lt;dbl&gt; | nivel_educativo &lt;chr&gt; |\n|---|---|---|---|---|---|\n|  2 | 32 | Mujer | CDMX   | 12743 | Posgrado     |\n|  5 | 59 | Mujer | CDMX   | 16449 | Secundaria   |\n|  6 | 60 | Mujer | Puebla | 23045 | Secundaria   |\n|  7 | 54 | Mujer | Puebla | 10288 | Preparatoria |\n|  8 | 31 | Mujer | Puebla | 11979 | Preparatoria |\n| 10 | 43 | Mujer | Puebla | 13865 | Preparatoria |\n\n",
            "text/latex": "A tibble: 6 × 6\n\\begin{tabular}{llllll}\n id & edad & sexo & ciudad & ingreso\\_mensual & nivel\\_educativo\\\\\n <int> & <int> & <chr> & <chr> & <dbl> & <chr>\\\\\n\\hline\n\t  2 & 32 & Mujer & CDMX   & 12743 & Posgrado    \\\\\n\t  5 & 59 & Mujer & CDMX   & 16449 & Secundaria  \\\\\n\t  6 & 60 & Mujer & Puebla & 23045 & Secundaria  \\\\\n\t  7 & 54 & Mujer & Puebla & 10288 & Preparatoria\\\\\n\t  8 & 31 & Mujer & Puebla & 11979 & Preparatoria\\\\\n\t 10 & 43 & Mujer & Puebla & 13865 & Preparatoria\\\\\n\\end{tabular}\n",
            "text/plain": [
              "  id edad sexo  ciudad ingreso_mensual nivel_educativo\n",
              "1  2 32   Mujer CDMX   12743           Posgrado       \n",
              "2  5 59   Mujer CDMX   16449           Secundaria     \n",
              "3  6 60   Mujer Puebla 23045           Secundaria     \n",
              "4  7 54   Mujer Puebla 10288           Preparatoria   \n",
              "5  8 31   Mujer Puebla 11979           Preparatoria   \n",
              "6 10 43   Mujer Puebla 13865           Preparatoria   "
            ]
          },
          "metadata": {}
        }
      ]
    },
    {
      "cell_type": "markdown",
      "source": [
        "**anti_join() — Filtrado por diferencia**\n",
        "\n",
        "Devuelve las filas de la izquierda que NO tienen coincidencia en la derecha.\n",
        "\n"
      ],
      "metadata": {
        "id": "97NaeypCrpZ7"
      }
    },
    {
      "cell_type": "code",
      "source": [
        "d <-datos %>%\n",
        "  anti_join(ciudades_filtradas, by = \"ciudad\")\n",
        "#Muestra personas que viven en otras ciudades distintas a CDMX y Puebla.\n",
        "head(d)"
      ],
      "metadata": {
        "colab": {
          "base_uri": "https://localhost:8080/",
          "height": 286
        },
        "id": "UcBY_H2krvBj",
        "outputId": "18cc9053-9e11-443f-8574-5260c14656ee"
      },
      "execution_count": 20,
      "outputs": [
        {
          "output_type": "display_data",
          "data": {
            "text/html": [
              "<table class=\"dataframe\">\n",
              "<caption>A tibble: 6 × 6</caption>\n",
              "<thead>\n",
              "\t<tr><th scope=col>id</th><th scope=col>edad</th><th scope=col>sexo</th><th scope=col>ciudad</th><th scope=col>ingreso_mensual</th><th scope=col>nivel_educativo</th></tr>\n",
              "\t<tr><th scope=col>&lt;int&gt;</th><th scope=col>&lt;int&gt;</th><th scope=col>&lt;chr&gt;</th><th scope=col>&lt;chr&gt;</th><th scope=col>&lt;dbl&gt;</th><th scope=col>&lt;chr&gt;</th></tr>\n",
              "</thead>\n",
              "<tbody>\n",
              "\t<tr><td> 1</td><td>48</td><td>Hombre</td><td>Monterrey  </td><td>20490</td><td>Universidad </td></tr>\n",
              "\t<tr><td> 3</td><td>31</td><td>Hombre</td><td>Guadalajara</td><td>18881</td><td>Posgrado    </td></tr>\n",
              "\t<tr><td> 4</td><td>20</td><td>Mujer </td><td>Guadalajara</td><td>14925</td><td>Preparatoria</td></tr>\n",
              "\t<tr><td> 9</td><td>42</td><td>Mujer </td><td>Guadalajara</td><td>13675</td><td>Preparatoria</td></tr>\n",
              "\t<tr><td>13</td><td>44</td><td>Mujer </td><td>Guadalajara</td><td>11072</td><td>Universidad </td></tr>\n",
              "\t<tr><td>16</td><td>46</td><td>Mujer </td><td>Monterrey  </td><td>18901</td><td>Posgrado    </td></tr>\n",
              "</tbody>\n",
              "</table>\n"
            ],
            "text/markdown": "\nA tibble: 6 × 6\n\n| id &lt;int&gt; | edad &lt;int&gt; | sexo &lt;chr&gt; | ciudad &lt;chr&gt; | ingreso_mensual &lt;dbl&gt; | nivel_educativo &lt;chr&gt; |\n|---|---|---|---|---|---|\n|  1 | 48 | Hombre | Monterrey   | 20490 | Universidad  |\n|  3 | 31 | Hombre | Guadalajara | 18881 | Posgrado     |\n|  4 | 20 | Mujer  | Guadalajara | 14925 | Preparatoria |\n|  9 | 42 | Mujer  | Guadalajara | 13675 | Preparatoria |\n| 13 | 44 | Mujer  | Guadalajara | 11072 | Universidad  |\n| 16 | 46 | Mujer  | Monterrey   | 18901 | Posgrado     |\n\n",
            "text/latex": "A tibble: 6 × 6\n\\begin{tabular}{llllll}\n id & edad & sexo & ciudad & ingreso\\_mensual & nivel\\_educativo\\\\\n <int> & <int> & <chr> & <chr> & <dbl> & <chr>\\\\\n\\hline\n\t  1 & 48 & Hombre & Monterrey   & 20490 & Universidad \\\\\n\t  3 & 31 & Hombre & Guadalajara & 18881 & Posgrado    \\\\\n\t  4 & 20 & Mujer  & Guadalajara & 14925 & Preparatoria\\\\\n\t  9 & 42 & Mujer  & Guadalajara & 13675 & Preparatoria\\\\\n\t 13 & 44 & Mujer  & Guadalajara & 11072 & Universidad \\\\\n\t 16 & 46 & Mujer  & Monterrey   & 18901 & Posgrado    \\\\\n\\end{tabular}\n",
            "text/plain": [
              "  id edad sexo   ciudad      ingreso_mensual nivel_educativo\n",
              "1  1 48   Hombre Monterrey   20490           Universidad    \n",
              "2  3 31   Hombre Guadalajara 18881           Posgrado       \n",
              "3  4 20   Mujer  Guadalajara 14925           Preparatoria   \n",
              "4  9 42   Mujer  Guadalajara 13675           Preparatoria   \n",
              "5 13 44   Mujer  Guadalajara 11072           Universidad    \n",
              "6 16 46   Mujer  Monterrey   18901           Posgrado       "
            ]
          },
          "metadata": {}
        }
      ]
    },
    {
      "cell_type": "markdown",
      "source": [
        "**replace_na() — Reemplazar NAs**\n",
        "\n",
        "Ideal después de un join, para reemplazar valores vacíos con un valor por defecto:\n"
      ],
      "metadata": {
        "id": "zrRC1A20r1ZC"
      }
    },
    {
      "cell_type": "code",
      "source": [
        "d <- datos %>%\n",
        "  left_join(ciudades_extra, by = \"ciudad\") %>%\n",
        "  replace_na(list(region = \"Desconocida\"))\n",
        "head(d)\n",
        "#library(tidyr)  Para usar replace_na\n"
      ],
      "metadata": {
        "colab": {
          "base_uri": "https://localhost:8080/",
          "height": 286
        },
        "id": "USGiHWJdr7TI",
        "outputId": "15e49688-3ff4-4e57-a9c5-b3d51621e94e"
      },
      "execution_count": 25,
      "outputs": [
        {
          "output_type": "display_data",
          "data": {
            "text/html": [
              "<table class=\"dataframe\">\n",
              "<caption>A tibble: 6 × 7</caption>\n",
              "<thead>\n",
              "\t<tr><th scope=col>id</th><th scope=col>edad</th><th scope=col>sexo</th><th scope=col>ciudad</th><th scope=col>ingreso_mensual</th><th scope=col>nivel_educativo</th><th scope=col>region</th></tr>\n",
              "\t<tr><th scope=col>&lt;int&gt;</th><th scope=col>&lt;int&gt;</th><th scope=col>&lt;chr&gt;</th><th scope=col>&lt;chr&gt;</th><th scope=col>&lt;dbl&gt;</th><th scope=col>&lt;chr&gt;</th><th scope=col>&lt;chr&gt;</th></tr>\n",
              "</thead>\n",
              "<tbody>\n",
              "\t<tr><td>1</td><td>48</td><td>Hombre</td><td>Monterrey  </td><td>20490</td><td>Universidad </td><td>Desconocida</td></tr>\n",
              "\t<tr><td>2</td><td>32</td><td>Mujer </td><td>CDMX       </td><td>12743</td><td>Posgrado    </td><td>Centro     </td></tr>\n",
              "\t<tr><td>3</td><td>31</td><td>Hombre</td><td>Guadalajara</td><td>18881</td><td>Posgrado    </td><td>Occidente  </td></tr>\n",
              "\t<tr><td>4</td><td>20</td><td>Mujer </td><td>Guadalajara</td><td>14925</td><td>Preparatoria</td><td>Occidente  </td></tr>\n",
              "\t<tr><td>5</td><td>59</td><td>Mujer </td><td>CDMX       </td><td>16449</td><td>Secundaria  </td><td>Centro     </td></tr>\n",
              "\t<tr><td>6</td><td>60</td><td>Mujer </td><td>Puebla     </td><td>23045</td><td>Secundaria  </td><td>Centro     </td></tr>\n",
              "</tbody>\n",
              "</table>\n"
            ],
            "text/markdown": "\nA tibble: 6 × 7\n\n| id &lt;int&gt; | edad &lt;int&gt; | sexo &lt;chr&gt; | ciudad &lt;chr&gt; | ingreso_mensual &lt;dbl&gt; | nivel_educativo &lt;chr&gt; | region &lt;chr&gt; |\n|---|---|---|---|---|---|---|\n| 1 | 48 | Hombre | Monterrey   | 20490 | Universidad  | Desconocida |\n| 2 | 32 | Mujer  | CDMX        | 12743 | Posgrado     | Centro      |\n| 3 | 31 | Hombre | Guadalajara | 18881 | Posgrado     | Occidente   |\n| 4 | 20 | Mujer  | Guadalajara | 14925 | Preparatoria | Occidente   |\n| 5 | 59 | Mujer  | CDMX        | 16449 | Secundaria   | Centro      |\n| 6 | 60 | Mujer  | Puebla      | 23045 | Secundaria   | Centro      |\n\n",
            "text/latex": "A tibble: 6 × 7\n\\begin{tabular}{lllllll}\n id & edad & sexo & ciudad & ingreso\\_mensual & nivel\\_educativo & region\\\\\n <int> & <int> & <chr> & <chr> & <dbl> & <chr> & <chr>\\\\\n\\hline\n\t 1 & 48 & Hombre & Monterrey   & 20490 & Universidad  & Desconocida\\\\\n\t 2 & 32 & Mujer  & CDMX        & 12743 & Posgrado     & Centro     \\\\\n\t 3 & 31 & Hombre & Guadalajara & 18881 & Posgrado     & Occidente  \\\\\n\t 4 & 20 & Mujer  & Guadalajara & 14925 & Preparatoria & Occidente  \\\\\n\t 5 & 59 & Mujer  & CDMX        & 16449 & Secundaria   & Centro     \\\\\n\t 6 & 60 & Mujer  & Puebla      & 23045 & Secundaria   & Centro     \\\\\n\\end{tabular}\n",
            "text/plain": [
              "  id edad sexo   ciudad      ingreso_mensual nivel_educativo region     \n",
              "1 1  48   Hombre Monterrey   20490           Universidad     Desconocida\n",
              "2 2  32   Mujer  CDMX        12743           Posgrado        Centro     \n",
              "3 3  31   Hombre Guadalajara 18881           Posgrado        Occidente  \n",
              "4 4  20   Mujer  Guadalajara 14925           Preparatoria    Occidente  \n",
              "5 5  59   Mujer  CDMX        16449           Secundaria      Centro     \n",
              "6 6  60   Mujer  Puebla      23045           Secundaria      Centro     "
            ]
          },
          "metadata": {}
        }
      ]
    },
    {
      "cell_type": "markdown",
      "source": [
        "**bind_rows() — Apilar tablas (uno debajo del otro)**\n",
        "\n",
        "Útil cuando quieres combinar personas de dos fuentes distintas."
      ],
      "metadata": {
        "id": "Sb-UURz_sa0t"
      }
    },
    {
      "cell_type": "code",
      "source": [
        "datos_nuevos <- tibble(\n",
        "  id = 101:103,\n",
        "  edad = c(22, 35, 50),\n",
        "  sexo = c(\"Mujer\", \"Hombre\", \"Mujer\"),\n",
        "  ciudad = c(\"Toluca\", \"CDMX\", \"Puebla\"),\n",
        "  ingreso_mensual = c(14500, 16000, 13200),\n",
        "  nivel_educativo = c(\"Universidad\", \"Posgrado\", \"Preparatoria\")\n",
        ")\n",
        "\n",
        "# Combinar ambas bases\n",
        "head(bind_rows(datos, datos_nuevos))\n"
      ],
      "metadata": {
        "colab": {
          "base_uri": "https://localhost:8080/",
          "height": 286
        },
        "id": "4M2_a9Fuskl7",
        "outputId": "9cc06889-3b74-489e-d330-42ff74d5e46a"
      },
      "execution_count": 26,
      "outputs": [
        {
          "output_type": "display_data",
          "data": {
            "text/html": [
              "<table class=\"dataframe\">\n",
              "<caption>A tibble: 6 × 6</caption>\n",
              "<thead>\n",
              "\t<tr><th scope=col>id</th><th scope=col>edad</th><th scope=col>sexo</th><th scope=col>ciudad</th><th scope=col>ingreso_mensual</th><th scope=col>nivel_educativo</th></tr>\n",
              "\t<tr><th scope=col>&lt;int&gt;</th><th scope=col>&lt;dbl&gt;</th><th scope=col>&lt;chr&gt;</th><th scope=col>&lt;chr&gt;</th><th scope=col>&lt;dbl&gt;</th><th scope=col>&lt;chr&gt;</th></tr>\n",
              "</thead>\n",
              "<tbody>\n",
              "\t<tr><td>1</td><td>48</td><td>Hombre</td><td>Monterrey  </td><td>20490</td><td>Universidad </td></tr>\n",
              "\t<tr><td>2</td><td>32</td><td>Mujer </td><td>CDMX       </td><td>12743</td><td>Posgrado    </td></tr>\n",
              "\t<tr><td>3</td><td>31</td><td>Hombre</td><td>Guadalajara</td><td>18881</td><td>Posgrado    </td></tr>\n",
              "\t<tr><td>4</td><td>20</td><td>Mujer </td><td>Guadalajara</td><td>14925</td><td>Preparatoria</td></tr>\n",
              "\t<tr><td>5</td><td>59</td><td>Mujer </td><td>CDMX       </td><td>16449</td><td>Secundaria  </td></tr>\n",
              "\t<tr><td>6</td><td>60</td><td>Mujer </td><td>Puebla     </td><td>23045</td><td>Secundaria  </td></tr>\n",
              "</tbody>\n",
              "</table>\n"
            ],
            "text/markdown": "\nA tibble: 6 × 6\n\n| id &lt;int&gt; | edad &lt;dbl&gt; | sexo &lt;chr&gt; | ciudad &lt;chr&gt; | ingreso_mensual &lt;dbl&gt; | nivel_educativo &lt;chr&gt; |\n|---|---|---|---|---|---|\n| 1 | 48 | Hombre | Monterrey   | 20490 | Universidad  |\n| 2 | 32 | Mujer  | CDMX        | 12743 | Posgrado     |\n| 3 | 31 | Hombre | Guadalajara | 18881 | Posgrado     |\n| 4 | 20 | Mujer  | Guadalajara | 14925 | Preparatoria |\n| 5 | 59 | Mujer  | CDMX        | 16449 | Secundaria   |\n| 6 | 60 | Mujer  | Puebla      | 23045 | Secundaria   |\n\n",
            "text/latex": "A tibble: 6 × 6\n\\begin{tabular}{llllll}\n id & edad & sexo & ciudad & ingreso\\_mensual & nivel\\_educativo\\\\\n <int> & <dbl> & <chr> & <chr> & <dbl> & <chr>\\\\\n\\hline\n\t 1 & 48 & Hombre & Monterrey   & 20490 & Universidad \\\\\n\t 2 & 32 & Mujer  & CDMX        & 12743 & Posgrado    \\\\\n\t 3 & 31 & Hombre & Guadalajara & 18881 & Posgrado    \\\\\n\t 4 & 20 & Mujer  & Guadalajara & 14925 & Preparatoria\\\\\n\t 5 & 59 & Mujer  & CDMX        & 16449 & Secundaria  \\\\\n\t 6 & 60 & Mujer  & Puebla      & 23045 & Secundaria  \\\\\n\\end{tabular}\n",
            "text/plain": [
              "  id edad sexo   ciudad      ingreso_mensual nivel_educativo\n",
              "1 1  48   Hombre Monterrey   20490           Universidad    \n",
              "2 2  32   Mujer  CDMX        12743           Posgrado       \n",
              "3 3  31   Hombre Guadalajara 18881           Posgrado       \n",
              "4 4  20   Mujer  Guadalajara 14925           Preparatoria   \n",
              "5 5  59   Mujer  CDMX        16449           Secundaria     \n",
              "6 6  60   Mujer  Puebla      23045           Secundaria     "
            ]
          },
          "metadata": {}
        }
      ]
    }
  ]
}