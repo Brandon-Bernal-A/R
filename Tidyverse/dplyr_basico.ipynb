{
  "nbformat": 4,
  "nbformat_minor": 0,
  "metadata": {
    "colab": {
      "provenance": [],
      "authorship_tag": "ABX9TyNWf1N/Wus+FY9mnJYmFLPh",
      "include_colab_link": true
    },
    "kernelspec": {
      "name": "ir",
      "display_name": "R"
    },
    "language_info": {
      "name": "R"
    }
  },
  "cells": [
    {
      "cell_type": "markdown",
      "metadata": {
        "id": "view-in-github",
        "colab_type": "text"
      },
      "source": [
        "<a href=\"https://colab.research.google.com/github/Brandon-Bernal-Alarcon/Notas--R/blob/main/Tidyverse/dplyr_basico.ipynb\" target=\"_parent\"><img src=\"https://colab.research.google.com/assets/colab-badge.svg\" alt=\"Open In Colab\"/></a>"
      ]
    },
    {
      "cell_type": "markdown",
      "source": [
        "**install.packages**"
      ],
      "metadata": {
        "id": "LEPpy3Qs2u4V"
      }
    },
    {
      "cell_type": "code",
      "execution_count": 1,
      "metadata": {
        "colab": {
          "base_uri": "https://localhost:8080/"
        },
        "id": "G6yeOfjD0QSc",
        "outputId": "04fb7cfe-f230-49be-b3af-cac20cf83634"
      },
      "outputs": [
        {
          "output_type": "stream",
          "name": "stderr",
          "text": [
            "Installing package into ‘/usr/local/lib/R/site-library’\n",
            "(as ‘lib’ is unspecified)\n",
            "\n",
            "Installing package into ‘/usr/local/lib/R/site-library’\n",
            "(as ‘lib’ is unspecified)\n",
            "\n"
          ]
        }
      ],
      "source": [
        "install.packages(\"tidyverse\")\n",
        "install.packages(\"gapminder\") #Es una base de datos para practicar"
      ]
    },
    {
      "cell_type": "markdown",
      "source": [
        "**library()**\n"
      ],
      "metadata": {
        "id": "yZ2iPZvF2_An"
      }
    },
    {
      "cell_type": "code",
      "source": [
        "# Cargar el paquete gapminder\n",
        "library(gapminder)\n",
        "\n",
        "# Cargar el paquete dplyr\n",
        "library(dplyr)"
      ],
      "metadata": {
        "colab": {
          "base_uri": "https://localhost:8080/"
        },
        "id": "XhmbgDHd3EPb",
        "outputId": "e64f88cb-86d6-472d-d644-5e546351832f"
      },
      "execution_count": 2,
      "outputs": [
        {
          "output_type": "stream",
          "name": "stderr",
          "text": [
            "\n",
            "Attaching package: ‘dplyr’\n",
            "\n",
            "\n",
            "The following objects are masked from ‘package:stats’:\n",
            "\n",
            "    filter, lag\n",
            "\n",
            "\n",
            "The following objects are masked from ‘package:base’:\n",
            "\n",
            "    intersect, setdiff, setequal, union\n",
            "\n",
            "\n"
          ]
        }
      ]
    },
    {
      "cell_type": "markdown",
      "source": [
        "**str()** Nos da la estructura del data.frame\n"
      ],
      "metadata": {
        "id": "539uErpm3Kcb"
      }
    },
    {
      "cell_type": "code",
      "source": [
        "str(gapminder)"
      ],
      "metadata": {
        "colab": {
          "base_uri": "https://localhost:8080/"
        },
        "id": "CniQ49wt3Mxx",
        "outputId": "e210a41b-40f5-45e1-e989-cc65e97ddbda"
      },
      "execution_count": 3,
      "outputs": [
        {
          "output_type": "stream",
          "name": "stdout",
          "text": [
            "tibble [1,704 × 6] (S3: tbl_df/tbl/data.frame)\n",
            " $ country  : Factor w/ 142 levels \"Afghanistan\",..: 1 1 1 1 1 1 1 1 1 1 ...\n",
            " $ continent: Factor w/ 5 levels \"Africa\",\"Americas\",..: 3 3 3 3 3 3 3 3 3 3 ...\n",
            " $ year     : int [1:1704] 1952 1957 1962 1967 1972 1977 1982 1987 1992 1997 ...\n",
            " $ lifeExp  : num [1:1704] 28.8 30.3 32 34 36.1 ...\n",
            " $ pop      : int [1:1704] 8425333 9240934 10267083 11537966 13079460 14880372 12881816 13867957 16317921 22227415 ...\n",
            " $ gdpPercap: num [1:1704] 779 821 853 836 740 ...\n"
          ]
        }
      ]
    },
    {
      "cell_type": "markdown",
      "source": [
        "**filter()**\n",
        "\n",
        "El paquete dplyr proporciona herramientas para transformar datos. Puedes usar la función **filter()** para seleccionar filas especficas basadas en condiciones.\n"
      ],
      "metadata": {
        "id": "_0tn9PQ33QBj"
      }
    },
    {
      "cell_type": "code",
      "source": [
        "# Filtrar observaciones del año 2007\n",
        "gapminder_2007 <- filter(gapminder, year == 2007)\n",
        "head(gapminder_2007)"
      ],
      "metadata": {
        "colab": {
          "base_uri": "https://localhost:8080/",
          "height": 286
        },
        "id": "iSWUqSu93SIc",
        "outputId": "3d139035-96e5-40f0-f445-1e4455d2857c"
      },
      "execution_count": 8,
      "outputs": [
        {
          "output_type": "display_data",
          "data": {
            "text/html": [
              "<table class=\"dataframe\">\n",
              "<caption>A tibble: 6 × 6</caption>\n",
              "<thead>\n",
              "\t<tr><th scope=col>country</th><th scope=col>continent</th><th scope=col>year</th><th scope=col>lifeExp</th><th scope=col>pop</th><th scope=col>gdpPercap</th></tr>\n",
              "\t<tr><th scope=col>&lt;fct&gt;</th><th scope=col>&lt;fct&gt;</th><th scope=col>&lt;int&gt;</th><th scope=col>&lt;dbl&gt;</th><th scope=col>&lt;int&gt;</th><th scope=col>&lt;dbl&gt;</th></tr>\n",
              "</thead>\n",
              "<tbody>\n",
              "\t<tr><td>Afghanistan</td><td>Asia    </td><td>2007</td><td>43.828</td><td>31889923</td><td>  974.5803</td></tr>\n",
              "\t<tr><td>Albania    </td><td>Europe  </td><td>2007</td><td>76.423</td><td> 3600523</td><td> 5937.0295</td></tr>\n",
              "\t<tr><td>Algeria    </td><td>Africa  </td><td>2007</td><td>72.301</td><td>33333216</td><td> 6223.3675</td></tr>\n",
              "\t<tr><td>Angola     </td><td>Africa  </td><td>2007</td><td>42.731</td><td>12420476</td><td> 4797.2313</td></tr>\n",
              "\t<tr><td>Argentina  </td><td>Americas</td><td>2007</td><td>75.320</td><td>40301927</td><td>12779.3796</td></tr>\n",
              "\t<tr><td>Australia  </td><td>Oceania </td><td>2007</td><td>81.235</td><td>20434176</td><td>34435.3674</td></tr>\n",
              "</tbody>\n",
              "</table>\n"
            ],
            "text/markdown": "\nA tibble: 6 × 6\n\n| country &lt;fct&gt; | continent &lt;fct&gt; | year &lt;int&gt; | lifeExp &lt;dbl&gt; | pop &lt;int&gt; | gdpPercap &lt;dbl&gt; |\n|---|---|---|---|---|---|\n| Afghanistan | Asia     | 2007 | 43.828 | 31889923 |   974.5803 |\n| Albania     | Europe   | 2007 | 76.423 |  3600523 |  5937.0295 |\n| Algeria     | Africa   | 2007 | 72.301 | 33333216 |  6223.3675 |\n| Angola      | Africa   | 2007 | 42.731 | 12420476 |  4797.2313 |\n| Argentina   | Americas | 2007 | 75.320 | 40301927 | 12779.3796 |\n| Australia   | Oceania  | 2007 | 81.235 | 20434176 | 34435.3674 |\n\n",
            "text/latex": "A tibble: 6 × 6\n\\begin{tabular}{llllll}\n country & continent & year & lifeExp & pop & gdpPercap\\\\\n <fct> & <fct> & <int> & <dbl> & <int> & <dbl>\\\\\n\\hline\n\t Afghanistan & Asia     & 2007 & 43.828 & 31889923 &   974.5803\\\\\n\t Albania     & Europe   & 2007 & 76.423 &  3600523 &  5937.0295\\\\\n\t Algeria     & Africa   & 2007 & 72.301 & 33333216 &  6223.3675\\\\\n\t Angola      & Africa   & 2007 & 42.731 & 12420476 &  4797.2313\\\\\n\t Argentina   & Americas & 2007 & 75.320 & 40301927 & 12779.3796\\\\\n\t Australia   & Oceania  & 2007 & 81.235 & 20434176 & 34435.3674\\\\\n\\end{tabular}\n",
            "text/plain": [
              "  country     continent year lifeExp pop      gdpPercap \n",
              "1 Afghanistan Asia      2007 43.828  31889923   974.5803\n",
              "2 Albania     Europe    2007 76.423   3600523  5937.0295\n",
              "3 Algeria     Africa    2007 72.301  33333216  6223.3675\n",
              "4 Angola      Africa    2007 42.731  12420476  4797.2313\n",
              "5 Argentina   Americas  2007 75.320  40301927 12779.3796\n",
              "6 Australia   Oceania   2007 81.235  20434176 34435.3674"
            ]
          },
          "metadata": {}
        }
      ]
    },
    {
      "cell_type": "markdown",
      "source": [
        "**Pipe %>%**\n",
        "\n",
        "También se puede crear por \"pipe\" o tuberías, que nos ayuda a seleccionar la información de forma más fácil, se ocupa como 'base de datos' %>% y ya luego lo ocupamos\n"
      ],
      "metadata": {
        "id": "tgHTFyhB3Uv0"
      }
    },
    {
      "cell_type": "code",
      "source": [
        "# Filtrar el conjunto de datos gapminder para el año 1957\n",
        "a <- gapminder %>%\n",
        "  filter(year == 1957)\n",
        "head(a)"
      ],
      "metadata": {
        "colab": {
          "base_uri": "https://localhost:8080/",
          "height": 286
        },
        "id": "4ayg8BzT3XSF",
        "outputId": "c0363813-d071-4e6c-8030-3ab5b0b47c88"
      },
      "execution_count": 7,
      "outputs": [
        {
          "output_type": "display_data",
          "data": {
            "text/html": [
              "<table class=\"dataframe\">\n",
              "<caption>A tibble: 6 × 6</caption>\n",
              "<thead>\n",
              "\t<tr><th scope=col>country</th><th scope=col>continent</th><th scope=col>year</th><th scope=col>lifeExp</th><th scope=col>pop</th><th scope=col>gdpPercap</th></tr>\n",
              "\t<tr><th scope=col>&lt;fct&gt;</th><th scope=col>&lt;fct&gt;</th><th scope=col>&lt;int&gt;</th><th scope=col>&lt;dbl&gt;</th><th scope=col>&lt;int&gt;</th><th scope=col>&lt;dbl&gt;</th></tr>\n",
              "</thead>\n",
              "<tbody>\n",
              "\t<tr><td>Afghanistan</td><td>Asia    </td><td>1957</td><td>30.332</td><td> 9240934</td><td>  820.853</td></tr>\n",
              "\t<tr><td>Albania    </td><td>Europe  </td><td>1957</td><td>59.280</td><td> 1476505</td><td> 1942.284</td></tr>\n",
              "\t<tr><td>Algeria    </td><td>Africa  </td><td>1957</td><td>45.685</td><td>10270856</td><td> 3013.976</td></tr>\n",
              "\t<tr><td>Angola     </td><td>Africa  </td><td>1957</td><td>31.999</td><td> 4561361</td><td> 3827.940</td></tr>\n",
              "\t<tr><td>Argentina  </td><td>Americas</td><td>1957</td><td>64.399</td><td>19610538</td><td> 6856.856</td></tr>\n",
              "\t<tr><td>Australia  </td><td>Oceania </td><td>1957</td><td>70.330</td><td> 9712569</td><td>10949.650</td></tr>\n",
              "</tbody>\n",
              "</table>\n"
            ],
            "text/markdown": "\nA tibble: 6 × 6\n\n| country &lt;fct&gt; | continent &lt;fct&gt; | year &lt;int&gt; | lifeExp &lt;dbl&gt; | pop &lt;int&gt; | gdpPercap &lt;dbl&gt; |\n|---|---|---|---|---|---|\n| Afghanistan | Asia     | 1957 | 30.332 |  9240934 |   820.853 |\n| Albania     | Europe   | 1957 | 59.280 |  1476505 |  1942.284 |\n| Algeria     | Africa   | 1957 | 45.685 | 10270856 |  3013.976 |\n| Angola      | Africa   | 1957 | 31.999 |  4561361 |  3827.940 |\n| Argentina   | Americas | 1957 | 64.399 | 19610538 |  6856.856 |\n| Australia   | Oceania  | 1957 | 70.330 |  9712569 | 10949.650 |\n\n",
            "text/latex": "A tibble: 6 × 6\n\\begin{tabular}{llllll}\n country & continent & year & lifeExp & pop & gdpPercap\\\\\n <fct> & <fct> & <int> & <dbl> & <int> & <dbl>\\\\\n\\hline\n\t Afghanistan & Asia     & 1957 & 30.332 &  9240934 &   820.853\\\\\n\t Albania     & Europe   & 1957 & 59.280 &  1476505 &  1942.284\\\\\n\t Algeria     & Africa   & 1957 & 45.685 & 10270856 &  3013.976\\\\\n\t Angola      & Africa   & 1957 & 31.999 &  4561361 &  3827.940\\\\\n\t Argentina   & Americas & 1957 & 64.399 & 19610538 &  6856.856\\\\\n\t Australia   & Oceania  & 1957 & 70.330 &  9712569 & 10949.650\\\\\n\\end{tabular}\n",
            "text/plain": [
              "  country     continent year lifeExp pop      gdpPercap\n",
              "1 Afghanistan Asia      1957 30.332   9240934   820.853\n",
              "2 Albania     Europe    1957 59.280   1476505  1942.284\n",
              "3 Algeria     Africa    1957 45.685  10270856  3013.976\n",
              "4 Angola      Africa    1957 31.999   4561361  3827.940\n",
              "5 Argentina   Americas  1957 64.399  19610538  6856.856\n",
              "6 Australia   Oceania   1957 70.330   9712569 10949.650"
            ]
          },
          "metadata": {}
        }
      ]
    },
    {
      "cell_type": "code",
      "source": [
        "# Podemos filtrar por varios filtros y mayor o menor\n",
        "# Filtrar para China en 2002\n",
        "gapminder %>%\n",
        "  filter(country == \"China\", year < 2002)"
      ],
      "metadata": {
        "colab": {
          "base_uri": "https://localhost:8080/",
          "height": 412
        },
        "id": "mrvFehL43ZfY",
        "outputId": "2c695831-a459-4e42-bcd6-f95d5bb41e6b"
      },
      "execution_count": 10,
      "outputs": [
        {
          "output_type": "display_data",
          "data": {
            "text/html": [
              "<table class=\"dataframe\">\n",
              "<caption>A tibble: 10 × 6</caption>\n",
              "<thead>\n",
              "\t<tr><th scope=col>country</th><th scope=col>continent</th><th scope=col>year</th><th scope=col>lifeExp</th><th scope=col>pop</th><th scope=col>gdpPercap</th></tr>\n",
              "\t<tr><th scope=col>&lt;fct&gt;</th><th scope=col>&lt;fct&gt;</th><th scope=col>&lt;int&gt;</th><th scope=col>&lt;dbl&gt;</th><th scope=col>&lt;int&gt;</th><th scope=col>&lt;dbl&gt;</th></tr>\n",
              "</thead>\n",
              "<tbody>\n",
              "\t<tr><td>China</td><td>Asia</td><td>1952</td><td>44.00000</td><td> 556263527</td><td> 400.4486</td></tr>\n",
              "\t<tr><td>China</td><td>Asia</td><td>1957</td><td>50.54896</td><td> 637408000</td><td> 575.9870</td></tr>\n",
              "\t<tr><td>China</td><td>Asia</td><td>1962</td><td>44.50136</td><td> 665770000</td><td> 487.6740</td></tr>\n",
              "\t<tr><td>China</td><td>Asia</td><td>1967</td><td>58.38112</td><td> 754550000</td><td> 612.7057</td></tr>\n",
              "\t<tr><td>China</td><td>Asia</td><td>1972</td><td>63.11888</td><td> 862030000</td><td> 676.9001</td></tr>\n",
              "\t<tr><td>China</td><td>Asia</td><td>1977</td><td>63.96736</td><td> 943455000</td><td> 741.2375</td></tr>\n",
              "\t<tr><td>China</td><td>Asia</td><td>1982</td><td>65.52500</td><td>1000281000</td><td> 962.4214</td></tr>\n",
              "\t<tr><td>China</td><td>Asia</td><td>1987</td><td>67.27400</td><td>1084035000</td><td>1378.9040</td></tr>\n",
              "\t<tr><td>China</td><td>Asia</td><td>1992</td><td>68.69000</td><td>1164970000</td><td>1655.7842</td></tr>\n",
              "\t<tr><td>China</td><td>Asia</td><td>1997</td><td>70.42600</td><td>1230075000</td><td>2289.2341</td></tr>\n",
              "</tbody>\n",
              "</table>\n"
            ],
            "text/markdown": "\nA tibble: 10 × 6\n\n| country &lt;fct&gt; | continent &lt;fct&gt; | year &lt;int&gt; | lifeExp &lt;dbl&gt; | pop &lt;int&gt; | gdpPercap &lt;dbl&gt; |\n|---|---|---|---|---|---|\n| China | Asia | 1952 | 44.00000 |  556263527 |  400.4486 |\n| China | Asia | 1957 | 50.54896 |  637408000 |  575.9870 |\n| China | Asia | 1962 | 44.50136 |  665770000 |  487.6740 |\n| China | Asia | 1967 | 58.38112 |  754550000 |  612.7057 |\n| China | Asia | 1972 | 63.11888 |  862030000 |  676.9001 |\n| China | Asia | 1977 | 63.96736 |  943455000 |  741.2375 |\n| China | Asia | 1982 | 65.52500 | 1000281000 |  962.4214 |\n| China | Asia | 1987 | 67.27400 | 1084035000 | 1378.9040 |\n| China | Asia | 1992 | 68.69000 | 1164970000 | 1655.7842 |\n| China | Asia | 1997 | 70.42600 | 1230075000 | 2289.2341 |\n\n",
            "text/latex": "A tibble: 10 × 6\n\\begin{tabular}{llllll}\n country & continent & year & lifeExp & pop & gdpPercap\\\\\n <fct> & <fct> & <int> & <dbl> & <int> & <dbl>\\\\\n\\hline\n\t China & Asia & 1952 & 44.00000 &  556263527 &  400.4486\\\\\n\t China & Asia & 1957 & 50.54896 &  637408000 &  575.9870\\\\\n\t China & Asia & 1962 & 44.50136 &  665770000 &  487.6740\\\\\n\t China & Asia & 1967 & 58.38112 &  754550000 &  612.7057\\\\\n\t China & Asia & 1972 & 63.11888 &  862030000 &  676.9001\\\\\n\t China & Asia & 1977 & 63.96736 &  943455000 &  741.2375\\\\\n\t China & Asia & 1982 & 65.52500 & 1000281000 &  962.4214\\\\\n\t China & Asia & 1987 & 67.27400 & 1084035000 & 1378.9040\\\\\n\t China & Asia & 1992 & 68.69000 & 1164970000 & 1655.7842\\\\\n\t China & Asia & 1997 & 70.42600 & 1230075000 & 2289.2341\\\\\n\\end{tabular}\n",
            "text/plain": [
              "   country continent year lifeExp  pop        gdpPercap\n",
              "1  China   Asia      1952 44.00000  556263527  400.4486\n",
              "2  China   Asia      1957 50.54896  637408000  575.9870\n",
              "3  China   Asia      1962 44.50136  665770000  487.6740\n",
              "4  China   Asia      1967 58.38112  754550000  612.7057\n",
              "5  China   Asia      1972 63.11888  862030000  676.9001\n",
              "6  China   Asia      1977 63.96736  943455000  741.2375\n",
              "7  China   Asia      1982 65.52500 1000281000  962.4214\n",
              "8  China   Asia      1987 67.27400 1084035000 1378.9040\n",
              "9  China   Asia      1992 68.69000 1164970000 1655.7842\n",
              "10 China   Asia      1997 70.42600 1230075000 2289.2341"
            ]
          },
          "metadata": {}
        }
      ]
    },
    {
      "cell_type": "markdown",
      "source": [
        "**arrange()**\n",
        "\n",
        "La función arrange() en dplyr te permite ordenar observaciones en orden ascendente o descendente basado en una variable especificada.\n"
      ],
      "metadata": {
        "id": "54QR-Sgj3jzs"
      }
    },
    {
      "cell_type": "code",
      "source": [
        "# Ordenar en orden ascendente de lifeExp\n",
        "a <- gapminder %>%\n",
        "  arrange(lifeExp)\n",
        "head(a)"
      ],
      "metadata": {
        "colab": {
          "base_uri": "https://localhost:8080/",
          "height": 286
        },
        "id": "ZDsSvDiA3jXz",
        "outputId": "2d989a51-902b-453d-da5e-85b58f2090b7"
      },
      "execution_count": 12,
      "outputs": [
        {
          "output_type": "display_data",
          "data": {
            "text/html": [
              "<table class=\"dataframe\">\n",
              "<caption>A tibble: 6 × 6</caption>\n",
              "<thead>\n",
              "\t<tr><th scope=col>country</th><th scope=col>continent</th><th scope=col>year</th><th scope=col>lifeExp</th><th scope=col>pop</th><th scope=col>gdpPercap</th></tr>\n",
              "\t<tr><th scope=col>&lt;fct&gt;</th><th scope=col>&lt;fct&gt;</th><th scope=col>&lt;int&gt;</th><th scope=col>&lt;dbl&gt;</th><th scope=col>&lt;int&gt;</th><th scope=col>&lt;dbl&gt;</th></tr>\n",
              "</thead>\n",
              "<tbody>\n",
              "\t<tr><td>Rwanda      </td><td>Africa</td><td>1992</td><td>23.599</td><td>7290203</td><td> 737.0686</td></tr>\n",
              "\t<tr><td>Afghanistan </td><td>Asia  </td><td>1952</td><td>28.801</td><td>8425333</td><td> 779.4453</td></tr>\n",
              "\t<tr><td>Gambia      </td><td>Africa</td><td>1952</td><td>30.000</td><td> 284320</td><td> 485.2307</td></tr>\n",
              "\t<tr><td>Angola      </td><td>Africa</td><td>1952</td><td>30.015</td><td>4232095</td><td>3520.6103</td></tr>\n",
              "\t<tr><td>Sierra Leone</td><td>Africa</td><td>1952</td><td>30.331</td><td>2143249</td><td> 879.7877</td></tr>\n",
              "\t<tr><td>Afghanistan </td><td>Asia  </td><td>1957</td><td>30.332</td><td>9240934</td><td> 820.8530</td></tr>\n",
              "</tbody>\n",
              "</table>\n"
            ],
            "text/markdown": "\nA tibble: 6 × 6\n\n| country &lt;fct&gt; | continent &lt;fct&gt; | year &lt;int&gt; | lifeExp &lt;dbl&gt; | pop &lt;int&gt; | gdpPercap &lt;dbl&gt; |\n|---|---|---|---|---|---|\n| Rwanda       | Africa | 1992 | 23.599 | 7290203 |  737.0686 |\n| Afghanistan  | Asia   | 1952 | 28.801 | 8425333 |  779.4453 |\n| Gambia       | Africa | 1952 | 30.000 |  284320 |  485.2307 |\n| Angola       | Africa | 1952 | 30.015 | 4232095 | 3520.6103 |\n| Sierra Leone | Africa | 1952 | 30.331 | 2143249 |  879.7877 |\n| Afghanistan  | Asia   | 1957 | 30.332 | 9240934 |  820.8530 |\n\n",
            "text/latex": "A tibble: 6 × 6\n\\begin{tabular}{llllll}\n country & continent & year & lifeExp & pop & gdpPercap\\\\\n <fct> & <fct> & <int> & <dbl> & <int> & <dbl>\\\\\n\\hline\n\t Rwanda       & Africa & 1992 & 23.599 & 7290203 &  737.0686\\\\\n\t Afghanistan  & Asia   & 1952 & 28.801 & 8425333 &  779.4453\\\\\n\t Gambia       & Africa & 1952 & 30.000 &  284320 &  485.2307\\\\\n\t Angola       & Africa & 1952 & 30.015 & 4232095 & 3520.6103\\\\\n\t Sierra Leone & Africa & 1952 & 30.331 & 2143249 &  879.7877\\\\\n\t Afghanistan  & Asia   & 1957 & 30.332 & 9240934 &  820.8530\\\\\n\\end{tabular}\n",
            "text/plain": [
              "  country      continent year lifeExp pop     gdpPercap\n",
              "1 Rwanda       Africa    1992 23.599  7290203  737.0686\n",
              "2 Afghanistan  Asia      1952 28.801  8425333  779.4453\n",
              "3 Gambia       Africa    1952 30.000   284320  485.2307\n",
              "4 Angola       Africa    1952 30.015  4232095 3520.6103\n",
              "5 Sierra Leone Africa    1952 30.331  2143249  879.7877\n",
              "6 Afghanistan  Asia      1957 30.332  9240934  820.8530"
            ]
          },
          "metadata": {}
        }
      ]
    },
    {
      "cell_type": "code",
      "source": [
        "# Ordenar en orden descendente de lifeExp\n",
        "a <- gapminder %>%\n",
        "  arrange(desc(lifeExp))\n",
        "head(a)"
      ],
      "metadata": {
        "colab": {
          "base_uri": "https://localhost:8080/",
          "height": 286
        },
        "id": "IPuQ-ekd3ri6",
        "outputId": "7aa6c5a7-2d58-486a-f144-1a3d58e0b34e"
      },
      "execution_count": 13,
      "outputs": [
        {
          "output_type": "display_data",
          "data": {
            "text/html": [
              "<table class=\"dataframe\">\n",
              "<caption>A tibble: 6 × 6</caption>\n",
              "<thead>\n",
              "\t<tr><th scope=col>country</th><th scope=col>continent</th><th scope=col>year</th><th scope=col>lifeExp</th><th scope=col>pop</th><th scope=col>gdpPercap</th></tr>\n",
              "\t<tr><th scope=col>&lt;fct&gt;</th><th scope=col>&lt;fct&gt;</th><th scope=col>&lt;int&gt;</th><th scope=col>&lt;dbl&gt;</th><th scope=col>&lt;int&gt;</th><th scope=col>&lt;dbl&gt;</th></tr>\n",
              "</thead>\n",
              "<tbody>\n",
              "\t<tr><td>Japan           </td><td>Asia  </td><td>2007</td><td>82.603</td><td>127467972</td><td>31656.07</td></tr>\n",
              "\t<tr><td>Hong Kong, China</td><td>Asia  </td><td>2007</td><td>82.208</td><td>  6980412</td><td>39724.98</td></tr>\n",
              "\t<tr><td>Japan           </td><td>Asia  </td><td>2002</td><td>82.000</td><td>127065841</td><td>28604.59</td></tr>\n",
              "\t<tr><td>Iceland         </td><td>Europe</td><td>2007</td><td>81.757</td><td>   301931</td><td>36180.79</td></tr>\n",
              "\t<tr><td>Switzerland     </td><td>Europe</td><td>2007</td><td>81.701</td><td>  7554661</td><td>37506.42</td></tr>\n",
              "\t<tr><td>Hong Kong, China</td><td>Asia  </td><td>2002</td><td>81.495</td><td>  6762476</td><td>30209.02</td></tr>\n",
              "</tbody>\n",
              "</table>\n"
            ],
            "text/markdown": "\nA tibble: 6 × 6\n\n| country &lt;fct&gt; | continent &lt;fct&gt; | year &lt;int&gt; | lifeExp &lt;dbl&gt; | pop &lt;int&gt; | gdpPercap &lt;dbl&gt; |\n|---|---|---|---|---|---|\n| Japan            | Asia   | 2007 | 82.603 | 127467972 | 31656.07 |\n| Hong Kong, China | Asia   | 2007 | 82.208 |   6980412 | 39724.98 |\n| Japan            | Asia   | 2002 | 82.000 | 127065841 | 28604.59 |\n| Iceland          | Europe | 2007 | 81.757 |    301931 | 36180.79 |\n| Switzerland      | Europe | 2007 | 81.701 |   7554661 | 37506.42 |\n| Hong Kong, China | Asia   | 2002 | 81.495 |   6762476 | 30209.02 |\n\n",
            "text/latex": "A tibble: 6 × 6\n\\begin{tabular}{llllll}\n country & continent & year & lifeExp & pop & gdpPercap\\\\\n <fct> & <fct> & <int> & <dbl> & <int> & <dbl>\\\\\n\\hline\n\t Japan            & Asia   & 2007 & 82.603 & 127467972 & 31656.07\\\\\n\t Hong Kong, China & Asia   & 2007 & 82.208 &   6980412 & 39724.98\\\\\n\t Japan            & Asia   & 2002 & 82.000 & 127065841 & 28604.59\\\\\n\t Iceland          & Europe & 2007 & 81.757 &    301931 & 36180.79\\\\\n\t Switzerland      & Europe & 2007 & 81.701 &   7554661 & 37506.42\\\\\n\t Hong Kong, China & Asia   & 2002 & 81.495 &   6762476 & 30209.02\\\\\n\\end{tabular}\n",
            "text/plain": [
              "  country          continent year lifeExp pop       gdpPercap\n",
              "1 Japan            Asia      2007 82.603  127467972 31656.07 \n",
              "2 Hong Kong, China Asia      2007 82.208    6980412 39724.98 \n",
              "3 Japan            Asia      2002 82.000  127065841 28604.59 \n",
              "4 Iceland          Europe    2007 81.757     301931 36180.79 \n",
              "5 Switzerland      Europe    2007 81.701    7554661 37506.42 \n",
              "6 Hong Kong, China Asia      2002 81.495    6762476 30209.02 "
            ]
          },
          "metadata": {}
        }
      ]
    },
    {
      "cell_type": "code",
      "source": [
        "#puedes combinar tanto filtro como ordenar, usando otro %>%\n",
        "\n",
        "# Filtrar para el año 1957, luego ordenar en orden descendente de población\n",
        "a <- gapminder %>%\n",
        "  filter(year == 1957) %>%\n",
        "  arrange(desc(pop))\n",
        "head(a)"
      ],
      "metadata": {
        "colab": {
          "base_uri": "https://localhost:8080/",
          "height": 286
        },
        "id": "14TgnkWF3yGO",
        "outputId": "0d872879-f897-4c8a-fd92-fd9504da6684"
      },
      "execution_count": 15,
      "outputs": [
        {
          "output_type": "display_data",
          "data": {
            "text/html": [
              "<table class=\"dataframe\">\n",
              "<caption>A tibble: 6 × 6</caption>\n",
              "<thead>\n",
              "\t<tr><th scope=col>country</th><th scope=col>continent</th><th scope=col>year</th><th scope=col>lifeExp</th><th scope=col>pop</th><th scope=col>gdpPercap</th></tr>\n",
              "\t<tr><th scope=col>&lt;fct&gt;</th><th scope=col>&lt;fct&gt;</th><th scope=col>&lt;int&gt;</th><th scope=col>&lt;dbl&gt;</th><th scope=col>&lt;int&gt;</th><th scope=col>&lt;dbl&gt;</th></tr>\n",
              "</thead>\n",
              "<tbody>\n",
              "\t<tr><td>China        </td><td>Asia    </td><td>1957</td><td>50.54896</td><td>637408000</td><td>  575.9870</td></tr>\n",
              "\t<tr><td>India        </td><td>Asia    </td><td>1957</td><td>40.24900</td><td>409000000</td><td>  590.0620</td></tr>\n",
              "\t<tr><td>United States</td><td>Americas</td><td>1957</td><td>69.49000</td><td>171984000</td><td>14847.1271</td></tr>\n",
              "\t<tr><td>Japan        </td><td>Asia    </td><td>1957</td><td>65.50000</td><td> 91563009</td><td> 4317.6944</td></tr>\n",
              "\t<tr><td>Indonesia    </td><td>Asia    </td><td>1957</td><td>39.91800</td><td> 90124000</td><td>  858.9003</td></tr>\n",
              "\t<tr><td>Germany      </td><td>Europe  </td><td>1957</td><td>69.10000</td><td> 71019069</td><td>10187.8267</td></tr>\n",
              "</tbody>\n",
              "</table>\n"
            ],
            "text/markdown": "\nA tibble: 6 × 6\n\n| country &lt;fct&gt; | continent &lt;fct&gt; | year &lt;int&gt; | lifeExp &lt;dbl&gt; | pop &lt;int&gt; | gdpPercap &lt;dbl&gt; |\n|---|---|---|---|---|---|\n| China         | Asia     | 1957 | 50.54896 | 637408000 |   575.9870 |\n| India         | Asia     | 1957 | 40.24900 | 409000000 |   590.0620 |\n| United States | Americas | 1957 | 69.49000 | 171984000 | 14847.1271 |\n| Japan         | Asia     | 1957 | 65.50000 |  91563009 |  4317.6944 |\n| Indonesia     | Asia     | 1957 | 39.91800 |  90124000 |   858.9003 |\n| Germany       | Europe   | 1957 | 69.10000 |  71019069 | 10187.8267 |\n\n",
            "text/latex": "A tibble: 6 × 6\n\\begin{tabular}{llllll}\n country & continent & year & lifeExp & pop & gdpPercap\\\\\n <fct> & <fct> & <int> & <dbl> & <int> & <dbl>\\\\\n\\hline\n\t China         & Asia     & 1957 & 50.54896 & 637408000 &   575.9870\\\\\n\t India         & Asia     & 1957 & 40.24900 & 409000000 &   590.0620\\\\\n\t United States & Americas & 1957 & 69.49000 & 171984000 & 14847.1271\\\\\n\t Japan         & Asia     & 1957 & 65.50000 &  91563009 &  4317.6944\\\\\n\t Indonesia     & Asia     & 1957 & 39.91800 &  90124000 &   858.9003\\\\\n\t Germany       & Europe   & 1957 & 69.10000 &  71019069 & 10187.8267\\\\\n\\end{tabular}\n",
            "text/plain": [
              "  country       continent year lifeExp  pop       gdpPercap \n",
              "1 China         Asia      1957 50.54896 637408000   575.9870\n",
              "2 India         Asia      1957 40.24900 409000000   590.0620\n",
              "3 United States Americas  1957 69.49000 171984000 14847.1271\n",
              "4 Japan         Asia      1957 65.50000  91563009  4317.6944\n",
              "5 Indonesia     Asia      1957 39.91800  90124000   858.9003\n",
              "6 Germany       Europe    1957 69.10000  71019069 10187.8267"
            ]
          },
          "metadata": {}
        }
      ]
    },
    {
      "cell_type": "code",
      "source": [
        "#Puedes arreglar considerando varios caracteres, se ordena conforme van los argmentos\n",
        "\n",
        "# Ordenar por continente, luego por lifeExp dentro de cada continente\n",
        "a <- gapminder %>%\n",
        "  arrange(continent, lifeExp)\n",
        "head(a)"
      ],
      "metadata": {
        "colab": {
          "base_uri": "https://localhost:8080/",
          "height": 286
        },
        "id": "-7L3RdH533a-",
        "outputId": "39202d08-1ec9-47c5-a425-ea0e9faa769d"
      },
      "execution_count": 17,
      "outputs": [
        {
          "output_type": "display_data",
          "data": {
            "text/html": [
              "<table class=\"dataframe\">\n",
              "<caption>A tibble: 6 × 6</caption>\n",
              "<thead>\n",
              "\t<tr><th scope=col>country</th><th scope=col>continent</th><th scope=col>year</th><th scope=col>lifeExp</th><th scope=col>pop</th><th scope=col>gdpPercap</th></tr>\n",
              "\t<tr><th scope=col>&lt;fct&gt;</th><th scope=col>&lt;fct&gt;</th><th scope=col>&lt;int&gt;</th><th scope=col>&lt;dbl&gt;</th><th scope=col>&lt;int&gt;</th><th scope=col>&lt;dbl&gt;</th></tr>\n",
              "</thead>\n",
              "<tbody>\n",
              "\t<tr><td>Rwanda      </td><td>Africa</td><td>1992</td><td>23.599</td><td>7290203</td><td> 737.0686</td></tr>\n",
              "\t<tr><td>Gambia      </td><td>Africa</td><td>1952</td><td>30.000</td><td> 284320</td><td> 485.2307</td></tr>\n",
              "\t<tr><td>Angola      </td><td>Africa</td><td>1952</td><td>30.015</td><td>4232095</td><td>3520.6103</td></tr>\n",
              "\t<tr><td>Sierra Leone</td><td>Africa</td><td>1952</td><td>30.331</td><td>2143249</td><td> 879.7877</td></tr>\n",
              "\t<tr><td>Mozambique  </td><td>Africa</td><td>1952</td><td>31.286</td><td>6446316</td><td> 468.5260</td></tr>\n",
              "\t<tr><td>Sierra Leone</td><td>Africa</td><td>1957</td><td>31.570</td><td>2295678</td><td>1004.4844</td></tr>\n",
              "</tbody>\n",
              "</table>\n"
            ],
            "text/markdown": "\nA tibble: 6 × 6\n\n| country &lt;fct&gt; | continent &lt;fct&gt; | year &lt;int&gt; | lifeExp &lt;dbl&gt; | pop &lt;int&gt; | gdpPercap &lt;dbl&gt; |\n|---|---|---|---|---|---|\n| Rwanda       | Africa | 1992 | 23.599 | 7290203 |  737.0686 |\n| Gambia       | Africa | 1952 | 30.000 |  284320 |  485.2307 |\n| Angola       | Africa | 1952 | 30.015 | 4232095 | 3520.6103 |\n| Sierra Leone | Africa | 1952 | 30.331 | 2143249 |  879.7877 |\n| Mozambique   | Africa | 1952 | 31.286 | 6446316 |  468.5260 |\n| Sierra Leone | Africa | 1957 | 31.570 | 2295678 | 1004.4844 |\n\n",
            "text/latex": "A tibble: 6 × 6\n\\begin{tabular}{llllll}\n country & continent & year & lifeExp & pop & gdpPercap\\\\\n <fct> & <fct> & <int> & <dbl> & <int> & <dbl>\\\\\n\\hline\n\t Rwanda       & Africa & 1992 & 23.599 & 7290203 &  737.0686\\\\\n\t Gambia       & Africa & 1952 & 30.000 &  284320 &  485.2307\\\\\n\t Angola       & Africa & 1952 & 30.015 & 4232095 & 3520.6103\\\\\n\t Sierra Leone & Africa & 1952 & 30.331 & 2143249 &  879.7877\\\\\n\t Mozambique   & Africa & 1952 & 31.286 & 6446316 &  468.5260\\\\\n\t Sierra Leone & Africa & 1957 & 31.570 & 2295678 & 1004.4844\\\\\n\\end{tabular}\n",
            "text/plain": [
              "  country      continent year lifeExp pop     gdpPercap\n",
              "1 Rwanda       Africa    1992 23.599  7290203  737.0686\n",
              "2 Gambia       Africa    1952 30.000   284320  485.2307\n",
              "3 Angola       Africa    1952 30.015  4232095 3520.6103\n",
              "4 Sierra Leone Africa    1952 30.331  2143249  879.7877\n",
              "5 Mozambique   Africa    1952 31.286  6446316  468.5260\n",
              "6 Sierra Leone Africa    1957 31.570  2295678 1004.4844"
            ]
          },
          "metadata": {}
        }
      ]
    },
    {
      "cell_type": "markdown",
      "source": [
        "**mutate()**\n",
        "\n",
        "Nos ayuda a cambiar valores de una columna o agregar más\n"
      ],
      "metadata": {
        "id": "BWYvKUMR38kR"
      }
    },
    {
      "cell_type": "code",
      "source": [
        "# Use mutate to change lifeExp to be in months\n",
        "a <- gapminder %>%\n",
        "mutate(lifeExp = 12 * lifeExp)\n",
        "\n",
        "# Use mutate to create a new column called lifeExpMonths\n",
        "b <- gapminder %>%\n",
        "mutate(lifeExpMonths = 12 * lifeExp)\n"
      ],
      "metadata": {
        "id": "Cfm2R0Ri4ANd"
      },
      "execution_count": 19,
      "outputs": []
    },
    {
      "cell_type": "code",
      "source": [
        "head(a)"
      ],
      "metadata": {
        "colab": {
          "base_uri": "https://localhost:8080/",
          "height": 286
        },
        "id": "1BpGzY854Fr9",
        "outputId": "229fed1d-a866-42a2-dbb1-6eb7592f29ef"
      },
      "execution_count": 22,
      "outputs": [
        {
          "output_type": "display_data",
          "data": {
            "text/html": [
              "<table class=\"dataframe\">\n",
              "<caption>A tibble: 6 × 6</caption>\n",
              "<thead>\n",
              "\t<tr><th scope=col>country</th><th scope=col>continent</th><th scope=col>year</th><th scope=col>lifeExp</th><th scope=col>pop</th><th scope=col>gdpPercap</th></tr>\n",
              "\t<tr><th scope=col>&lt;fct&gt;</th><th scope=col>&lt;fct&gt;</th><th scope=col>&lt;int&gt;</th><th scope=col>&lt;dbl&gt;</th><th scope=col>&lt;int&gt;</th><th scope=col>&lt;dbl&gt;</th></tr>\n",
              "</thead>\n",
              "<tbody>\n",
              "\t<tr><td>Afghanistan</td><td>Asia</td><td>1952</td><td>345.612</td><td> 8425333</td><td>779.4453</td></tr>\n",
              "\t<tr><td>Afghanistan</td><td>Asia</td><td>1957</td><td>363.984</td><td> 9240934</td><td>820.8530</td></tr>\n",
              "\t<tr><td>Afghanistan</td><td>Asia</td><td>1962</td><td>383.964</td><td>10267083</td><td>853.1007</td></tr>\n",
              "\t<tr><td>Afghanistan</td><td>Asia</td><td>1967</td><td>408.240</td><td>11537966</td><td>836.1971</td></tr>\n",
              "\t<tr><td>Afghanistan</td><td>Asia</td><td>1972</td><td>433.056</td><td>13079460</td><td>739.9811</td></tr>\n",
              "\t<tr><td>Afghanistan</td><td>Asia</td><td>1977</td><td>461.256</td><td>14880372</td><td>786.1134</td></tr>\n",
              "</tbody>\n",
              "</table>\n"
            ],
            "text/markdown": "\nA tibble: 6 × 6\n\n| country &lt;fct&gt; | continent &lt;fct&gt; | year &lt;int&gt; | lifeExp &lt;dbl&gt; | pop &lt;int&gt; | gdpPercap &lt;dbl&gt; |\n|---|---|---|---|---|---|\n| Afghanistan | Asia | 1952 | 345.612 |  8425333 | 779.4453 |\n| Afghanistan | Asia | 1957 | 363.984 |  9240934 | 820.8530 |\n| Afghanistan | Asia | 1962 | 383.964 | 10267083 | 853.1007 |\n| Afghanistan | Asia | 1967 | 408.240 | 11537966 | 836.1971 |\n| Afghanistan | Asia | 1972 | 433.056 | 13079460 | 739.9811 |\n| Afghanistan | Asia | 1977 | 461.256 | 14880372 | 786.1134 |\n\n",
            "text/latex": "A tibble: 6 × 6\n\\begin{tabular}{llllll}\n country & continent & year & lifeExp & pop & gdpPercap\\\\\n <fct> & <fct> & <int> & <dbl> & <int> & <dbl>\\\\\n\\hline\n\t Afghanistan & Asia & 1952 & 345.612 &  8425333 & 779.4453\\\\\n\t Afghanistan & Asia & 1957 & 363.984 &  9240934 & 820.8530\\\\\n\t Afghanistan & Asia & 1962 & 383.964 & 10267083 & 853.1007\\\\\n\t Afghanistan & Asia & 1967 & 408.240 & 11537966 & 836.1971\\\\\n\t Afghanistan & Asia & 1972 & 433.056 & 13079460 & 739.9811\\\\\n\t Afghanistan & Asia & 1977 & 461.256 & 14880372 & 786.1134\\\\\n\\end{tabular}\n",
            "text/plain": [
              "  country     continent year lifeExp pop      gdpPercap\n",
              "1 Afghanistan Asia      1952 345.612  8425333 779.4453 \n",
              "2 Afghanistan Asia      1957 363.984  9240934 820.8530 \n",
              "3 Afghanistan Asia      1962 383.964 10267083 853.1007 \n",
              "4 Afghanistan Asia      1967 408.240 11537966 836.1971 \n",
              "5 Afghanistan Asia      1972 433.056 13079460 739.9811 \n",
              "6 Afghanistan Asia      1977 461.256 14880372 786.1134 "
            ]
          },
          "metadata": {}
        }
      ]
    },
    {
      "cell_type": "code",
      "source": [
        "head(b)"
      ],
      "metadata": {
        "colab": {
          "base_uri": "https://localhost:8080/",
          "height": 286
        },
        "id": "PtzY2lsJ4GcQ",
        "outputId": "f0b43a18-99a1-43a1-bcae-14bd96f6bde6"
      },
      "execution_count": 23,
      "outputs": [
        {
          "output_type": "display_data",
          "data": {
            "text/html": [
              "<table class=\"dataframe\">\n",
              "<caption>A tibble: 6 × 7</caption>\n",
              "<thead>\n",
              "\t<tr><th scope=col>country</th><th scope=col>continent</th><th scope=col>year</th><th scope=col>lifeExp</th><th scope=col>pop</th><th scope=col>gdpPercap</th><th scope=col>lifeExpMonths</th></tr>\n",
              "\t<tr><th scope=col>&lt;fct&gt;</th><th scope=col>&lt;fct&gt;</th><th scope=col>&lt;int&gt;</th><th scope=col>&lt;dbl&gt;</th><th scope=col>&lt;int&gt;</th><th scope=col>&lt;dbl&gt;</th><th scope=col>&lt;dbl&gt;</th></tr>\n",
              "</thead>\n",
              "<tbody>\n",
              "\t<tr><td>Afghanistan</td><td>Asia</td><td>1952</td><td>28.801</td><td> 8425333</td><td>779.4453</td><td>345.612</td></tr>\n",
              "\t<tr><td>Afghanistan</td><td>Asia</td><td>1957</td><td>30.332</td><td> 9240934</td><td>820.8530</td><td>363.984</td></tr>\n",
              "\t<tr><td>Afghanistan</td><td>Asia</td><td>1962</td><td>31.997</td><td>10267083</td><td>853.1007</td><td>383.964</td></tr>\n",
              "\t<tr><td>Afghanistan</td><td>Asia</td><td>1967</td><td>34.020</td><td>11537966</td><td>836.1971</td><td>408.240</td></tr>\n",
              "\t<tr><td>Afghanistan</td><td>Asia</td><td>1972</td><td>36.088</td><td>13079460</td><td>739.9811</td><td>433.056</td></tr>\n",
              "\t<tr><td>Afghanistan</td><td>Asia</td><td>1977</td><td>38.438</td><td>14880372</td><td>786.1134</td><td>461.256</td></tr>\n",
              "</tbody>\n",
              "</table>\n"
            ],
            "text/markdown": "\nA tibble: 6 × 7\n\n| country &lt;fct&gt; | continent &lt;fct&gt; | year &lt;int&gt; | lifeExp &lt;dbl&gt; | pop &lt;int&gt; | gdpPercap &lt;dbl&gt; | lifeExpMonths &lt;dbl&gt; |\n|---|---|---|---|---|---|---|\n| Afghanistan | Asia | 1952 | 28.801 |  8425333 | 779.4453 | 345.612 |\n| Afghanistan | Asia | 1957 | 30.332 |  9240934 | 820.8530 | 363.984 |\n| Afghanistan | Asia | 1962 | 31.997 | 10267083 | 853.1007 | 383.964 |\n| Afghanistan | Asia | 1967 | 34.020 | 11537966 | 836.1971 | 408.240 |\n| Afghanistan | Asia | 1972 | 36.088 | 13079460 | 739.9811 | 433.056 |\n| Afghanistan | Asia | 1977 | 38.438 | 14880372 | 786.1134 | 461.256 |\n\n",
            "text/latex": "A tibble: 6 × 7\n\\begin{tabular}{lllllll}\n country & continent & year & lifeExp & pop & gdpPercap & lifeExpMonths\\\\\n <fct> & <fct> & <int> & <dbl> & <int> & <dbl> & <dbl>\\\\\n\\hline\n\t Afghanistan & Asia & 1952 & 28.801 &  8425333 & 779.4453 & 345.612\\\\\n\t Afghanistan & Asia & 1957 & 30.332 &  9240934 & 820.8530 & 363.984\\\\\n\t Afghanistan & Asia & 1962 & 31.997 & 10267083 & 853.1007 & 383.964\\\\\n\t Afghanistan & Asia & 1967 & 34.020 & 11537966 & 836.1971 & 408.240\\\\\n\t Afghanistan & Asia & 1972 & 36.088 & 13079460 & 739.9811 & 433.056\\\\\n\t Afghanistan & Asia & 1977 & 38.438 & 14880372 & 786.1134 & 461.256\\\\\n\\end{tabular}\n",
            "text/plain": [
              "  country     continent year lifeExp pop      gdpPercap lifeExpMonths\n",
              "1 Afghanistan Asia      1952 28.801   8425333 779.4453  345.612      \n",
              "2 Afghanistan Asia      1957 30.332   9240934 820.8530  363.984      \n",
              "3 Afghanistan Asia      1962 31.997  10267083 853.1007  383.964      \n",
              "4 Afghanistan Asia      1967 34.020  11537966 836.1971  408.240      \n",
              "5 Afghanistan Asia      1972 36.088  13079460 739.9811  433.056      \n",
              "6 Afghanistan Asia      1977 38.438  14880372 786.1134  461.256      "
            ]
          },
          "metadata": {}
        }
      ]
    }
  ]
}